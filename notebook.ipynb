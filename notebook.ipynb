{
 "cells": [
  {
   "cell_type": "code",
   "execution_count": 1,
   "metadata": {
    "execution": {
     "iopub.execute_input": "2025-03-16T12:11:40.344304Z",
     "iopub.status.busy": "2025-03-16T12:11:40.343921Z",
     "iopub.status.idle": "2025-03-16T12:11:41.342326Z",
     "shell.execute_reply": "2025-03-16T12:11:41.341637Z",
     "shell.execute_reply.started": "2025-03-16T12:11:40.344269Z"
    },
    "trusted": true
   },
   "outputs": [],
   "source": [
    "# import libraries\n",
    "import pandas as pd\n",
    "import numpy as np"
   ]
  },
  {
   "cell_type": "markdown",
   "metadata": {},
   "source": [
    "The main objective of this project is to create **a movie recommendation system** based on the TMDb dataset(The Movie Database), which is a comprehensive movie database that provides information about movies, including details like titles, ratings, release dates, revenue, genres, and much more.\n",
    "<br><br>The original dataset can be found here https://www.kaggle.com/datasets/asaniczka/tmdb-movies-dataset-2023-930k-movies/data\n",
    "<br>It contains real-time movie information and updated to include movies in 2024."
   ]
  },
  {
   "cell_type": "markdown",
   "metadata": {},
   "source": [
    "This recommendation system suggests similar movies based on the ***similarity*** between each movie, based on genres, keywords, ratings, language etc."
   ]
  },
  {
   "cell_type": "markdown",
   "metadata": {},
   "source": [
    "## Data Exploration"
   ]
  },
  {
   "cell_type": "code",
   "execution_count": 2,
   "metadata": {
    "execution": {
     "iopub.execute_input": "2025-03-16T12:11:46.657077Z",
     "iopub.status.busy": "2025-03-16T12:11:46.656653Z",
     "iopub.status.idle": "2025-03-16T12:12:03.096082Z",
     "shell.execute_reply": "2025-03-16T12:12:03.095384Z",
     "shell.execute_reply.started": "2025-03-16T12:11:46.657041Z"
    },
    "trusted": true
   },
   "outputs": [],
   "source": [
    "# load dataset\n",
    "df = pd.read_csv('/kaggle/input/tmdb-movies-dataset-2023-930k-movies/TMDB_movie_dataset_v11.csv')"
   ]
  },
  {
   "cell_type": "code",
   "execution_count": 4,
   "metadata": {
    "execution": {
     "iopub.execute_input": "2025-03-16T12:12:03.129793Z",
     "iopub.status.busy": "2025-03-16T12:12:03.129482Z",
     "iopub.status.idle": "2025-03-16T12:12:03.151971Z",
     "shell.execute_reply": "2025-03-16T12:12:03.151310Z",
     "shell.execute_reply.started": "2025-03-16T12:12:03.129761Z"
    },
    "trusted": true
   },
   "outputs": [
    {
     "data": {
      "text/html": [
       "<div>\n",
       "<style scoped>\n",
       "    .dataframe tbody tr th:only-of-type {\n",
       "        vertical-align: middle;\n",
       "    }\n",
       "\n",
       "    .dataframe tbody tr th {\n",
       "        vertical-align: top;\n",
       "    }\n",
       "\n",
       "    .dataframe thead th {\n",
       "        text-align: right;\n",
       "    }\n",
       "</style>\n",
       "<table border=\"1\" class=\"dataframe\">\n",
       "  <thead>\n",
       "    <tr style=\"text-align: right;\">\n",
       "      <th></th>\n",
       "      <th>id</th>\n",
       "      <th>title</th>\n",
       "      <th>vote_average</th>\n",
       "      <th>vote_count</th>\n",
       "      <th>status</th>\n",
       "      <th>release_date</th>\n",
       "      <th>revenue</th>\n",
       "      <th>runtime</th>\n",
       "      <th>adult</th>\n",
       "      <th>backdrop_path</th>\n",
       "      <th>budget</th>\n",
       "      <th>homepage</th>\n",
       "      <th>imdb_id</th>\n",
       "      <th>original_language</th>\n",
       "      <th>original_title</th>\n",
       "      <th>overview</th>\n",
       "      <th>popularity</th>\n",
       "      <th>poster_path</th>\n",
       "      <th>tagline</th>\n",
       "      <th>genres</th>\n",
       "      <th>production_companies</th>\n",
       "      <th>production_countries</th>\n",
       "      <th>spoken_languages</th>\n",
       "      <th>keywords</th>\n",
       "    </tr>\n",
       "  </thead>\n",
       "  <tbody>\n",
       "    <tr>\n",
       "      <th>0</th>\n",
       "      <td>27205</td>\n",
       "      <td>Inception</td>\n",
       "      <td>8.364</td>\n",
       "      <td>34495</td>\n",
       "      <td>Released</td>\n",
       "      <td>2010-07-15</td>\n",
       "      <td>825532764</td>\n",
       "      <td>148</td>\n",
       "      <td>False</td>\n",
       "      <td>/8ZTVqvKDQ8emSGUEMjsS4yHAwrp.jpg</td>\n",
       "      <td>160000000</td>\n",
       "      <td>https://www.warnerbros.com/movies/inception</td>\n",
       "      <td>tt1375666</td>\n",
       "      <td>en</td>\n",
       "      <td>Inception</td>\n",
       "      <td>Cobb, a skilled thief who commits corporate es...</td>\n",
       "      <td>83.952</td>\n",
       "      <td>/oYuLEt3zVCKq57qu2F8dT7NIa6f.jpg</td>\n",
       "      <td>Your mind is the scene of the crime.</td>\n",
       "      <td>Action, Science Fiction, Adventure</td>\n",
       "      <td>Legendary Pictures, Syncopy, Warner Bros. Pict...</td>\n",
       "      <td>United Kingdom, United States of America</td>\n",
       "      <td>English, French, Japanese, Swahili</td>\n",
       "      <td>rescue, mission, dream, airplane, paris, franc...</td>\n",
       "    </tr>\n",
       "    <tr>\n",
       "      <th>1</th>\n",
       "      <td>157336</td>\n",
       "      <td>Interstellar</td>\n",
       "      <td>8.417</td>\n",
       "      <td>32571</td>\n",
       "      <td>Released</td>\n",
       "      <td>2014-11-05</td>\n",
       "      <td>701729206</td>\n",
       "      <td>169</td>\n",
       "      <td>False</td>\n",
       "      <td>/pbrkL804c8yAv3zBZR4QPEafpAR.jpg</td>\n",
       "      <td>165000000</td>\n",
       "      <td>http://www.interstellarmovie.net/</td>\n",
       "      <td>tt0816692</td>\n",
       "      <td>en</td>\n",
       "      <td>Interstellar</td>\n",
       "      <td>The adventures of a group of explorers who mak...</td>\n",
       "      <td>140.241</td>\n",
       "      <td>/gEU2QniE6E77NI6lCU6MxlNBvIx.jpg</td>\n",
       "      <td>Mankind was born on Earth. It was never meant ...</td>\n",
       "      <td>Adventure, Drama, Science Fiction</td>\n",
       "      <td>Legendary Pictures, Syncopy, Lynda Obst Produc...</td>\n",
       "      <td>United Kingdom, United States of America</td>\n",
       "      <td>English</td>\n",
       "      <td>rescue, future, spacecraft, race against time,...</td>\n",
       "    </tr>\n",
       "    <tr>\n",
       "      <th>2</th>\n",
       "      <td>155</td>\n",
       "      <td>The Dark Knight</td>\n",
       "      <td>8.512</td>\n",
       "      <td>30619</td>\n",
       "      <td>Released</td>\n",
       "      <td>2008-07-16</td>\n",
       "      <td>1004558444</td>\n",
       "      <td>152</td>\n",
       "      <td>False</td>\n",
       "      <td>/nMKdUUepR0i5zn0y1T4CsSB5chy.jpg</td>\n",
       "      <td>185000000</td>\n",
       "      <td>https://www.warnerbros.com/movies/dark-knight/</td>\n",
       "      <td>tt0468569</td>\n",
       "      <td>en</td>\n",
       "      <td>The Dark Knight</td>\n",
       "      <td>Batman raises the stakes in his war on crime. ...</td>\n",
       "      <td>130.643</td>\n",
       "      <td>/qJ2tW6WMUDux911r6m7haRef0WH.jpg</td>\n",
       "      <td>Welcome to a world without rules.</td>\n",
       "      <td>Drama, Action, Crime, Thriller</td>\n",
       "      <td>DC Comics, Legendary Pictures, Syncopy, Isobel...</td>\n",
       "      <td>United Kingdom, United States of America</td>\n",
       "      <td>English, Mandarin</td>\n",
       "      <td>joker, sadism, chaos, secret identity, crime f...</td>\n",
       "    </tr>\n",
       "    <tr>\n",
       "      <th>3</th>\n",
       "      <td>19995</td>\n",
       "      <td>Avatar</td>\n",
       "      <td>7.573</td>\n",
       "      <td>29815</td>\n",
       "      <td>Released</td>\n",
       "      <td>2009-12-15</td>\n",
       "      <td>2923706026</td>\n",
       "      <td>162</td>\n",
       "      <td>False</td>\n",
       "      <td>/vL5LR6WdxWPjLPFRLe133jXWsh5.jpg</td>\n",
       "      <td>237000000</td>\n",
       "      <td>https://www.avatar.com/movies/avatar</td>\n",
       "      <td>tt0499549</td>\n",
       "      <td>en</td>\n",
       "      <td>Avatar</td>\n",
       "      <td>In the 22nd century, a paraplegic Marine is di...</td>\n",
       "      <td>79.932</td>\n",
       "      <td>/kyeqWdyUXW608qlYkRqosgbbJyK.jpg</td>\n",
       "      <td>Enter the world of Pandora.</td>\n",
       "      <td>Action, Adventure, Fantasy, Science Fiction</td>\n",
       "      <td>Dune Entertainment, Lightstorm Entertainment, ...</td>\n",
       "      <td>United States of America, United Kingdom</td>\n",
       "      <td>English, Spanish</td>\n",
       "      <td>future, society, culture clash, space travel, ...</td>\n",
       "    </tr>\n",
       "    <tr>\n",
       "      <th>4</th>\n",
       "      <td>24428</td>\n",
       "      <td>The Avengers</td>\n",
       "      <td>7.710</td>\n",
       "      <td>29166</td>\n",
       "      <td>Released</td>\n",
       "      <td>2012-04-25</td>\n",
       "      <td>1518815515</td>\n",
       "      <td>143</td>\n",
       "      <td>False</td>\n",
       "      <td>/9BBTo63ANSmhC4e6r62OJFuK2GL.jpg</td>\n",
       "      <td>220000000</td>\n",
       "      <td>https://www.marvel.com/movies/the-avengers</td>\n",
       "      <td>tt0848228</td>\n",
       "      <td>en</td>\n",
       "      <td>The Avengers</td>\n",
       "      <td>When an unexpected enemy emerges and threatens...</td>\n",
       "      <td>98.082</td>\n",
       "      <td>/RYMX2wcKCBAr24UyPD7xwmjaTn.jpg</td>\n",
       "      <td>Some assembly required.</td>\n",
       "      <td>Science Fiction, Action, Adventure</td>\n",
       "      <td>Marvel Studios</td>\n",
       "      <td>United States of America</td>\n",
       "      <td>English, Hindi, Russian</td>\n",
       "      <td>new york city, superhero, shield, based on com...</td>\n",
       "    </tr>\n",
       "  </tbody>\n",
       "</table>\n",
       "</div>"
      ],
      "text/plain": [
       "       id            title  vote_average  vote_count    status release_date  \\\n",
       "0   27205        Inception         8.364       34495  Released   2010-07-15   \n",
       "1  157336     Interstellar         8.417       32571  Released   2014-11-05   \n",
       "2     155  The Dark Knight         8.512       30619  Released   2008-07-16   \n",
       "3   19995           Avatar         7.573       29815  Released   2009-12-15   \n",
       "4   24428     The Avengers         7.710       29166  Released   2012-04-25   \n",
       "\n",
       "      revenue  runtime  adult                     backdrop_path     budget  \\\n",
       "0   825532764      148  False  /8ZTVqvKDQ8emSGUEMjsS4yHAwrp.jpg  160000000   \n",
       "1   701729206      169  False  /pbrkL804c8yAv3zBZR4QPEafpAR.jpg  165000000   \n",
       "2  1004558444      152  False  /nMKdUUepR0i5zn0y1T4CsSB5chy.jpg  185000000   \n",
       "3  2923706026      162  False  /vL5LR6WdxWPjLPFRLe133jXWsh5.jpg  237000000   \n",
       "4  1518815515      143  False  /9BBTo63ANSmhC4e6r62OJFuK2GL.jpg  220000000   \n",
       "\n",
       "                                         homepage    imdb_id  \\\n",
       "0     https://www.warnerbros.com/movies/inception  tt1375666   \n",
       "1               http://www.interstellarmovie.net/  tt0816692   \n",
       "2  https://www.warnerbros.com/movies/dark-knight/  tt0468569   \n",
       "3            https://www.avatar.com/movies/avatar  tt0499549   \n",
       "4      https://www.marvel.com/movies/the-avengers  tt0848228   \n",
       "\n",
       "  original_language   original_title  \\\n",
       "0                en        Inception   \n",
       "1                en     Interstellar   \n",
       "2                en  The Dark Knight   \n",
       "3                en           Avatar   \n",
       "4                en     The Avengers   \n",
       "\n",
       "                                            overview  popularity  \\\n",
       "0  Cobb, a skilled thief who commits corporate es...      83.952   \n",
       "1  The adventures of a group of explorers who mak...     140.241   \n",
       "2  Batman raises the stakes in his war on crime. ...     130.643   \n",
       "3  In the 22nd century, a paraplegic Marine is di...      79.932   \n",
       "4  When an unexpected enemy emerges and threatens...      98.082   \n",
       "\n",
       "                        poster_path  \\\n",
       "0  /oYuLEt3zVCKq57qu2F8dT7NIa6f.jpg   \n",
       "1  /gEU2QniE6E77NI6lCU6MxlNBvIx.jpg   \n",
       "2  /qJ2tW6WMUDux911r6m7haRef0WH.jpg   \n",
       "3  /kyeqWdyUXW608qlYkRqosgbbJyK.jpg   \n",
       "4   /RYMX2wcKCBAr24UyPD7xwmjaTn.jpg   \n",
       "\n",
       "                                             tagline  \\\n",
       "0               Your mind is the scene of the crime.   \n",
       "1  Mankind was born on Earth. It was never meant ...   \n",
       "2                  Welcome to a world without rules.   \n",
       "3                        Enter the world of Pandora.   \n",
       "4                            Some assembly required.   \n",
       "\n",
       "                                        genres  \\\n",
       "0           Action, Science Fiction, Adventure   \n",
       "1            Adventure, Drama, Science Fiction   \n",
       "2               Drama, Action, Crime, Thriller   \n",
       "3  Action, Adventure, Fantasy, Science Fiction   \n",
       "4           Science Fiction, Action, Adventure   \n",
       "\n",
       "                                production_companies  \\\n",
       "0  Legendary Pictures, Syncopy, Warner Bros. Pict...   \n",
       "1  Legendary Pictures, Syncopy, Lynda Obst Produc...   \n",
       "2  DC Comics, Legendary Pictures, Syncopy, Isobel...   \n",
       "3  Dune Entertainment, Lightstorm Entertainment, ...   \n",
       "4                                     Marvel Studios   \n",
       "\n",
       "                       production_countries  \\\n",
       "0  United Kingdom, United States of America   \n",
       "1  United Kingdom, United States of America   \n",
       "2  United Kingdom, United States of America   \n",
       "3  United States of America, United Kingdom   \n",
       "4                  United States of America   \n",
       "\n",
       "                     spoken_languages  \\\n",
       "0  English, French, Japanese, Swahili   \n",
       "1                             English   \n",
       "2                   English, Mandarin   \n",
       "3                    English, Spanish   \n",
       "4             English, Hindi, Russian   \n",
       "\n",
       "                                            keywords  \n",
       "0  rescue, mission, dream, airplane, paris, franc...  \n",
       "1  rescue, future, spacecraft, race against time,...  \n",
       "2  joker, sadism, chaos, secret identity, crime f...  \n",
       "3  future, society, culture clash, space travel, ...  \n",
       "4  new york city, superhero, shield, based on com...  "
      ]
     },
     "execution_count": 4,
     "metadata": {},
     "output_type": "execute_result"
    }
   ],
   "source": [
    "# display all columns & the head rows of the dataset\n",
    "pd.set_option('display.max_columns', None)\n",
    "df.head()"
   ]
  },
  {
   "cell_type": "code",
   "execution_count": 5,
   "metadata": {
    "trusted": true
   },
   "outputs": [
    {
     "name": "stdout",
     "output_type": "stream",
     "text": [
      "<class 'pandas.core.frame.DataFrame'>\n",
      "RangeIndex: 1192353 entries, 0 to 1192352\n",
      "Data columns (total 24 columns):\n",
      " #   Column                Non-Null Count    Dtype  \n",
      "---  ------                --------------    -----  \n",
      " 0   id                    1192353 non-null  int64  \n",
      " 1   title                 1192340 non-null  object \n",
      " 2   vote_average          1192353 non-null  float64\n",
      " 3   vote_count            1192353 non-null  int64  \n",
      " 4   status                1192353 non-null  object \n",
      " 5   release_date          981369 non-null   object \n",
      " 6   revenue               1192353 non-null  int64  \n",
      " 7   runtime               1192353 non-null  int64  \n",
      " 8   adult                 1192353 non-null  bool   \n",
      " 9   backdrop_path         312422 non-null   object \n",
      " 10  budget                1192353 non-null  int64  \n",
      " 11  homepage              125531 non-null   object \n",
      " 12  imdb_id               615899 non-null   object \n",
      " 13  original_language     1192353 non-null  object \n",
      " 14  original_title        1192340 non-null  object \n",
      " 15  overview              943059 non-null   object \n",
      " 16  popularity            1192353 non-null  float64\n",
      " 17  poster_path           805466 non-null   object \n",
      " 18  tagline               167002 non-null   object \n",
      " 19  genres                704279 non-null   object \n",
      " 20  production_companies  532166 non-null   object \n",
      " 21  production_countries  652919 non-null   object \n",
      " 22  spoken_languages      673324 non-null   object \n",
      " 23  keywords              316357 non-null   object \n",
      "dtypes: bool(1), float64(2), int64(5), object(16)\n",
      "memory usage: 210.4+ MB\n"
     ]
    }
   ],
   "source": [
    "df.info()"
   ]
  },
  {
   "cell_type": "markdown",
   "metadata": {},
   "source": [
    "There are over 1 million records of movies in our dataset, 23 attributes are documented, including title, vote counts, revenue, etc.\n",
    "<br>Most columns are in object format(conversion needed), and **key features** include:\n",
    "1. **movie itself**: id, title, genres, runtime, adult, original language, keywords, release year...\n",
    "2. **rating & popularity**: vote counts, popularity...\n",
    "3. **profitability**: revenue, budget, production companies & countries..."
   ]
  },
  {
   "cell_type": "markdown",
   "metadata": {},
   "source": [
    "Since the stakeholder of our recommendatoion system is audiences instead of investors, thus our model is not concerned about the profitability, so **columns such as revenue, budgets, should be removed during data preprocessing stage**."
   ]
  },
  {
   "cell_type": "code",
   "execution_count": 7,
   "metadata": {
    "execution": {
     "iopub.execute_input": "2025-03-16T10:00:11.296775Z",
     "iopub.status.busy": "2025-03-16T10:00:11.296404Z",
     "iopub.status.idle": "2025-03-16T10:00:12.079765Z",
     "shell.execute_reply": "2025-03-16T10:00:12.078841Z",
     "shell.execute_reply.started": "2025-03-16T10:00:11.296749Z"
    },
    "trusted": true
   },
   "outputs": [
    {
     "data": {
      "text/plain": [
       "id                            0\n",
       "title                        13\n",
       "vote_average                  0\n",
       "vote_count                    0\n",
       "status                        0\n",
       "release_date             210984\n",
       "revenue                       0\n",
       "runtime                       0\n",
       "adult                         0\n",
       "backdrop_path            879931\n",
       "budget                        0\n",
       "homepage                1066822\n",
       "imdb_id                  576454\n",
       "original_language             0\n",
       "original_title               13\n",
       "overview                 249294\n",
       "popularity                    0\n",
       "poster_path              386887\n",
       "tagline                 1025351\n",
       "genres                   488074\n",
       "production_companies     660187\n",
       "production_countries     539434\n",
       "spoken_languages         519029\n",
       "keywords                 875996\n",
       "dtype: int64"
      ]
     },
     "execution_count": 7,
     "metadata": {},
     "output_type": "execute_result"
    }
   ],
   "source": [
    "# check for any missing values\n",
    "df.isnull().sum()"
   ]
  },
  {
   "cell_type": "markdown",
   "metadata": {},
   "source": [
    "Notied there are significant amount of missing values in columns such as backdrop paths, homepage, poster_path...Since these information are irrelevant to our model building, it is safe to ignore. \n",
    "<br>\n",
    "<br>However, **release_date** (17% missing) and **genres** (40% missing) are essential to our model development, so **new method should be implemented to solve this issue during data preprocessing stage**."
   ]
  },
  {
   "cell_type": "code",
   "execution_count": null,
   "metadata": {
    "execution": {
     "iopub.execute_input": "2025-03-15T16:23:11.830960Z",
     "iopub.status.busy": "2025-03-15T16:23:11.830623Z",
     "iopub.status.idle": "2025-03-15T16:23:15.383223Z",
     "shell.execute_reply": "2025-03-15T16:23:15.382476Z",
     "shell.execute_reply.started": "2025-03-15T16:23:11.830933Z"
    },
    "trusted": true
   },
   "outputs": [],
   "source": [
    "# check for any duplicates\n",
    "df.duplicated().sum()"
   ]
  },
  {
   "cell_type": "code",
   "execution_count": 5,
   "metadata": {
    "execution": {
     "iopub.execute_input": "2025-03-16T12:12:58.779596Z",
     "iopub.status.busy": "2025-03-16T12:12:58.779278Z",
     "iopub.status.idle": "2025-03-16T12:13:05.235731Z",
     "shell.execute_reply": "2025-03-16T12:13:05.234956Z",
     "shell.execute_reply.started": "2025-03-16T12:12:58.779572Z"
    },
    "trusted": true
   },
   "outputs": [
    {
     "data": {
      "text/plain": [
       "0"
      ]
     },
     "execution_count": 5,
     "metadata": {},
     "output_type": "execute_result"
    }
   ],
   "source": [
    "# relatively small numbers of duplicates, just drop them\n",
    "df.drop_duplicates(inplace=True)\n",
    "df.duplicated().sum()"
   ]
  },
  {
   "cell_type": "markdown",
   "metadata": {},
   "source": [
    "## Content-based Filtering"
   ]
  },
  {
   "cell_type": "markdown",
   "metadata": {},
   "source": [
    "Content-based filtering uses item features to recommend other items similar to what the user likes, based on their previous actions or explicit feedback.<br><br>\n",
    "In this case, I will focus on the **intrinsic attributes** of movies in our dataset, which include title, release date, runtime, adult, original language and genres. I will **extract relevant information**, **binary-encode each feature** and **vectorize each data entry**, so that I can **calculate the cosine similarity** between each movie for recommendation.\n"
   ]
  },
  {
   "cell_type": "markdown",
   "metadata": {},
   "source": [
    "## Feature Selection"
   ]
  },
  {
   "cell_type": "code",
   "execution_count": null,
   "metadata": {
    "execution": {
     "iopub.execute_input": "2025-03-15T07:41:16.694705Z",
     "iopub.status.busy": "2025-03-15T07:41:16.694401Z",
     "iopub.status.idle": "2025-03-15T07:41:16.748544Z",
     "shell.execute_reply": "2025-03-15T07:41:16.747793Z",
     "shell.execute_reply.started": "2025-03-15T07:41:16.694675Z"
    },
    "trusted": true
   },
   "outputs": [],
   "source": [
    "df['title'].isnull().sum()"
   ]
  },
  {
   "cell_type": "code",
   "execution_count": 6,
   "metadata": {
    "execution": {
     "iopub.execute_input": "2025-03-16T12:13:10.034972Z",
     "iopub.status.busy": "2025-03-16T12:13:10.034711Z",
     "iopub.status.idle": "2025-03-16T12:13:10.433491Z",
     "shell.execute_reply": "2025-03-16T12:13:10.432553Z",
     "shell.execute_reply.started": "2025-03-16T12:13:10.034954Z"
    },
    "trusted": true
   },
   "outputs": [],
   "source": [
    "df = df[~df['title'].isnull()]"
   ]
  },
  {
   "cell_type": "code",
   "execution_count": 7,
   "metadata": {
    "execution": {
     "iopub.execute_input": "2025-03-16T09:55:48.795241Z",
     "iopub.status.busy": "2025-03-16T09:55:48.794858Z",
     "iopub.status.idle": "2025-03-16T09:55:48.861289Z",
     "shell.execute_reply": "2025-03-16T09:55:48.860281Z",
     "shell.execute_reply.started": "2025-03-16T09:55:48.795197Z"
    },
    "trusted": true
   },
   "outputs": [
    {
     "data": {
      "text/plain": [
       "0"
      ]
     },
     "execution_count": 7,
     "metadata": {},
     "output_type": "execute_result"
    }
   ],
   "source": [
    "df['title'].isnull().sum()"
   ]
  },
  {
   "cell_type": "code",
   "execution_count": 7,
   "metadata": {
    "execution": {
     "iopub.execute_input": "2025-03-16T12:13:13.507462Z",
     "iopub.status.busy": "2025-03-16T12:13:13.507167Z",
     "iopub.status.idle": "2025-03-16T12:13:13.809201Z",
     "shell.execute_reply": "2025-03-16T12:13:13.808555Z",
     "shell.execute_reply.started": "2025-03-16T12:13:13.507439Z"
    },
    "trusted": true
   },
   "outputs": [],
   "source": [
    "df = df[~df['genres'].isnull()]"
   ]
  },
  {
   "cell_type": "code",
   "execution_count": 8,
   "metadata": {
    "execution": {
     "iopub.execute_input": "2025-03-16T12:13:18.763671Z",
     "iopub.status.busy": "2025-03-16T12:13:18.763337Z",
     "iopub.status.idle": "2025-03-16T12:13:18.797041Z",
     "shell.execute_reply": "2025-03-16T12:13:18.796231Z",
     "shell.execute_reply.started": "2025-03-16T12:13:18.763622Z"
    },
    "trusted": true
   },
   "outputs": [
    {
     "data": {
      "text/plain": [
       "0"
      ]
     },
     "execution_count": 8,
     "metadata": {},
     "output_type": "execute_result"
    }
   ],
   "source": [
    "df['genres'].isnull().sum()"
   ]
  },
  {
   "cell_type": "code",
   "execution_count": 9,
   "metadata": {
    "execution": {
     "iopub.execute_input": "2025-03-16T12:13:21.715854Z",
     "iopub.status.busy": "2025-03-16T12:13:21.715507Z",
     "iopub.status.idle": "2025-03-16T12:13:23.087321Z",
     "shell.execute_reply": "2025-03-16T12:13:23.086453Z",
     "shell.execute_reply.started": "2025-03-16T12:13:21.715830Z"
    },
    "trusted": true
   },
   "outputs": [
    {
     "data": {
      "text/html": [
       "<div>\n",
       "<style scoped>\n",
       "    .dataframe tbody tr th:only-of-type {\n",
       "        vertical-align: middle;\n",
       "    }\n",
       "\n",
       "    .dataframe tbody tr th {\n",
       "        vertical-align: top;\n",
       "    }\n",
       "\n",
       "    .dataframe thead th {\n",
       "        text-align: right;\n",
       "    }\n",
       "</style>\n",
       "<table border=\"1\" class=\"dataframe\">\n",
       "  <thead>\n",
       "    <tr style=\"text-align: right;\">\n",
       "      <th></th>\n",
       "      <th>id</th>\n",
       "      <th>title</th>\n",
       "      <th>vote_average</th>\n",
       "      <th>vote_count</th>\n",
       "      <th>status</th>\n",
       "      <th>release_date</th>\n",
       "      <th>revenue</th>\n",
       "      <th>runtime</th>\n",
       "      <th>adult</th>\n",
       "      <th>backdrop_path</th>\n",
       "      <th>budget</th>\n",
       "      <th>homepage</th>\n",
       "      <th>imdb_id</th>\n",
       "      <th>original_language</th>\n",
       "      <th>original_title</th>\n",
       "      <th>overview</th>\n",
       "      <th>popularity</th>\n",
       "      <th>poster_path</th>\n",
       "      <th>tagline</th>\n",
       "      <th>genres</th>\n",
       "      <th>production_companies</th>\n",
       "      <th>production_countries</th>\n",
       "      <th>spoken_languages</th>\n",
       "      <th>keywords</th>\n",
       "    </tr>\n",
       "  </thead>\n",
       "  <tbody>\n",
       "    <tr>\n",
       "      <th>0</th>\n",
       "      <td>27205</td>\n",
       "      <td>inception</td>\n",
       "      <td>8.364</td>\n",
       "      <td>34495</td>\n",
       "      <td>Released</td>\n",
       "      <td>2010-07-15</td>\n",
       "      <td>825532764</td>\n",
       "      <td>148</td>\n",
       "      <td>False</td>\n",
       "      <td>/8ZTVqvKDQ8emSGUEMjsS4yHAwrp.jpg</td>\n",
       "      <td>160000000</td>\n",
       "      <td>https://www.warnerbros.com/movies/inception</td>\n",
       "      <td>tt1375666</td>\n",
       "      <td>en</td>\n",
       "      <td>Inception</td>\n",
       "      <td>Cobb, a skilled thief who commits corporate es...</td>\n",
       "      <td>83.952</td>\n",
       "      <td>/oYuLEt3zVCKq57qu2F8dT7NIa6f.jpg</td>\n",
       "      <td>Your mind is the scene of the crime.</td>\n",
       "      <td>Action, Science Fiction, Adventure</td>\n",
       "      <td>Legendary Pictures, Syncopy, Warner Bros. Pict...</td>\n",
       "      <td>United Kingdom, United States of America</td>\n",
       "      <td>English, French, Japanese, Swahili</td>\n",
       "      <td>rescue, mission, dream, airplane, paris, franc...</td>\n",
       "    </tr>\n",
       "    <tr>\n",
       "      <th>1</th>\n",
       "      <td>157336</td>\n",
       "      <td>interstellar</td>\n",
       "      <td>8.417</td>\n",
       "      <td>32571</td>\n",
       "      <td>Released</td>\n",
       "      <td>2014-11-05</td>\n",
       "      <td>701729206</td>\n",
       "      <td>169</td>\n",
       "      <td>False</td>\n",
       "      <td>/pbrkL804c8yAv3zBZR4QPEafpAR.jpg</td>\n",
       "      <td>165000000</td>\n",
       "      <td>http://www.interstellarmovie.net/</td>\n",
       "      <td>tt0816692</td>\n",
       "      <td>en</td>\n",
       "      <td>Interstellar</td>\n",
       "      <td>The adventures of a group of explorers who mak...</td>\n",
       "      <td>140.241</td>\n",
       "      <td>/gEU2QniE6E77NI6lCU6MxlNBvIx.jpg</td>\n",
       "      <td>Mankind was born on Earth. It was never meant ...</td>\n",
       "      <td>Adventure, Drama, Science Fiction</td>\n",
       "      <td>Legendary Pictures, Syncopy, Lynda Obst Produc...</td>\n",
       "      <td>United Kingdom, United States of America</td>\n",
       "      <td>English</td>\n",
       "      <td>rescue, future, spacecraft, race against time,...</td>\n",
       "    </tr>\n",
       "    <tr>\n",
       "      <th>2</th>\n",
       "      <td>155</td>\n",
       "      <td>the dark knight</td>\n",
       "      <td>8.512</td>\n",
       "      <td>30619</td>\n",
       "      <td>Released</td>\n",
       "      <td>2008-07-16</td>\n",
       "      <td>1004558444</td>\n",
       "      <td>152</td>\n",
       "      <td>False</td>\n",
       "      <td>/nMKdUUepR0i5zn0y1T4CsSB5chy.jpg</td>\n",
       "      <td>185000000</td>\n",
       "      <td>https://www.warnerbros.com/movies/dark-knight/</td>\n",
       "      <td>tt0468569</td>\n",
       "      <td>en</td>\n",
       "      <td>The Dark Knight</td>\n",
       "      <td>Batman raises the stakes in his war on crime. ...</td>\n",
       "      <td>130.643</td>\n",
       "      <td>/qJ2tW6WMUDux911r6m7haRef0WH.jpg</td>\n",
       "      <td>Welcome to a world without rules.</td>\n",
       "      <td>Drama, Action, Crime, Thriller</td>\n",
       "      <td>DC Comics, Legendary Pictures, Syncopy, Isobel...</td>\n",
       "      <td>United Kingdom, United States of America</td>\n",
       "      <td>English, Mandarin</td>\n",
       "      <td>joker, sadism, chaos, secret identity, crime f...</td>\n",
       "    </tr>\n",
       "    <tr>\n",
       "      <th>3</th>\n",
       "      <td>19995</td>\n",
       "      <td>avatar</td>\n",
       "      <td>7.573</td>\n",
       "      <td>29815</td>\n",
       "      <td>Released</td>\n",
       "      <td>2009-12-15</td>\n",
       "      <td>2923706026</td>\n",
       "      <td>162</td>\n",
       "      <td>False</td>\n",
       "      <td>/vL5LR6WdxWPjLPFRLe133jXWsh5.jpg</td>\n",
       "      <td>237000000</td>\n",
       "      <td>https://www.avatar.com/movies/avatar</td>\n",
       "      <td>tt0499549</td>\n",
       "      <td>en</td>\n",
       "      <td>Avatar</td>\n",
       "      <td>In the 22nd century, a paraplegic Marine is di...</td>\n",
       "      <td>79.932</td>\n",
       "      <td>/kyeqWdyUXW608qlYkRqosgbbJyK.jpg</td>\n",
       "      <td>Enter the world of Pandora.</td>\n",
       "      <td>Action, Adventure, Fantasy, Science Fiction</td>\n",
       "      <td>Dune Entertainment, Lightstorm Entertainment, ...</td>\n",
       "      <td>United States of America, United Kingdom</td>\n",
       "      <td>English, Spanish</td>\n",
       "      <td>future, society, culture clash, space travel, ...</td>\n",
       "    </tr>\n",
       "    <tr>\n",
       "      <th>4</th>\n",
       "      <td>24428</td>\n",
       "      <td>the avengers</td>\n",
       "      <td>7.710</td>\n",
       "      <td>29166</td>\n",
       "      <td>Released</td>\n",
       "      <td>2012-04-25</td>\n",
       "      <td>1518815515</td>\n",
       "      <td>143</td>\n",
       "      <td>False</td>\n",
       "      <td>/9BBTo63ANSmhC4e6r62OJFuK2GL.jpg</td>\n",
       "      <td>220000000</td>\n",
       "      <td>https://www.marvel.com/movies/the-avengers</td>\n",
       "      <td>tt0848228</td>\n",
       "      <td>en</td>\n",
       "      <td>The Avengers</td>\n",
       "      <td>When an unexpected enemy emerges and threatens...</td>\n",
       "      <td>98.082</td>\n",
       "      <td>/RYMX2wcKCBAr24UyPD7xwmjaTn.jpg</td>\n",
       "      <td>Some assembly required.</td>\n",
       "      <td>Science Fiction, Action, Adventure</td>\n",
       "      <td>Marvel Studios</td>\n",
       "      <td>United States of America</td>\n",
       "      <td>English, Hindi, Russian</td>\n",
       "      <td>new york city, superhero, shield, based on com...</td>\n",
       "    </tr>\n",
       "  </tbody>\n",
       "</table>\n",
       "</div>"
      ],
      "text/plain": [
       "       id            title  vote_average  vote_count    status release_date  \\\n",
       "0   27205        inception         8.364       34495  Released   2010-07-15   \n",
       "1  157336     interstellar         8.417       32571  Released   2014-11-05   \n",
       "2     155  the dark knight         8.512       30619  Released   2008-07-16   \n",
       "3   19995           avatar         7.573       29815  Released   2009-12-15   \n",
       "4   24428     the avengers         7.710       29166  Released   2012-04-25   \n",
       "\n",
       "      revenue  runtime  adult                     backdrop_path     budget  \\\n",
       "0   825532764      148  False  /8ZTVqvKDQ8emSGUEMjsS4yHAwrp.jpg  160000000   \n",
       "1   701729206      169  False  /pbrkL804c8yAv3zBZR4QPEafpAR.jpg  165000000   \n",
       "2  1004558444      152  False  /nMKdUUepR0i5zn0y1T4CsSB5chy.jpg  185000000   \n",
       "3  2923706026      162  False  /vL5LR6WdxWPjLPFRLe133jXWsh5.jpg  237000000   \n",
       "4  1518815515      143  False  /9BBTo63ANSmhC4e6r62OJFuK2GL.jpg  220000000   \n",
       "\n",
       "                                         homepage    imdb_id  \\\n",
       "0     https://www.warnerbros.com/movies/inception  tt1375666   \n",
       "1               http://www.interstellarmovie.net/  tt0816692   \n",
       "2  https://www.warnerbros.com/movies/dark-knight/  tt0468569   \n",
       "3            https://www.avatar.com/movies/avatar  tt0499549   \n",
       "4      https://www.marvel.com/movies/the-avengers  tt0848228   \n",
       "\n",
       "  original_language   original_title  \\\n",
       "0                en        Inception   \n",
       "1                en     Interstellar   \n",
       "2                en  The Dark Knight   \n",
       "3                en           Avatar   \n",
       "4                en     The Avengers   \n",
       "\n",
       "                                            overview  popularity  \\\n",
       "0  Cobb, a skilled thief who commits corporate es...      83.952   \n",
       "1  The adventures of a group of explorers who mak...     140.241   \n",
       "2  Batman raises the stakes in his war on crime. ...     130.643   \n",
       "3  In the 22nd century, a paraplegic Marine is di...      79.932   \n",
       "4  When an unexpected enemy emerges and threatens...      98.082   \n",
       "\n",
       "                        poster_path  \\\n",
       "0  /oYuLEt3zVCKq57qu2F8dT7NIa6f.jpg   \n",
       "1  /gEU2QniE6E77NI6lCU6MxlNBvIx.jpg   \n",
       "2  /qJ2tW6WMUDux911r6m7haRef0WH.jpg   \n",
       "3  /kyeqWdyUXW608qlYkRqosgbbJyK.jpg   \n",
       "4   /RYMX2wcKCBAr24UyPD7xwmjaTn.jpg   \n",
       "\n",
       "                                             tagline  \\\n",
       "0               Your mind is the scene of the crime.   \n",
       "1  Mankind was born on Earth. It was never meant ...   \n",
       "2                  Welcome to a world without rules.   \n",
       "3                        Enter the world of Pandora.   \n",
       "4                            Some assembly required.   \n",
       "\n",
       "                                        genres  \\\n",
       "0           Action, Science Fiction, Adventure   \n",
       "1            Adventure, Drama, Science Fiction   \n",
       "2               Drama, Action, Crime, Thriller   \n",
       "3  Action, Adventure, Fantasy, Science Fiction   \n",
       "4           Science Fiction, Action, Adventure   \n",
       "\n",
       "                                production_companies  \\\n",
       "0  Legendary Pictures, Syncopy, Warner Bros. Pict...   \n",
       "1  Legendary Pictures, Syncopy, Lynda Obst Produc...   \n",
       "2  DC Comics, Legendary Pictures, Syncopy, Isobel...   \n",
       "3  Dune Entertainment, Lightstorm Entertainment, ...   \n",
       "4                                     Marvel Studios   \n",
       "\n",
       "                       production_countries  \\\n",
       "0  United Kingdom, United States of America   \n",
       "1  United Kingdom, United States of America   \n",
       "2  United Kingdom, United States of America   \n",
       "3  United States of America, United Kingdom   \n",
       "4                  United States of America   \n",
       "\n",
       "                     spoken_languages  \\\n",
       "0  English, French, Japanese, Swahili   \n",
       "1                             English   \n",
       "2                   English, Mandarin   \n",
       "3                    English, Spanish   \n",
       "4             English, Hindi, Russian   \n",
       "\n",
       "                                            keywords  \n",
       "0  rescue, mission, dream, airplane, paris, franc...  \n",
       "1  rescue, future, spacecraft, race against time,...  \n",
       "2  joker, sadism, chaos, secret identity, crime f...  \n",
       "3  future, society, culture clash, space travel, ...  \n",
       "4  new york city, superhero, shield, based on com...  "
      ]
     },
     "execution_count": 9,
     "metadata": {},
     "output_type": "execute_result"
    }
   ],
   "source": [
    "df['title'] = df['title'].str.strip().str.lower().str.replace(r'\\s+', ' ', regex=True)\n",
    "df.head()"
   ]
  },
  {
   "cell_type": "code",
   "execution_count": 10,
   "metadata": {
    "execution": {
     "iopub.execute_input": "2025-03-16T12:13:26.572886Z",
     "iopub.status.busy": "2025-03-16T12:13:26.572577Z",
     "iopub.status.idle": "2025-03-16T12:13:26.743983Z",
     "shell.execute_reply": "2025-03-16T12:13:26.743266Z",
     "shell.execute_reply.started": "2025-03-16T12:13:26.572864Z"
    },
    "trusted": true
   },
   "outputs": [
    {
     "data": {
      "text/plain": [
       "release_date\n",
       "1800.0     1\n",
       "1865.0     2\n",
       "1874.0     1\n",
       "1878.0    29\n",
       "1882.0     1\n",
       "          ..\n",
       "2061.0     1\n",
       "2069.0     1\n",
       "2074.0     1\n",
       "2085.0     1\n",
       "2099.0     1\n",
       "Name: count, Length: 161, dtype: int64"
      ]
     },
     "execution_count": 10,
     "metadata": {},
     "output_type": "execute_result"
    }
   ],
   "source": [
    "# convert release_date to datetime and extract year\n",
    "df['release_date'] = pd.to_datetime(df['release_date'])\n",
    "df['release_date'].dt.year.value_counts().sort_index()"
   ]
  },
  {
   "cell_type": "markdown",
   "metadata": {},
   "source": [
    "Noticed some years are wayyyy off the normal timeline, since the first movie ever released is in 1895, and the latest movie in this databse should be releaed in 2024."
   ]
  },
  {
   "cell_type": "code",
   "execution_count": null,
   "metadata": {
    "execution": {
     "iopub.execute_input": "2025-03-15T13:13:39.908797Z",
     "iopub.status.busy": "2025-03-15T13:13:39.908433Z",
     "iopub.status.idle": "2025-03-15T13:13:39.985740Z",
     "shell.execute_reply": "2025-03-15T13:13:39.984903Z",
     "shell.execute_reply.started": "2025-03-15T13:13:39.908769Z"
    },
    "trusted": true
   },
   "outputs": [],
   "source": [
    "# view the rows with release years before 1900\n",
    "df[df['release_date'].dt.year < 1900].sort_values('release_date')"
   ]
  },
  {
   "cell_type": "code",
   "execution_count": 22,
   "metadata": {
    "execution": {
     "iopub.execute_input": "2025-03-16T04:44:31.935417Z",
     "iopub.status.busy": "2025-03-16T04:44:31.935005Z",
     "iopub.status.idle": "2025-03-16T04:44:32.010362Z",
     "shell.execute_reply": "2025-03-16T04:44:32.009420Z",
     "shell.execute_reply.started": "2025-03-16T04:44:31.935388Z"
    },
    "trusted": true
   },
   "outputs": [
    {
     "data": {
      "text/html": [
       "<div>\n",
       "<style scoped>\n",
       "    .dataframe tbody tr th:only-of-type {\n",
       "        vertical-align: middle;\n",
       "    }\n",
       "\n",
       "    .dataframe tbody tr th {\n",
       "        vertical-align: top;\n",
       "    }\n",
       "\n",
       "    .dataframe thead th {\n",
       "        text-align: right;\n",
       "    }\n",
       "</style>\n",
       "<table border=\"1\" class=\"dataframe\">\n",
       "  <thead>\n",
       "    <tr style=\"text-align: right;\">\n",
       "      <th></th>\n",
       "      <th>id</th>\n",
       "      <th>title</th>\n",
       "      <th>vote_average</th>\n",
       "      <th>vote_count</th>\n",
       "      <th>status</th>\n",
       "      <th>release_date</th>\n",
       "      <th>revenue</th>\n",
       "      <th>runtime</th>\n",
       "      <th>adult</th>\n",
       "      <th>backdrop_path</th>\n",
       "      <th>...</th>\n",
       "      <th>original_title</th>\n",
       "      <th>overview</th>\n",
       "      <th>popularity</th>\n",
       "      <th>poster_path</th>\n",
       "      <th>tagline</th>\n",
       "      <th>genres</th>\n",
       "      <th>production_companies</th>\n",
       "      <th>production_countries</th>\n",
       "      <th>spoken_languages</th>\n",
       "      <th>keywords</th>\n",
       "    </tr>\n",
       "  </thead>\n",
       "  <tbody>\n",
       "    <tr>\n",
       "      <th>370834</th>\n",
       "      <td>1428525</td>\n",
       "      <td>francis</td>\n",
       "      <td>0.0</td>\n",
       "      <td>0</td>\n",
       "      <td>In Production</td>\n",
       "      <td>2025-12-31</td>\n",
       "      <td>0</td>\n",
       "      <td>15</td>\n",
       "      <td>False</td>\n",
       "      <td>NaN</td>\n",
       "      <td>...</td>\n",
       "      <td>Francis</td>\n",
       "      <td>Based loosely on the life of Saint Francis of ...</td>\n",
       "      <td>1.212</td>\n",
       "      <td>NaN</td>\n",
       "      <td>All we need is bread and water</td>\n",
       "      <td>Drama</td>\n",
       "      <td>Negativa Productions</td>\n",
       "      <td>NaN</td>\n",
       "      <td>English</td>\n",
       "      <td>NaN</td>\n",
       "    </tr>\n",
       "    <tr>\n",
       "      <th>721738</th>\n",
       "      <td>1380633</td>\n",
       "      <td>the edge of existence</td>\n",
       "      <td>0.0</td>\n",
       "      <td>0</td>\n",
       "      <td>In Production</td>\n",
       "      <td>2025-12-31</td>\n",
       "      <td>0</td>\n",
       "      <td>87</td>\n",
       "      <td>False</td>\n",
       "      <td>NaN</td>\n",
       "      <td>...</td>\n",
       "      <td>The Edge of Existence</td>\n",
       "      <td>Electronics lecturer, Cam Cameron, attempts to...</td>\n",
       "      <td>1.199</td>\n",
       "      <td>NaN</td>\n",
       "      <td>Electronics lecturer, Cam Cameron, attempts to...</td>\n",
       "      <td>Documentary</td>\n",
       "      <td>NaN</td>\n",
       "      <td>NaN</td>\n",
       "      <td>NaN</td>\n",
       "      <td>NaN</td>\n",
       "    </tr>\n",
       "    <tr>\n",
       "      <th>689018</th>\n",
       "      <td>1186135</td>\n",
       "      <td>literally slay!</td>\n",
       "      <td>0.0</td>\n",
       "      <td>0</td>\n",
       "      <td>Planned</td>\n",
       "      <td>2025-12-31</td>\n",
       "      <td>0</td>\n",
       "      <td>0</td>\n",
       "      <td>False</td>\n",
       "      <td>NaN</td>\n",
       "      <td>...</td>\n",
       "      <td>Literally Slay!</td>\n",
       "      <td>A Grooks Spinoff series starring Angela Smith,...</td>\n",
       "      <td>0.616</td>\n",
       "      <td>NaN</td>\n",
       "      <td>Literally Slay!</td>\n",
       "      <td>Comedy, Horror</td>\n",
       "      <td>Lausey Films</td>\n",
       "      <td>NaN</td>\n",
       "      <td>English</td>\n",
       "      <td>NaN</td>\n",
       "    </tr>\n",
       "    <tr>\n",
       "      <th>411911</th>\n",
       "      <td>1410309</td>\n",
       "      <td>prove it!</td>\n",
       "      <td>0.0</td>\n",
       "      <td>0</td>\n",
       "      <td>In Production</td>\n",
       "      <td>2025-12-31</td>\n",
       "      <td>0</td>\n",
       "      <td>0</td>\n",
       "      <td>False</td>\n",
       "      <td>NaN</td>\n",
       "      <td>...</td>\n",
       "      <td>Prove It!</td>\n",
       "      <td>NaN</td>\n",
       "      <td>0.600</td>\n",
       "      <td>/mswEm246IOTNzY3IUt8t3Y5F9DH.jpg</td>\n",
       "      <td>NaN</td>\n",
       "      <td>Romance, Animation</td>\n",
       "      <td>GAFG Studio</td>\n",
       "      <td>NaN</td>\n",
       "      <td>Turkish</td>\n",
       "      <td>prove it!, prove</td>\n",
       "    </tr>\n",
       "    <tr>\n",
       "      <th>387588</th>\n",
       "      <td>1412998</td>\n",
       "      <td>dogs</td>\n",
       "      <td>0.0</td>\n",
       "      <td>0</td>\n",
       "      <td>Planned</td>\n",
       "      <td>2025-12-31</td>\n",
       "      <td>0</td>\n",
       "      <td>0</td>\n",
       "      <td>False</td>\n",
       "      <td>/fMuC66aGHy7t5bHOZB46NLaTbx2.jpg</td>\n",
       "      <td>...</td>\n",
       "      <td>DOGS</td>\n",
       "      <td>In DOGS, a young girl named Andy sets out to h...</td>\n",
       "      <td>0.600</td>\n",
       "      <td>/9N5Yd6mg8mTQ7GYCaNGTlfdGTm4.jpg</td>\n",
       "      <td>When compassion gets cornered, who really wins?</td>\n",
       "      <td>Comedy, Drama</td>\n",
       "      <td>threesixty Productions, Renaissance Studio</td>\n",
       "      <td>NaN</td>\n",
       "      <td>NaN</td>\n",
       "      <td>NaN</td>\n",
       "    </tr>\n",
       "    <tr>\n",
       "      <th>...</th>\n",
       "      <td>...</td>\n",
       "      <td>...</td>\n",
       "      <td>...</td>\n",
       "      <td>...</td>\n",
       "      <td>...</td>\n",
       "      <td>...</td>\n",
       "      <td>...</td>\n",
       "      <td>...</td>\n",
       "      <td>...</td>\n",
       "      <td>...</td>\n",
       "      <td>...</td>\n",
       "      <td>...</td>\n",
       "      <td>...</td>\n",
       "      <td>...</td>\n",
       "      <td>...</td>\n",
       "      <td>...</td>\n",
       "      <td>...</td>\n",
       "      <td>...</td>\n",
       "      <td>...</td>\n",
       "      <td>...</td>\n",
       "      <td>...</td>\n",
       "    </tr>\n",
       "    <tr>\n",
       "      <th>681029</th>\n",
       "      <td>1406579</td>\n",
       "      <td>guy on the outside</td>\n",
       "      <td>0.0</td>\n",
       "      <td>0</td>\n",
       "      <td>Released</td>\n",
       "      <td>2025-01-01</td>\n",
       "      <td>0</td>\n",
       "      <td>9</td>\n",
       "      <td>False</td>\n",
       "      <td>NaN</td>\n",
       "      <td>...</td>\n",
       "      <td>Guy on the Outside</td>\n",
       "      <td>Plot Under Wraps, Releases Jan. 1, 2025.</td>\n",
       "      <td>0.000</td>\n",
       "      <td>NaN</td>\n",
       "      <td>What If You Just... Go Outside?</td>\n",
       "      <td>Comedy</td>\n",
       "      <td>Bob Bear Pictures</td>\n",
       "      <td>NaN</td>\n",
       "      <td>NaN</td>\n",
       "      <td>NaN</td>\n",
       "    </tr>\n",
       "    <tr>\n",
       "      <th>577776</th>\n",
       "      <td>1266839</td>\n",
       "      <td>thunderbolt fantasy: touri-ken yuuki saishuushou</td>\n",
       "      <td>0.0</td>\n",
       "      <td>0</td>\n",
       "      <td>In Production</td>\n",
       "      <td>2025-01-01</td>\n",
       "      <td>0</td>\n",
       "      <td>0</td>\n",
       "      <td>False</td>\n",
       "      <td>NaN</td>\n",
       "      <td>...</td>\n",
       "      <td>Thunderbolt Fantasy: Touri-ken Yuuki Saishuushou</td>\n",
       "      <td>Final conclusion to Thunderbolt fantasy</td>\n",
       "      <td>0.000</td>\n",
       "      <td>NaN</td>\n",
       "      <td>NaN</td>\n",
       "      <td>Animation, Action, Fantasy</td>\n",
       "      <td>PiLi International Multimedia</td>\n",
       "      <td>NaN</td>\n",
       "      <td>Japanese</td>\n",
       "      <td>NaN</td>\n",
       "    </tr>\n",
       "    <tr>\n",
       "      <th>387462</th>\n",
       "      <td>1412451</td>\n",
       "      <td>real fake streets</td>\n",
       "      <td>0.0</td>\n",
       "      <td>0</td>\n",
       "      <td>Released</td>\n",
       "      <td>2025-01-01</td>\n",
       "      <td>0</td>\n",
       "      <td>86</td>\n",
       "      <td>False</td>\n",
       "      <td>NaN</td>\n",
       "      <td>...</td>\n",
       "      <td>Real Fake Streets</td>\n",
       "      <td>For the past two months, we dedicated out live...</td>\n",
       "      <td>1.400</td>\n",
       "      <td>/71v5oGIO0L5aeZnKUXlgk7rbvn6.jpg</td>\n",
       "      <td>NaN</td>\n",
       "      <td>Documentary, Drama</td>\n",
       "      <td>June 1st Films</td>\n",
       "      <td>NaN</td>\n",
       "      <td>NaN</td>\n",
       "      <td>mockumentary, real, boxing, fake, rapper wanna...</td>\n",
       "    </tr>\n",
       "    <tr>\n",
       "      <th>533129</th>\n",
       "      <td>1435330</td>\n",
       "      <td>take away</td>\n",
       "      <td>0.0</td>\n",
       "      <td>0</td>\n",
       "      <td>Released</td>\n",
       "      <td>2025-01-01</td>\n",
       "      <td>0</td>\n",
       "      <td>9</td>\n",
       "      <td>False</td>\n",
       "      <td>NaN</td>\n",
       "      <td>...</td>\n",
       "      <td>Take Away</td>\n",
       "      <td>We all fear being awakened by an unexpected ph...</td>\n",
       "      <td>1.326</td>\n",
       "      <td>NaN</td>\n",
       "      <td>NaN</td>\n",
       "      <td>Documentary</td>\n",
       "      <td>Big Whiskey Studios</td>\n",
       "      <td>United States of America</td>\n",
       "      <td>English</td>\n",
       "      <td>NaN</td>\n",
       "    </tr>\n",
       "    <tr>\n",
       "      <th>661310</th>\n",
       "      <td>1401648</td>\n",
       "      <td>a message from martha</td>\n",
       "      <td>0.0</td>\n",
       "      <td>0</td>\n",
       "      <td>In Production</td>\n",
       "      <td>2025-01-01</td>\n",
       "      <td>0</td>\n",
       "      <td>10</td>\n",
       "      <td>False</td>\n",
       "      <td>NaN</td>\n",
       "      <td>...</td>\n",
       "      <td>Hilsen fra Martha</td>\n",
       "      <td>Two young women, Leah and Ellinor, venture int...</td>\n",
       "      <td>1.400</td>\n",
       "      <td>/wocStlIx44BKN0GHiWk3zXeWxyD.jpg</td>\n",
       "      <td>NaN</td>\n",
       "      <td>Drama</td>\n",
       "      <td>Deblond Productions</td>\n",
       "      <td>NaN</td>\n",
       "      <td>Norwegian</td>\n",
       "      <td>moral ambiguity, redemption, revenge, tension,...</td>\n",
       "    </tr>\n",
       "  </tbody>\n",
       "</table>\n",
       "<p>3824 rows × 24 columns</p>\n",
       "</div>"
      ],
      "text/plain": [
       "             id                                             title  \\\n",
       "370834  1428525                                           francis   \n",
       "721738  1380633                             the edge of existence   \n",
       "689018  1186135                                   literally slay!   \n",
       "411911  1410309                                         prove it!   \n",
       "387588  1412998                                              dogs   \n",
       "...         ...                                               ...   \n",
       "681029  1406579                                guy on the outside   \n",
       "577776  1266839  thunderbolt fantasy: touri-ken yuuki saishuushou   \n",
       "387462  1412451                                 real fake streets   \n",
       "533129  1435330                                         take away   \n",
       "661310  1401648                             a message from martha   \n",
       "\n",
       "        vote_average  vote_count         status release_date  revenue  \\\n",
       "370834           0.0           0  In Production   2025-12-31        0   \n",
       "721738           0.0           0  In Production   2025-12-31        0   \n",
       "689018           0.0           0        Planned   2025-12-31        0   \n",
       "411911           0.0           0  In Production   2025-12-31        0   \n",
       "387588           0.0           0        Planned   2025-12-31        0   \n",
       "...              ...         ...            ...          ...      ...   \n",
       "681029           0.0           0       Released   2025-01-01        0   \n",
       "577776           0.0           0  In Production   2025-01-01        0   \n",
       "387462           0.0           0       Released   2025-01-01        0   \n",
       "533129           0.0           0       Released   2025-01-01        0   \n",
       "661310           0.0           0  In Production   2025-01-01        0   \n",
       "\n",
       "        runtime  adult                     backdrop_path  ...  \\\n",
       "370834       15  False                               NaN  ...   \n",
       "721738       87  False                               NaN  ...   \n",
       "689018        0  False                               NaN  ...   \n",
       "411911        0  False                               NaN  ...   \n",
       "387588        0  False  /fMuC66aGHy7t5bHOZB46NLaTbx2.jpg  ...   \n",
       "...         ...    ...                               ...  ...   \n",
       "681029        9  False                               NaN  ...   \n",
       "577776        0  False                               NaN  ...   \n",
       "387462       86  False                               NaN  ...   \n",
       "533129        9  False                               NaN  ...   \n",
       "661310       10  False                               NaN  ...   \n",
       "\n",
       "                                          original_title  \\\n",
       "370834                                           Francis   \n",
       "721738                             The Edge of Existence   \n",
       "689018                                   Literally Slay!   \n",
       "411911                                         Prove It!   \n",
       "387588                                              DOGS   \n",
       "...                                                  ...   \n",
       "681029                                Guy on the Outside   \n",
       "577776  Thunderbolt Fantasy: Touri-ken Yuuki Saishuushou   \n",
       "387462                                 Real Fake Streets   \n",
       "533129                                         Take Away   \n",
       "661310                                 Hilsen fra Martha   \n",
       "\n",
       "                                                 overview popularity  \\\n",
       "370834  Based loosely on the life of Saint Francis of ...      1.212   \n",
       "721738  Electronics lecturer, Cam Cameron, attempts to...      1.199   \n",
       "689018  A Grooks Spinoff series starring Angela Smith,...      0.616   \n",
       "411911                                                NaN      0.600   \n",
       "387588  In DOGS, a young girl named Andy sets out to h...      0.600   \n",
       "...                                                   ...        ...   \n",
       "681029           Plot Under Wraps, Releases Jan. 1, 2025.      0.000   \n",
       "577776            Final conclusion to Thunderbolt fantasy      0.000   \n",
       "387462  For the past two months, we dedicated out live...      1.400   \n",
       "533129  We all fear being awakened by an unexpected ph...      1.326   \n",
       "661310  Two young women, Leah and Ellinor, venture int...      1.400   \n",
       "\n",
       "                             poster_path  \\\n",
       "370834                               NaN   \n",
       "721738                               NaN   \n",
       "689018                               NaN   \n",
       "411911  /mswEm246IOTNzY3IUt8t3Y5F9DH.jpg   \n",
       "387588  /9N5Yd6mg8mTQ7GYCaNGTlfdGTm4.jpg   \n",
       "...                                  ...   \n",
       "681029                               NaN   \n",
       "577776                               NaN   \n",
       "387462  /71v5oGIO0L5aeZnKUXlgk7rbvn6.jpg   \n",
       "533129                               NaN   \n",
       "661310  /wocStlIx44BKN0GHiWk3zXeWxyD.jpg   \n",
       "\n",
       "                                                  tagline  \\\n",
       "370834                     All we need is bread and water   \n",
       "721738  Electronics lecturer, Cam Cameron, attempts to...   \n",
       "689018                                    Literally Slay!   \n",
       "411911                                                NaN   \n",
       "387588    When compassion gets cornered, who really wins?   \n",
       "...                                                   ...   \n",
       "681029                    What If You Just... Go Outside?   \n",
       "577776                                                NaN   \n",
       "387462                                                NaN   \n",
       "533129                                                NaN   \n",
       "661310                                                NaN   \n",
       "\n",
       "                            genres  \\\n",
       "370834                       Drama   \n",
       "721738                 Documentary   \n",
       "689018              Comedy, Horror   \n",
       "411911          Romance, Animation   \n",
       "387588               Comedy, Drama   \n",
       "...                            ...   \n",
       "681029                      Comedy   \n",
       "577776  Animation, Action, Fantasy   \n",
       "387462          Documentary, Drama   \n",
       "533129                 Documentary   \n",
       "661310                       Drama   \n",
       "\n",
       "                              production_companies      production_countries  \\\n",
       "370834                        Negativa Productions                       NaN   \n",
       "721738                                         NaN                       NaN   \n",
       "689018                                Lausey Films                       NaN   \n",
       "411911                                 GAFG Studio                       NaN   \n",
       "387588  threesixty Productions, Renaissance Studio                       NaN   \n",
       "...                                            ...                       ...   \n",
       "681029                           Bob Bear Pictures                       NaN   \n",
       "577776               PiLi International Multimedia                       NaN   \n",
       "387462                              June 1st Films                       NaN   \n",
       "533129                         Big Whiskey Studios  United States of America   \n",
       "661310                         Deblond Productions                       NaN   \n",
       "\n",
       "       spoken_languages                                           keywords  \n",
       "370834          English                                                NaN  \n",
       "721738              NaN                                                NaN  \n",
       "689018          English                                                NaN  \n",
       "411911          Turkish                                   prove it!, prove  \n",
       "387588              NaN                                                NaN  \n",
       "...                 ...                                                ...  \n",
       "681029              NaN                                                NaN  \n",
       "577776         Japanese                                                NaN  \n",
       "387462              NaN  mockumentary, real, boxing, fake, rapper wanna...  \n",
       "533129          English                                                NaN  \n",
       "661310        Norwegian  moral ambiguity, redemption, revenge, tension,...  \n",
       "\n",
       "[3824 rows x 24 columns]"
      ]
     },
     "execution_count": 22,
     "metadata": {},
     "output_type": "execute_result"
    }
   ],
   "source": [
    "# view the rows with release years after 2024\n",
    "df[df['release_date'].dt.year == 2025].sort_values('release_date', ascending=False)"
   ]
  },
  {
   "cell_type": "code",
   "execution_count": null,
   "metadata": {
    "execution": {
     "iopub.execute_input": "2025-03-15T13:13:48.587118Z",
     "iopub.status.busy": "2025-03-15T13:13:48.586841Z",
     "iopub.status.idle": "2025-03-15T13:13:48.652109Z",
     "shell.execute_reply": "2025-03-15T13:13:48.651345Z",
     "shell.execute_reply.started": "2025-03-15T13:13:48.587097Z"
    },
    "trusted": true
   },
   "outputs": [],
   "source": [
    "df[df['release_date'].dt.year > 2024]['status'].value_counts()"
   ]
  },
  {
   "cell_type": "markdown",
   "metadata": {},
   "source": [
    "Noticed movie records with a release year before 1900 are mostly scripts or plays (ex.A Farsa de Inês Pereira), which do not fall into the category under 'movie', thus they should be trimmed off.\n",
    "<br><br>Also noticed movies with a release year after 2024 do not include any movie with a status of 'released', thus should be trimmed off as well, along with any movie that is not under the status of **'released'**"
   ]
  },
  {
   "cell_type": "code",
   "execution_count": 12,
   "metadata": {
    "execution": {
     "iopub.execute_input": "2025-03-16T12:13:49.508806Z",
     "iopub.status.busy": "2025-03-16T12:13:49.508440Z",
     "iopub.status.idle": "2025-03-16T12:13:50.189461Z",
     "shell.execute_reply": "2025-03-16T12:13:50.188742Z",
     "shell.execute_reply.started": "2025-03-16T12:13:49.508781Z"
    },
    "trusted": true
   },
   "outputs": [
    {
     "data": {
      "text/plain": [
       "release_date\n",
       "1900    202\n",
       "1901    134\n",
       "1902    118\n",
       "1903    168\n",
       "1904    155\n",
       "       ... \n",
       "2061      1\n",
       "2069      1\n",
       "2074      1\n",
       "2085      1\n",
       "2099      1\n",
       "Name: count, Length: 141, dtype: int64"
      ]
     },
     "execution_count": 12,
     "metadata": {},
     "output_type": "execute_result"
    }
   ],
   "source": [
    "# drop any rows with release year smaller than 1900\n",
    "df = df[df['release_date'].dt.year >= 1900]\n",
    "\n",
    "# validate\n",
    "df['release_date'].dt.year.value_counts().sort_index()"
   ]
  },
  {
   "cell_type": "code",
   "execution_count": null,
   "metadata": {
    "execution": {
     "iopub.execute_input": "2025-03-15T07:41:20.665056Z",
     "iopub.status.busy": "2025-03-15T07:41:20.664794Z",
     "iopub.status.idle": "2025-03-15T07:41:20.727653Z",
     "shell.execute_reply": "2025-03-15T07:41:20.726979Z",
     "shell.execute_reply.started": "2025-03-15T07:41:20.665024Z"
    },
    "trusted": true
   },
   "outputs": [],
   "source": [
    "# check any status under the 'status' column\n",
    "df['status'].value_counts()"
   ]
  },
  {
   "cell_type": "markdown",
   "metadata": {},
   "source": [
    "any movie that is not under 'released' status is not available to watch, thus should be trimmed off"
   ]
  },
  {
   "cell_type": "code",
   "execution_count": 13,
   "metadata": {
    "execution": {
     "iopub.execute_input": "2025-03-16T12:13:53.773627Z",
     "iopub.status.busy": "2025-03-16T12:13:53.773324Z",
     "iopub.status.idle": "2025-03-16T12:13:54.062855Z",
     "shell.execute_reply": "2025-03-16T12:13:54.062042Z",
     "shell.execute_reply.started": "2025-03-16T12:13:53.773604Z"
    },
    "trusted": true
   },
   "outputs": [
    {
     "data": {
      "text/plain": [
       "status\n",
       "Released    650494\n",
       "Name: count, dtype: int64"
      ]
     },
     "execution_count": 13,
     "metadata": {},
     "output_type": "execute_result"
    }
   ],
   "source": [
    "df = df[df['status'] == 'Released']\n",
    "df['status'].value_counts()"
   ]
  },
  {
   "cell_type": "markdown",
   "metadata": {},
   "source": [
    "Up unil now we still have 953k validate movie data in our databse, it is still a great resort."
   ]
  },
  {
   "cell_type": "code",
   "execution_count": null,
   "metadata": {
    "execution": {
     "iopub.execute_input": "2025-03-15T07:41:21.145789Z",
     "iopub.status.busy": "2025-03-15T07:41:21.145556Z",
     "iopub.status.idle": "2025-03-15T07:41:21.177071Z",
     "shell.execute_reply": "2025-03-15T07:41:21.176286Z",
     "shell.execute_reply.started": "2025-03-15T07:41:21.145769Z"
    },
    "trusted": true
   },
   "outputs": [],
   "source": [
    "# check runtime of each movie in the dataset\n",
    "df['runtime'].describe()"
   ]
  },
  {
   "cell_type": "markdown",
   "metadata": {},
   "source": [
    "The minumum runtime is 0 and maxium is 14400, something is off."
   ]
  },
  {
   "cell_type": "code",
   "execution_count": null,
   "metadata": {
    "execution": {
     "iopub.execute_input": "2025-03-15T07:41:21.178170Z",
     "iopub.status.busy": "2025-03-15T07:41:21.177928Z",
     "iopub.status.idle": "2025-03-15T07:41:21.189740Z",
     "shell.execute_reply": "2025-03-15T07:41:21.189072Z",
     "shell.execute_reply.started": "2025-03-15T07:41:21.178139Z"
    },
    "trusted": true
   },
   "outputs": [],
   "source": [
    "df['runtime'].value_counts().sort_index()"
   ]
  },
  {
   "cell_type": "code",
   "execution_count": null,
   "metadata": {
    "execution": {
     "iopub.execute_input": "2025-03-15T07:41:21.190906Z",
     "iopub.status.busy": "2025-03-15T07:41:21.190612Z",
     "iopub.status.idle": "2025-03-15T07:41:21.280984Z",
     "shell.execute_reply": "2025-03-15T07:41:21.280324Z",
     "shell.execute_reply.started": "2025-03-15T07:41:21.190878Z"
    },
    "trusted": true
   },
   "outputs": [],
   "source": [
    "df[df['runtime'] == 0].shape[0]"
   ]
  },
  {
   "cell_type": "markdown",
   "metadata": {},
   "source": [
    "Noticed there are **208230 records** with 0 runtime, they must be removed."
   ]
  },
  {
   "cell_type": "code",
   "execution_count": null,
   "metadata": {
    "execution": {
     "iopub.execute_input": "2025-03-15T07:41:21.282067Z",
     "iopub.status.busy": "2025-03-15T07:41:21.281768Z",
     "iopub.status.idle": "2025-03-15T07:41:21.431027Z",
     "shell.execute_reply": "2025-03-15T07:41:21.430166Z",
     "shell.execute_reply.started": "2025-03-15T07:41:21.282038Z"
    },
    "trusted": true
   },
   "outputs": [],
   "source": [
    "df[df['runtime'] <= 15].shape[0]"
   ]
  },
  {
   "cell_type": "code",
   "execution_count": null,
   "metadata": {
    "execution": {
     "iopub.execute_input": "2025-03-15T07:41:21.432199Z",
     "iopub.status.busy": "2025-03-15T07:41:21.431908Z",
     "iopub.status.idle": "2025-03-15T07:41:21.556808Z",
     "shell.execute_reply": "2025-03-15T07:41:21.556047Z",
     "shell.execute_reply.started": "2025-03-15T07:41:21.432164Z"
    },
    "trusted": true
   },
   "outputs": [],
   "source": [
    "df[df['runtime'] <= 15].head()"
   ]
  },
  {
   "cell_type": "markdown",
   "metadata": {},
   "source": [
    "Some movies under 15 minutes are shorts (ex.frozen fever), they still fall under the definition of movie, but **they should be categorized as short during data preprocessing stage**."
   ]
  },
  {
   "cell_type": "code",
   "execution_count": null,
   "metadata": {
    "execution": {
     "iopub.execute_input": "2025-03-15T07:41:21.557753Z",
     "iopub.status.busy": "2025-03-15T07:41:21.557533Z",
     "iopub.status.idle": "2025-03-15T07:41:21.569288Z",
     "shell.execute_reply": "2025-03-15T07:41:21.568626Z",
     "shell.execute_reply.started": "2025-03-15T07:41:21.557733Z"
    },
    "trusted": true
   },
   "outputs": [],
   "source": [
    "df[df['runtime']>= 360].shape[0]"
   ]
  },
  {
   "cell_type": "code",
   "execution_count": null,
   "metadata": {
    "execution": {
     "iopub.execute_input": "2025-03-15T07:41:21.570218Z",
     "iopub.status.busy": "2025-03-15T07:41:21.570013Z",
     "iopub.status.idle": "2025-03-15T07:41:21.599908Z",
     "shell.execute_reply": "2025-03-15T07:41:21.599182Z",
     "shell.execute_reply.started": "2025-03-15T07:41:21.570199Z"
    },
    "trusted": true
   },
   "outputs": [],
   "source": [
    "df[df['runtime']>= 360].sort_values('runtime', ascending=False).head()"
   ]
  },
  {
   "cell_type": "markdown",
   "metadata": {},
   "source": [
    "Noticed there are **1595 records** with runtime greater than 360 minutes (any movie longer than 6 hours is not watchable, in my humble opinion), thus these records need to be trimmed off."
   ]
  },
  {
   "cell_type": "code",
   "execution_count": 14,
   "metadata": {
    "execution": {
     "iopub.execute_input": "2025-03-16T12:14:02.468553Z",
     "iopub.status.busy": "2025-03-16T12:14:02.468257Z",
     "iopub.status.idle": "2025-03-16T12:14:02.685177Z",
     "shell.execute_reply": "2025-03-16T12:14:02.684476Z",
     "shell.execute_reply.started": "2025-03-16T12:14:02.468531Z"
    },
    "trusted": true
   },
   "outputs": [
    {
     "data": {
      "text/plain": [
       "count    528494.000000\n",
       "mean         66.175200\n",
       "std          44.825795\n",
       "min           1.000000\n",
       "25%          20.000000\n",
       "50%          75.000000\n",
       "75%          95.000000\n",
       "max         360.000000\n",
       "Name: runtime, dtype: float64"
      ]
     },
     "execution_count": 14,
     "metadata": {},
     "output_type": "execute_result"
    }
   ],
   "source": [
    "df=df[(df['runtime'] != 0) & (df['runtime'] <= 360)]\n",
    "df['runtime'].describe()"
   ]
  },
  {
   "cell_type": "code",
   "execution_count": null,
   "metadata": {
    "execution": {
     "iopub.execute_input": "2025-03-15T07:41:21.884040Z",
     "iopub.status.busy": "2025-03-15T07:41:21.883834Z",
     "iopub.status.idle": "2025-03-15T07:41:21.956294Z",
     "shell.execute_reply": "2025-03-15T07:41:21.955437Z",
     "shell.execute_reply.started": "2025-03-15T07:41:21.884022Z"
    },
    "trusted": true
   },
   "outputs": [],
   "source": [
    "df[df['runtime'] <= 5].sort_values('runtime').head()"
   ]
  },
  {
   "cell_type": "markdown",
   "metadata": {},
   "source": [
    "Noticed some movies have zero revenue, even though this attribute is not relevant to our model building, this can be used to validate our data."
   ]
  },
  {
   "cell_type": "code",
   "execution_count": null,
   "metadata": {
    "execution": {
     "iopub.execute_input": "2025-03-15T07:41:21.958350Z",
     "iopub.status.busy": "2025-03-15T07:41:21.958090Z",
     "iopub.status.idle": "2025-03-15T07:41:22.142992Z",
     "shell.execute_reply": "2025-03-15T07:41:22.142145Z",
     "shell.execute_reply.started": "2025-03-15T07:41:21.958328Z"
    },
    "trusted": true
   },
   "outputs": [],
   "source": [
    "df[df['revenue'] == 0].head()"
   ]
  },
  {
   "cell_type": "markdown",
   "metadata": {},
   "source": [
    "Noticed many blockbuster hits(bird box, Zack Snyder's Justice League) are listed here, so there could be many errors in recording revenue, so we should proceed without trimming."
   ]
  },
  {
   "cell_type": "code",
   "execution_count": null,
   "metadata": {
    "execution": {
     "iopub.execute_input": "2025-03-15T07:41:22.144158Z",
     "iopub.status.busy": "2025-03-15T07:41:22.143856Z",
     "iopub.status.idle": "2025-03-15T07:41:22.149697Z",
     "shell.execute_reply": "2025-03-15T07:41:22.148846Z",
     "shell.execute_reply.started": "2025-03-15T07:41:22.144128Z"
    },
    "trusted": true
   },
   "outputs": [],
   "source": [
    "df['genres'].head()"
   ]
  },
  {
   "cell_type": "code",
   "execution_count": null,
   "metadata": {
    "execution": {
     "iopub.execute_input": "2025-03-15T07:41:22.150569Z",
     "iopub.status.busy": "2025-03-15T07:41:22.150389Z",
     "iopub.status.idle": "2025-03-15T07:41:22.166439Z",
     "shell.execute_reply": "2025-03-15T07:41:22.165706Z",
     "shell.execute_reply.started": "2025-03-15T07:41:22.150552Z"
    },
    "trusted": true
   },
   "outputs": [],
   "source": [
    "df['tagline'].head()"
   ]
  },
  {
   "cell_type": "code",
   "execution_count": null,
   "metadata": {
    "execution": {
     "iopub.execute_input": "2025-03-15T07:41:22.167504Z",
     "iopub.status.busy": "2025-03-15T07:41:22.167313Z",
     "iopub.status.idle": "2025-03-15T07:41:22.181166Z",
     "shell.execute_reply": "2025-03-15T07:41:22.180592Z",
     "shell.execute_reply.started": "2025-03-15T07:41:22.167487Z"
    },
    "trusted": true
   },
   "outputs": [],
   "source": [
    "df['overview'].head()"
   ]
  },
  {
   "cell_type": "code",
   "execution_count": null,
   "metadata": {
    "execution": {
     "iopub.execute_input": "2025-03-15T07:41:22.182123Z",
     "iopub.status.busy": "2025-03-15T07:41:22.181860Z",
     "iopub.status.idle": "2025-03-15T07:41:22.195884Z",
     "shell.execute_reply": "2025-03-15T07:41:22.195215Z",
     "shell.execute_reply.started": "2025-03-15T07:41:22.182097Z"
    },
    "trusted": true
   },
   "outputs": [],
   "source": [
    "df['keywords'].head()"
   ]
  },
  {
   "cell_type": "markdown",
   "metadata": {},
   "source": [
    "Noticed overview and tagline are equivalent to each other, and their main theme can be summarized by column 'genre', thus **these two columns can be dropped during data preprocessing stage.**\n",
    "<br><br>Noticed many movies have comprehensive genres and keywords, and different combination can confuse the similarity between each pair, **more data processing is needed**."
   ]
  },
  {
   "cell_type": "markdown",
   "metadata": {},
   "source": [
    "What about production companies and languages? Are they comprehensive as well?"
   ]
  },
  {
   "cell_type": "code",
   "execution_count": null,
   "metadata": {
    "execution": {
     "iopub.execute_input": "2025-03-15T07:41:22.196867Z",
     "iopub.status.busy": "2025-03-15T07:41:22.196601Z",
     "iopub.status.idle": "2025-03-15T07:41:22.251839Z",
     "shell.execute_reply": "2025-03-15T07:41:22.251040Z",
     "shell.execute_reply.started": "2025-03-15T07:41:22.196841Z"
    },
    "trusted": true
   },
   "outputs": [],
   "source": [
    "df['production_countries'].value_counts()"
   ]
  },
  {
   "cell_type": "code",
   "execution_count": null,
   "metadata": {
    "execution": {
     "iopub.execute_input": "2025-03-15T07:41:22.252901Z",
     "iopub.status.busy": "2025-03-15T07:41:22.252610Z",
     "iopub.status.idle": "2025-03-15T07:41:22.306906Z",
     "shell.execute_reply": "2025-03-15T07:41:22.306309Z",
     "shell.execute_reply.started": "2025-03-15T07:41:22.252871Z"
    },
    "trusted": true
   },
   "outputs": [],
   "source": [
    "df['original_language'].value_counts().head(10)"
   ]
  },
  {
   "cell_type": "code",
   "execution_count": null,
   "metadata": {
    "execution": {
     "iopub.execute_input": "2025-03-15T07:41:22.307998Z",
     "iopub.status.busy": "2025-03-15T07:41:22.307724Z",
     "iopub.status.idle": "2025-03-15T07:41:22.320951Z",
     "shell.execute_reply": "2025-03-15T07:41:22.320269Z",
     "shell.execute_reply.started": "2025-03-15T07:41:22.307972Z"
    },
    "trusted": true
   },
   "outputs": [],
   "source": [
    "df.shape[0]"
   ]
  },
  {
   "cell_type": "markdown",
   "metadata": {},
   "source": [
    "Noticed all records only have **one** original language, which can be used in model development, and majority(79%) of the movies in this dataset are in English, Japanese, French, Spanish, German, and Russia, and **these languages can be major categories during data preprocessing stage.**"
   ]
  },
  {
   "cell_type": "code",
   "execution_count": null,
   "metadata": {
    "execution": {
     "iopub.execute_input": "2025-03-15T07:41:22.321753Z",
     "iopub.status.busy": "2025-03-15T07:41:22.321577Z",
     "iopub.status.idle": "2025-03-15T07:41:22.376415Z",
     "shell.execute_reply": "2025-03-15T07:41:22.375660Z",
     "shell.execute_reply.started": "2025-03-15T07:41:22.321737Z"
    },
    "trusted": true
   },
   "outputs": [],
   "source": [
    "df['spoken_languages'].value_counts()"
   ]
  },
  {
   "cell_type": "markdown",
   "metadata": {},
   "source": [
    "Noticed there are incidents with movies have multiple spoken languages, which can means this movie is available in multiple languages.<BR><BR>\n",
    "However, no guarantee if the audiences will also see similarity between two movies in two different cultures but only available in the same translation , thus **this column will be removed during data preprocessing stage**."
   ]
  },
  {
   "cell_type": "code",
   "execution_count": null,
   "metadata": {
    "execution": {
     "iopub.execute_input": "2025-03-15T07:41:22.377317Z",
     "iopub.status.busy": "2025-03-15T07:41:22.377091Z",
     "iopub.status.idle": "2025-03-15T07:41:22.408682Z",
     "shell.execute_reply": "2025-03-15T07:41:22.408071Z",
     "shell.execute_reply.started": "2025-03-15T07:41:22.377299Z"
    },
    "trusted": true
   },
   "outputs": [],
   "source": [
    "df['vote_average'].describe()"
   ]
  },
  {
   "cell_type": "code",
   "execution_count": null,
   "metadata": {
    "execution": {
     "iopub.execute_input": "2025-03-15T07:41:22.409593Z",
     "iopub.status.busy": "2025-03-15T07:41:22.409399Z",
     "iopub.status.idle": "2025-03-15T07:41:22.432860Z",
     "shell.execute_reply": "2025-03-15T07:41:22.432236Z",
     "shell.execute_reply.started": "2025-03-15T07:41:22.409575Z"
    },
    "trusted": true
   },
   "outputs": [],
   "source": [
    "df['vote_count'].describe()"
   ]
  },
  {
   "cell_type": "code",
   "execution_count": null,
   "metadata": {
    "execution": {
     "iopub.execute_input": "2025-03-15T07:41:22.433628Z",
     "iopub.status.busy": "2025-03-15T07:41:22.433442Z",
     "iopub.status.idle": "2025-03-15T07:41:22.461819Z",
     "shell.execute_reply": "2025-03-15T07:41:22.461192Z",
     "shell.execute_reply.started": "2025-03-15T07:41:22.433612Z"
    },
    "trusted": true
   },
   "outputs": [],
   "source": [
    "df['popularity'].describe()"
   ]
  },
  {
   "cell_type": "markdown",
   "metadata": {},
   "source": [
    "Based on the stats summary of rating average and rating counts, there is very few information regarding popularity of each movie, as the 75% percentile of vote_counts is only 2, and median of the rating is 0-- **these columns will also be removed during data preprocessing stage**."
   ]
  },
  {
   "cell_type": "code",
   "execution_count": 15,
   "metadata": {
    "execution": {
     "iopub.execute_input": "2025-03-16T12:14:11.930389Z",
     "iopub.status.busy": "2025-03-16T12:14:11.930124Z",
     "iopub.status.idle": "2025-03-16T12:14:12.072194Z",
     "shell.execute_reply": "2025-03-16T12:14:12.071470Z",
     "shell.execute_reply.started": "2025-03-16T12:14:11.930368Z"
    },
    "trusted": true
   },
   "outputs": [
    {
     "name": "stdout",
     "output_type": "stream",
     "text": [
      "<class 'pandas.core.frame.DataFrame'>\n",
      "Index: 87988 entries, 0 to 91265\n",
      "Data columns (total 24 columns):\n",
      " #   Column                Non-Null Count  Dtype         \n",
      "---  ------                --------------  -----         \n",
      " 0   id                    87988 non-null  int64         \n",
      " 1   title                 87988 non-null  object        \n",
      " 2   vote_average          87988 non-null  float64       \n",
      " 3   vote_count            87988 non-null  int64         \n",
      " 4   status                87988 non-null  object        \n",
      " 5   release_date          87988 non-null  datetime64[ns]\n",
      " 6   revenue               87988 non-null  int64         \n",
      " 7   runtime               87988 non-null  int64         \n",
      " 8   adult                 87988 non-null  bool          \n",
      " 9   backdrop_path         76681 non-null  object        \n",
      " 10  budget                87988 non-null  int64         \n",
      " 11  homepage              18004 non-null  object        \n",
      " 12  imdb_id               87491 non-null  object        \n",
      " 13  original_language     87988 non-null  object        \n",
      " 14  original_title        87988 non-null  object        \n",
      " 15  overview              87310 non-null  object        \n",
      " 16  popularity            87988 non-null  float64       \n",
      " 17  poster_path           87139 non-null  object        \n",
      " 18  tagline               38497 non-null  object        \n",
      " 19  genres                87988 non-null  object        \n",
      " 20  production_companies  76813 non-null  object        \n",
      " 21  production_countries  83835 non-null  object        \n",
      " 22  spoken_languages      86037 non-null  object        \n",
      " 23  keywords              61845 non-null  object        \n",
      "dtypes: bool(1), datetime64[ns](1), float64(2), int64(5), object(15)\n",
      "memory usage: 16.2+ MB\n"
     ]
    }
   ],
   "source": [
    "df= df[df['vote_count']>7]\n",
    "df.info()"
   ]
  },
  {
   "cell_type": "code",
   "execution_count": 16,
   "metadata": {
    "execution": {
     "iopub.execute_input": "2025-03-16T12:14:19.735723Z",
     "iopub.status.busy": "2025-03-16T12:14:19.735400Z",
     "iopub.status.idle": "2025-03-16T12:14:19.747241Z",
     "shell.execute_reply": "2025-03-16T12:14:19.746387Z",
     "shell.execute_reply.started": "2025-03-16T12:14:19.735697Z"
    },
    "trusted": true
   },
   "outputs": [
    {
     "data": {
      "text/plain": [
       "3873     2994.357\n",
       "5049     2680.593\n",
       "51367    2020.286\n",
       "7919     1692.778\n",
       "2131     1567.273\n",
       "9946     1547.220\n",
       "4019     1458.514\n",
       "1110     1175.267\n",
       "6397     1111.036\n",
       "825      1069.340\n",
       "Name: popularity, dtype: float64"
      ]
     },
     "execution_count": 16,
     "metadata": {},
     "output_type": "execute_result"
    }
   ],
   "source": [
    "df['popularity'].sort_values(ascending=False).head(10)"
   ]
  },
  {
   "cell_type": "code",
   "execution_count": 17,
   "metadata": {
    "execution": {
     "iopub.execute_input": "2025-03-16T12:14:24.082912Z",
     "iopub.status.busy": "2025-03-16T12:14:24.082602Z",
     "iopub.status.idle": "2025-03-16T12:14:24.086343Z",
     "shell.execute_reply": "2025-03-16T12:14:24.085623Z",
     "shell.execute_reply.started": "2025-03-16T12:14:24.082889Z"
    },
    "trusted": true
   },
   "outputs": [],
   "source": [
    "import matplotlib.pyplot as plt"
   ]
  },
  {
   "cell_type": "code",
   "execution_count": 18,
   "metadata": {
    "execution": {
     "iopub.execute_input": "2025-03-16T12:14:26.822769Z",
     "iopub.status.busy": "2025-03-16T12:14:26.822431Z",
     "iopub.status.idle": "2025-03-16T12:14:27.196477Z",
     "shell.execute_reply": "2025-03-16T12:14:27.195698Z",
     "shell.execute_reply.started": "2025-03-16T12:14:26.822742Z"
    },
    "trusted": true
   },
   "outputs": [
    {
     "data": {
      "image/png": "[encoded data removed]",
      "text/plain": [
       "<Figure size 640x480 with 1 Axes>"
      ]
     },
     "metadata": {},
     "output_type": "display_data"
    }
   ],
   "source": [
    "df['popularity'].hist(bins=100, range=(0,2))\n",
    "plt.show()"
   ]
  },
  {
   "cell_type": "markdown",
   "metadata": {},
   "source": [
    "Based on the distribution of populrity score, we can see there is a extreme skewness in lower socres, particularly between 0.5-0.75, whereas the max score can amount to almost 3000. The logic behind this popularity score is still unclear, and this scale of imbalance can largely affect the similarity result, as a result, **popularity should be removed.**"
   ]
  },
  {
   "cell_type": "code",
   "execution_count": null,
   "metadata": {
    "execution": {
     "iopub.execute_input": "2025-03-15T07:41:22.961758Z",
     "iopub.status.busy": "2025-03-15T07:41:22.961559Z",
     "iopub.status.idle": "2025-03-15T07:41:23.469300Z",
     "shell.execute_reply": "2025-03-15T07:41:23.468565Z",
     "shell.execute_reply.started": "2025-03-15T07:41:22.961739Z"
    },
    "trusted": true
   },
   "outputs": [],
   "source": [
    "df.info()"
   ]
  },
  {
   "cell_type": "markdown",
   "metadata": {},
   "source": [
    "***Conclusion: columns kept for model building are as followed: title(as index), release_date, runtime, adult, original_language, genres, keywords***"
   ]
  },
  {
   "cell_type": "code",
   "execution_count": 19,
   "metadata": {
    "execution": {
     "iopub.execute_input": "2025-03-16T12:14:31.187310Z",
     "iopub.status.busy": "2025-03-16T12:14:31.187033Z",
     "iopub.status.idle": "2025-03-16T12:14:31.210013Z",
     "shell.execute_reply": "2025-03-16T12:14:31.209261Z",
     "shell.execute_reply.started": "2025-03-16T12:14:31.187292Z"
    },
    "trusted": true
   },
   "outputs": [
    {
     "data": {
      "text/html": [
       "<div>\n",
       "<style scoped>\n",
       "    .dataframe tbody tr th:only-of-type {\n",
       "        vertical-align: middle;\n",
       "    }\n",
       "\n",
       "    .dataframe tbody tr th {\n",
       "        vertical-align: top;\n",
       "    }\n",
       "\n",
       "    .dataframe thead th {\n",
       "        text-align: right;\n",
       "    }\n",
       "</style>\n",
       "<table border=\"1\" class=\"dataframe\">\n",
       "  <thead>\n",
       "    <tr style=\"text-align: right;\">\n",
       "      <th></th>\n",
       "      <th>title</th>\n",
       "      <th>release_date</th>\n",
       "      <th>runtime</th>\n",
       "      <th>adult</th>\n",
       "      <th>overview</th>\n",
       "      <th>original_language</th>\n",
       "      <th>genres</th>\n",
       "      <th>keywords</th>\n",
       "      <th>vote_average</th>\n",
       "      <th>vote_count</th>\n",
       "    </tr>\n",
       "  </thead>\n",
       "  <tbody>\n",
       "    <tr>\n",
       "      <th>0</th>\n",
       "      <td>inception</td>\n",
       "      <td>2010-07-15</td>\n",
       "      <td>148</td>\n",
       "      <td>False</td>\n",
       "      <td>Cobb, a skilled thief who commits corporate es...</td>\n",
       "      <td>en</td>\n",
       "      <td>Action, Science Fiction, Adventure</td>\n",
       "      <td>rescue, mission, dream, airplane, paris, franc...</td>\n",
       "      <td>8.364</td>\n",
       "      <td>34495</td>\n",
       "    </tr>\n",
       "    <tr>\n",
       "      <th>1</th>\n",
       "      <td>interstellar</td>\n",
       "      <td>2014-11-05</td>\n",
       "      <td>169</td>\n",
       "      <td>False</td>\n",
       "      <td>The adventures of a group of explorers who mak...</td>\n",
       "      <td>en</td>\n",
       "      <td>Adventure, Drama, Science Fiction</td>\n",
       "      <td>rescue, future, spacecraft, race against time,...</td>\n",
       "      <td>8.417</td>\n",
       "      <td>32571</td>\n",
       "    </tr>\n",
       "    <tr>\n",
       "      <th>2</th>\n",
       "      <td>the dark knight</td>\n",
       "      <td>2008-07-16</td>\n",
       "      <td>152</td>\n",
       "      <td>False</td>\n",
       "      <td>Batman raises the stakes in his war on crime. ...</td>\n",
       "      <td>en</td>\n",
       "      <td>Drama, Action, Crime, Thriller</td>\n",
       "      <td>joker, sadism, chaos, secret identity, crime f...</td>\n",
       "      <td>8.512</td>\n",
       "      <td>30619</td>\n",
       "    </tr>\n",
       "    <tr>\n",
       "      <th>3</th>\n",
       "      <td>avatar</td>\n",
       "      <td>2009-12-15</td>\n",
       "      <td>162</td>\n",
       "      <td>False</td>\n",
       "      <td>In the 22nd century, a paraplegic Marine is di...</td>\n",
       "      <td>en</td>\n",
       "      <td>Action, Adventure, Fantasy, Science Fiction</td>\n",
       "      <td>future, society, culture clash, space travel, ...</td>\n",
       "      <td>7.573</td>\n",
       "      <td>29815</td>\n",
       "    </tr>\n",
       "    <tr>\n",
       "      <th>4</th>\n",
       "      <td>the avengers</td>\n",
       "      <td>2012-04-25</td>\n",
       "      <td>143</td>\n",
       "      <td>False</td>\n",
       "      <td>When an unexpected enemy emerges and threatens...</td>\n",
       "      <td>en</td>\n",
       "      <td>Science Fiction, Action, Adventure</td>\n",
       "      <td>new york city, superhero, shield, based on com...</td>\n",
       "      <td>7.710</td>\n",
       "      <td>29166</td>\n",
       "    </tr>\n",
       "  </tbody>\n",
       "</table>\n",
       "</div>"
      ],
      "text/plain": [
       "             title release_date  runtime  adult  \\\n",
       "0        inception   2010-07-15      148  False   \n",
       "1     interstellar   2014-11-05      169  False   \n",
       "2  the dark knight   2008-07-16      152  False   \n",
       "3           avatar   2009-12-15      162  False   \n",
       "4     the avengers   2012-04-25      143  False   \n",
       "\n",
       "                                            overview original_language  \\\n",
       "0  Cobb, a skilled thief who commits corporate es...                en   \n",
       "1  The adventures of a group of explorers who mak...                en   \n",
       "2  Batman raises the stakes in his war on crime. ...                en   \n",
       "3  In the 22nd century, a paraplegic Marine is di...                en   \n",
       "4  When an unexpected enemy emerges and threatens...                en   \n",
       "\n",
       "                                        genres  \\\n",
       "0           Action, Science Fiction, Adventure   \n",
       "1            Adventure, Drama, Science Fiction   \n",
       "2               Drama, Action, Crime, Thriller   \n",
       "3  Action, Adventure, Fantasy, Science Fiction   \n",
       "4           Science Fiction, Action, Adventure   \n",
       "\n",
       "                                            keywords  vote_average  vote_count  \n",
       "0  rescue, mission, dream, airplane, paris, franc...         8.364       34495  \n",
       "1  rescue, future, spacecraft, race against time,...         8.417       32571  \n",
       "2  joker, sadism, chaos, secret identity, crime f...         8.512       30619  \n",
       "3  future, society, culture clash, space travel, ...         7.573       29815  \n",
       "4  new york city, superhero, shield, based on com...         7.710       29166  "
      ]
     },
     "execution_count": 19,
     "metadata": {},
     "output_type": "execute_result"
    }
   ],
   "source": [
    "df_for_model = df[['title', 'release_date', 'runtime', 'adult', 'overview','original_language', 'genres', 'keywords','vote_average', 'vote_count',]]\n",
    "metadata_df = df[['title','id', 'release_date','backdrop_path','imdb_id']]\n",
    "df_for_model.head()"
   ]
  },
  {
   "cell_type": "code",
   "execution_count": 21,
   "metadata": {
    "execution": {
     "iopub.execute_input": "2025-03-16T12:14:50.119680Z",
     "iopub.status.busy": "2025-03-16T12:14:50.119311Z",
     "iopub.status.idle": "2025-03-16T12:14:50.124750Z",
     "shell.execute_reply": "2025-03-16T12:14:50.123944Z",
     "shell.execute_reply.started": "2025-03-16T12:14:50.119650Z"
    },
    "trusted": true
   },
   "outputs": [
    {
     "name": "stderr",
     "output_type": "stream",
     "text": [
      "<ipython-input-21-134a216a02c7>:1: SettingWithCopyWarning: \n",
      "A value is trying to be set on a copy of a slice from a DataFrame\n",
      "\n",
      "See the caveats in the documentation: https://pandas.pydata.org/pandas-docs/stable/user_guide/indexing.html#returning-a-view-versus-a-copy\n",
      "  df_for_model.rename(columns={'vote_average': 'average_rating'}, inplace=True)\n"
     ]
    }
   ],
   "source": [
    "df_for_model.rename(columns={'vote_average': 'average_rating'}, inplace=True)"
   ]
  },
  {
   "cell_type": "code",
   "execution_count": null,
   "metadata": {
    "trusted": true
   },
   "outputs": [],
   "source": []
  },
  {
   "cell_type": "code",
   "execution_count": 22,
   "metadata": {
    "execution": {
     "iopub.execute_input": "2025-03-16T12:14:53.573558Z",
     "iopub.status.busy": "2025-03-16T12:14:53.573240Z",
     "iopub.status.idle": "2025-03-16T12:14:53.597864Z",
     "shell.execute_reply": "2025-03-16T12:14:53.597069Z",
     "shell.execute_reply.started": "2025-03-16T12:14:53.573497Z"
    },
    "trusted": true
   },
   "outputs": [
    {
     "name": "stderr",
     "output_type": "stream",
     "text": [
      "<ipython-input-22-20fb123e1649>:11: SettingWithCopyWarning: \n",
      "A value is trying to be set on a copy of a slice from a DataFrame.\n",
      "Try using .loc[row_indexer,col_indexer] = value instead\n",
      "\n",
      "See the caveats in the documentation: https://pandas.pydata.org/pandas-docs/stable/user_guide/indexing.html#returning-a-view-versus-a-copy\n",
      "  df_for_model[['average_rating', 'vote_count']] = num_features\n"
     ]
    },
    {
     "data": {
      "text/html": [
       "<div>\n",
       "<style scoped>\n",
       "    .dataframe tbody tr th:only-of-type {\n",
       "        vertical-align: middle;\n",
       "    }\n",
       "\n",
       "    .dataframe tbody tr th {\n",
       "        vertical-align: top;\n",
       "    }\n",
       "\n",
       "    .dataframe thead th {\n",
       "        text-align: right;\n",
       "    }\n",
       "</style>\n",
       "<table border=\"1\" class=\"dataframe\">\n",
       "  <thead>\n",
       "    <tr style=\"text-align: right;\">\n",
       "      <th></th>\n",
       "      <th>title</th>\n",
       "      <th>release_date</th>\n",
       "      <th>runtime</th>\n",
       "      <th>adult</th>\n",
       "      <th>overview</th>\n",
       "      <th>original_language</th>\n",
       "      <th>genres</th>\n",
       "      <th>keywords</th>\n",
       "      <th>average_rating</th>\n",
       "      <th>vote_count</th>\n",
       "    </tr>\n",
       "  </thead>\n",
       "  <tbody>\n",
       "    <tr>\n",
       "      <th>0</th>\n",
       "      <td>inception</td>\n",
       "      <td>2010-07-15</td>\n",
       "      <td>148</td>\n",
       "      <td>False</td>\n",
       "      <td>Cobb, a skilled thief who commits corporate es...</td>\n",
       "      <td>en</td>\n",
       "      <td>Action, Science Fiction, Adventure</td>\n",
       "      <td>rescue, mission, dream, airplane, paris, franc...</td>\n",
       "      <td>2.159014</td>\n",
       "      <td>34495</td>\n",
       "    </tr>\n",
       "    <tr>\n",
       "      <th>1</th>\n",
       "      <td>interstellar</td>\n",
       "      <td>2014-11-05</td>\n",
       "      <td>169</td>\n",
       "      <td>False</td>\n",
       "      <td>The adventures of a group of explorers who mak...</td>\n",
       "      <td>en</td>\n",
       "      <td>Adventure, Drama, Science Fiction</td>\n",
       "      <td>rescue, future, spacecraft, race against time,...</td>\n",
       "      <td>2.209429</td>\n",
       "      <td>32571</td>\n",
       "    </tr>\n",
       "    <tr>\n",
       "      <th>2</th>\n",
       "      <td>the dark knight</td>\n",
       "      <td>2008-07-16</td>\n",
       "      <td>152</td>\n",
       "      <td>False</td>\n",
       "      <td>Batman raises the stakes in his war on crime. ...</td>\n",
       "      <td>en</td>\n",
       "      <td>Drama, Action, Crime, Thriller</td>\n",
       "      <td>joker, sadism, chaos, secret identity, crime f...</td>\n",
       "      <td>2.299796</td>\n",
       "      <td>30619</td>\n",
       "    </tr>\n",
       "    <tr>\n",
       "      <th>3</th>\n",
       "      <td>avatar</td>\n",
       "      <td>2009-12-15</td>\n",
       "      <td>162</td>\n",
       "      <td>False</td>\n",
       "      <td>In the 22nd century, a paraplegic Marine is di...</td>\n",
       "      <td>en</td>\n",
       "      <td>Action, Adventure, Fantasy, Science Fiction</td>\n",
       "      <td>future, society, culture clash, space travel, ...</td>\n",
       "      <td>1.406588</td>\n",
       "      <td>29815</td>\n",
       "    </tr>\n",
       "    <tr>\n",
       "      <th>4</th>\n",
       "      <td>the avengers</td>\n",
       "      <td>2012-04-25</td>\n",
       "      <td>143</td>\n",
       "      <td>False</td>\n",
       "      <td>When an unexpected enemy emerges and threatens...</td>\n",
       "      <td>en</td>\n",
       "      <td>Science Fiction, Action, Adventure</td>\n",
       "      <td>new york city, superhero, shield, based on com...</td>\n",
       "      <td>1.536907</td>\n",
       "      <td>29166</td>\n",
       "    </tr>\n",
       "  </tbody>\n",
       "</table>\n",
       "</div>"
      ],
      "text/plain": [
       "             title release_date  runtime  adult  \\\n",
       "0        inception   2010-07-15      148  False   \n",
       "1     interstellar   2014-11-05      169  False   \n",
       "2  the dark knight   2008-07-16      152  False   \n",
       "3           avatar   2009-12-15      162  False   \n",
       "4     the avengers   2012-04-25      143  False   \n",
       "\n",
       "                                            overview original_language  \\\n",
       "0  Cobb, a skilled thief who commits corporate es...                en   \n",
       "1  The adventures of a group of explorers who mak...                en   \n",
       "2  Batman raises the stakes in his war on crime. ...                en   \n",
       "3  In the 22nd century, a paraplegic Marine is di...                en   \n",
       "4  When an unexpected enemy emerges and threatens...                en   \n",
       "\n",
       "                                        genres  \\\n",
       "0           Action, Science Fiction, Adventure   \n",
       "1            Adventure, Drama, Science Fiction   \n",
       "2               Drama, Action, Crime, Thriller   \n",
       "3  Action, Adventure, Fantasy, Science Fiction   \n",
       "4           Science Fiction, Action, Adventure   \n",
       "\n",
       "                                            keywords  average_rating  \\\n",
       "0  rescue, mission, dream, airplane, paris, franc...        2.159014   \n",
       "1  rescue, future, spacecraft, race against time,...        2.209429   \n",
       "2  joker, sadism, chaos, secret identity, crime f...        2.299796   \n",
       "3  future, society, culture clash, space travel, ...        1.406588   \n",
       "4  new york city, superhero, shield, based on com...        1.536907   \n",
       "\n",
       "   vote_count  \n",
       "0       34495  \n",
       "1       32571  \n",
       "2       30619  \n",
       "3       29815  \n",
       "4       29166  "
      ]
     },
     "execution_count": 22,
     "metadata": {},
     "output_type": "execute_result"
    }
   ],
   "source": [
    "from sklearn.preprocessing import MinMaxScaler, StandardScaler\n",
    "import numpy as np\n",
    "\n",
    "num_features = df_for_model[['average_rating', 'vote_count']].copy()\n",
    "\n",
    "# Normalize average_rating using StandardScaler to keep meaningful distribution\n",
    "rating_scaler = StandardScaler()\n",
    "num_features['average_rating'] = rating_scaler.fit_transform(num_features[['average_rating']])\n",
    "\n",
    "# Assign back\n",
    "df_for_model[['average_rating', 'vote_count']] = num_features\n",
    "\n",
    "# Check results\n",
    "df_for_model.head()\n"
   ]
  },
  {
   "cell_type": "code",
   "execution_count": 20,
   "metadata": {
    "execution": {
     "iopub.execute_input": "2025-03-16T10:01:28.132305Z",
     "iopub.status.busy": "2025-03-16T10:01:28.131830Z",
     "iopub.status.idle": "2025-03-16T10:01:28.143542Z",
     "shell.execute_reply": "2025-03-16T10:01:28.142964Z",
     "shell.execute_reply.started": "2025-03-16T10:01:28.132278Z"
    },
    "trusted": true
   },
   "outputs": [
    {
     "data": {
      "text/plain": [
       "count    8.798800e+04\n",
       "mean    -1.033658e-16\n",
       "std      1.000006e+00\n",
       "min     -4.750749e+00\n",
       "25%     -5.653199e-01\n",
       "50%      1.005438e-01\n",
       "75%      6.712840e-01\n",
       "max      3.715232e+00\n",
       "Name: average_rating, dtype: float64"
      ]
     },
     "execution_count": 20,
     "metadata": {},
     "output_type": "execute_result"
    }
   ],
   "source": [
    "df_for_model['average_rating'].describe()"
   ]
  },
  {
   "cell_type": "code",
   "execution_count": 23,
   "metadata": {
    "execution": {
     "iopub.execute_input": "2025-03-16T12:15:36.465965Z",
     "iopub.status.busy": "2025-03-16T12:15:36.465683Z",
     "iopub.status.idle": "2025-03-16T12:15:36.487022Z",
     "shell.execute_reply": "2025-03-16T12:15:36.485989Z",
     "shell.execute_reply.started": "2025-03-16T12:15:36.465944Z"
    },
    "trusted": true
   },
   "outputs": [
    {
     "name": "stderr",
     "output_type": "stream",
     "text": [
      "<ipython-input-23-2d71d7570f65>:4: SettingWithCopyWarning: \n",
      "A value is trying to be set on a copy of a slice from a DataFrame.\n",
      "Try using .loc[row_indexer,col_indexer] = value instead\n",
      "\n",
      "See the caveats in the documentation: https://pandas.pydata.org/pandas-docs/stable/user_guide/indexing.html#returning-a-view-versus-a-copy\n",
      "  df_for_model['weighted_score'] = (df_for_model['vote_count'] / (df_for_model['vote_count'] + m) * df_for_model['average_rating']) + (m / (df_for_model['vote_count'] + m) * C)\n",
      "<ipython-input-23-2d71d7570f65>:6: SettingWithCopyWarning: \n",
      "A value is trying to be set on a copy of a slice from a DataFrame.\n",
      "Try using .loc[row_indexer,col_indexer] = value instead\n",
      "\n",
      "See the caveats in the documentation: https://pandas.pydata.org/pandas-docs/stable/user_guide/indexing.html#returning-a-view-versus-a-copy\n",
      "  df_for_model['popularity_rank'] = df_for_model['vote_count'].rank(pct=True)\n",
      "<ipython-input-23-2d71d7570f65>:7: SettingWithCopyWarning: \n",
      "A value is trying to be set on a copy of a slice from a DataFrame.\n",
      "Try using .loc[row_indexer,col_indexer] = value instead\n",
      "\n",
      "See the caveats in the documentation: https://pandas.pydata.org/pandas-docs/stable/user_guide/indexing.html#returning-a-view-versus-a-copy\n",
      "  df_for_model['hybrid_score'] = df_for_model['weighted_score'] * 0.7 + df_for_model['popularity_rank'] * 0.3\n"
     ]
    }
   ],
   "source": [
    "C = df_for_model['average_rating'].mean()  # Global average rating\n",
    "m = 50  # Minimum vote threshold\n",
    "\n",
    "df_for_model['weighted_score'] = (df_for_model['vote_count'] / (df_for_model['vote_count'] + m) * df_for_model['average_rating']) + (m / (df_for_model['vote_count'] + m) * C)\n",
    "\n",
    "df_for_model['popularity_rank'] = df_for_model['vote_count'].rank(pct=True)\n",
    "df_for_model['hybrid_score'] = df_for_model['weighted_score'] * 0.7 + df_for_model['popularity_rank'] * 0.3\n"
   ]
  },
  {
   "cell_type": "code",
   "execution_count": 70,
   "metadata": {
    "execution": {
     "iopub.execute_input": "2025-03-16T13:57:04.794497Z",
     "iopub.status.busy": "2025-03-16T13:57:04.794141Z",
     "iopub.status.idle": "2025-03-16T13:57:04.807092Z",
     "shell.execute_reply": "2025-03-16T13:57:04.806229Z",
     "shell.execute_reply.started": "2025-03-16T13:57:04.794468Z"
    },
    "trusted": true
   },
   "outputs": [
    {
     "data": {
      "text/plain": [
       "count    87988.000000\n",
       "mean         0.194524\n",
       "std          0.347748\n",
       "min         -2.011444\n",
       "25%         -0.016470\n",
       "50%          0.129300\n",
       "75%          0.344803\n",
       "max          2.034875\n",
       "Name: hybrid_score, dtype: float64"
      ]
     },
     "execution_count": 70,
     "metadata": {},
     "output_type": "execute_result"
    }
   ],
   "source": [
    "df_for_model['hybrid_score'].describe()"
   ]
  },
  {
   "cell_type": "code",
   "execution_count": 24,
   "metadata": {
    "execution": {
     "iopub.execute_input": "2025-03-16T12:15:42.081214Z",
     "iopub.status.busy": "2025-03-16T12:15:42.080900Z",
     "iopub.status.idle": "2025-03-16T12:15:42.094562Z",
     "shell.execute_reply": "2025-03-16T12:15:42.093617Z",
     "shell.execute_reply.started": "2025-03-16T12:15:42.081191Z"
    },
    "trusted": true
   },
   "outputs": [
    {
     "data": {
      "text/html": [
       "<div>\n",
       "<style scoped>\n",
       "    .dataframe tbody tr th:only-of-type {\n",
       "        vertical-align: middle;\n",
       "    }\n",
       "\n",
       "    .dataframe tbody tr th {\n",
       "        vertical-align: top;\n",
       "    }\n",
       "\n",
       "    .dataframe thead th {\n",
       "        text-align: right;\n",
       "    }\n",
       "</style>\n",
       "<table border=\"1\" class=\"dataframe\">\n",
       "  <thead>\n",
       "    <tr style=\"text-align: right;\">\n",
       "      <th></th>\n",
       "      <th>title</th>\n",
       "      <th>release_date</th>\n",
       "      <th>runtime</th>\n",
       "      <th>adult</th>\n",
       "      <th>overview</th>\n",
       "      <th>original_language</th>\n",
       "      <th>genres</th>\n",
       "      <th>keywords</th>\n",
       "      <th>average_rating</th>\n",
       "      <th>vote_count</th>\n",
       "      <th>weighted_score</th>\n",
       "      <th>popularity_rank</th>\n",
       "      <th>hybrid_score</th>\n",
       "    </tr>\n",
       "  </thead>\n",
       "  <tbody>\n",
       "    <tr>\n",
       "      <th>0</th>\n",
       "      <td>inception</td>\n",
       "      <td>2010-07-15</td>\n",
       "      <td>148</td>\n",
       "      <td>False</td>\n",
       "      <td>Cobb, a skilled thief who commits corporate es...</td>\n",
       "      <td>en</td>\n",
       "      <td>Action, Science Fiction, Adventure</td>\n",
       "      <td>rescue, mission, dream, airplane, paris, franc...</td>\n",
       "      <td>2.159014</td>\n",
       "      <td>34495</td>\n",
       "      <td>2.155889</td>\n",
       "      <td>1.000000</td>\n",
       "      <td>1.809122</td>\n",
       "    </tr>\n",
       "    <tr>\n",
       "      <th>1</th>\n",
       "      <td>interstellar</td>\n",
       "      <td>2014-11-05</td>\n",
       "      <td>169</td>\n",
       "      <td>False</td>\n",
       "      <td>The adventures of a group of explorers who mak...</td>\n",
       "      <td>en</td>\n",
       "      <td>Adventure, Drama, Science Fiction</td>\n",
       "      <td>rescue, future, spacecraft, race against time,...</td>\n",
       "      <td>2.209429</td>\n",
       "      <td>32571</td>\n",
       "      <td>2.206043</td>\n",
       "      <td>0.999989</td>\n",
       "      <td>1.844226</td>\n",
       "    </tr>\n",
       "    <tr>\n",
       "      <th>2</th>\n",
       "      <td>the dark knight</td>\n",
       "      <td>2008-07-16</td>\n",
       "      <td>152</td>\n",
       "      <td>False</td>\n",
       "      <td>Batman raises the stakes in his war on crime. ...</td>\n",
       "      <td>en</td>\n",
       "      <td>Drama, Action, Crime, Thriller</td>\n",
       "      <td>joker, sadism, chaos, secret identity, crime f...</td>\n",
       "      <td>2.299796</td>\n",
       "      <td>30619</td>\n",
       "      <td>2.296047</td>\n",
       "      <td>0.999977</td>\n",
       "      <td>1.907226</td>\n",
       "    </tr>\n",
       "    <tr>\n",
       "      <th>3</th>\n",
       "      <td>avatar</td>\n",
       "      <td>2009-12-15</td>\n",
       "      <td>162</td>\n",
       "      <td>False</td>\n",
       "      <td>In the 22nd century, a paraplegic Marine is di...</td>\n",
       "      <td>en</td>\n",
       "      <td>Action, Adventure, Fantasy, Science Fiction</td>\n",
       "      <td>future, society, culture clash, space travel, ...</td>\n",
       "      <td>1.406588</td>\n",
       "      <td>29815</td>\n",
       "      <td>1.404233</td>\n",
       "      <td>0.999966</td>\n",
       "      <td>1.282953</td>\n",
       "    </tr>\n",
       "    <tr>\n",
       "      <th>4</th>\n",
       "      <td>the avengers</td>\n",
       "      <td>2012-04-25</td>\n",
       "      <td>143</td>\n",
       "      <td>False</td>\n",
       "      <td>When an unexpected enemy emerges and threatens...</td>\n",
       "      <td>en</td>\n",
       "      <td>Science Fiction, Action, Adventure</td>\n",
       "      <td>new york city, superhero, shield, based on com...</td>\n",
       "      <td>1.536907</td>\n",
       "      <td>29166</td>\n",
       "      <td>1.534277</td>\n",
       "      <td>0.999955</td>\n",
       "      <td>1.373980</td>\n",
       "    </tr>\n",
       "  </tbody>\n",
       "</table>\n",
       "</div>"
      ],
      "text/plain": [
       "             title release_date  runtime  adult  \\\n",
       "0        inception   2010-07-15      148  False   \n",
       "1     interstellar   2014-11-05      169  False   \n",
       "2  the dark knight   2008-07-16      152  False   \n",
       "3           avatar   2009-12-15      162  False   \n",
       "4     the avengers   2012-04-25      143  False   \n",
       "\n",
       "                                            overview original_language  \\\n",
       "0  Cobb, a skilled thief who commits corporate es...                en   \n",
       "1  The adventures of a group of explorers who mak...                en   \n",
       "2  Batman raises the stakes in his war on crime. ...                en   \n",
       "3  In the 22nd century, a paraplegic Marine is di...                en   \n",
       "4  When an unexpected enemy emerges and threatens...                en   \n",
       "\n",
       "                                        genres  \\\n",
       "0           Action, Science Fiction, Adventure   \n",
       "1            Adventure, Drama, Science Fiction   \n",
       "2               Drama, Action, Crime, Thriller   \n",
       "3  Action, Adventure, Fantasy, Science Fiction   \n",
       "4           Science Fiction, Action, Adventure   \n",
       "\n",
       "                                            keywords  average_rating  \\\n",
       "0  rescue, mission, dream, airplane, paris, franc...        2.159014   \n",
       "1  rescue, future, spacecraft, race against time,...        2.209429   \n",
       "2  joker, sadism, chaos, secret identity, crime f...        2.299796   \n",
       "3  future, society, culture clash, space travel, ...        1.406588   \n",
       "4  new york city, superhero, shield, based on com...        1.536907   \n",
       "\n",
       "   vote_count  weighted_score  popularity_rank  hybrid_score  \n",
       "0       34495        2.155889         1.000000      1.809122  \n",
       "1       32571        2.206043         0.999989      1.844226  \n",
       "2       30619        2.296047         0.999977      1.907226  \n",
       "3       29815        1.404233         0.999966      1.282953  \n",
       "4       29166        1.534277         0.999955      1.373980  "
      ]
     },
     "execution_count": 24,
     "metadata": {},
     "output_type": "execute_result"
    }
   ],
   "source": [
    "df_for_model.head()"
   ]
  },
  {
   "cell_type": "markdown",
   "metadata": {},
   "source": [
    "## Feature Engineering"
   ]
  },
  {
   "cell_type": "code",
   "execution_count": 23,
   "metadata": {
    "execution": {
     "iopub.execute_input": "2025-03-16T10:01:40.081997Z",
     "iopub.status.busy": "2025-03-16T10:01:40.081691Z",
     "iopub.status.idle": "2025-03-16T10:01:40.115783Z",
     "shell.execute_reply": "2025-03-16T10:01:40.115119Z",
     "shell.execute_reply.started": "2025-03-16T10:01:40.081973Z"
    },
    "trusted": true
   },
   "outputs": [
    {
     "data": {
      "text/plain": [
       "title                    0\n",
       "release_date             0\n",
       "runtime                  0\n",
       "adult                    0\n",
       "overview                 0\n",
       "original_language        0\n",
       "genres                   0\n",
       "keywords             26143\n",
       "average_rating           0\n",
       "vote_count               0\n",
       "weighted_score           0\n",
       "popularity_rank          0\n",
       "hybrid_score             0\n",
       "dtype: int64"
      ]
     },
     "execution_count": 23,
     "metadata": {},
     "output_type": "execute_result"
    }
   ],
   "source": [
    "# check for any missing values\n",
    "df_for_model.isnull().sum()"
   ]
  },
  {
   "cell_type": "code",
   "execution_count": 25,
   "metadata": {
    "execution": {
     "iopub.execute_input": "2025-03-16T12:15:49.441709Z",
     "iopub.status.busy": "2025-03-16T12:15:49.441338Z",
     "iopub.status.idle": "2025-03-16T12:15:49.470564Z",
     "shell.execute_reply": "2025-03-16T12:15:49.469728Z",
     "shell.execute_reply.started": "2025-03-16T12:15:49.441680Z"
    },
    "trusted": true
   },
   "outputs": [
    {
     "data": {
      "text/plain": [
       "0"
      ]
     },
     "execution_count": 25,
     "metadata": {},
     "output_type": "execute_result"
    }
   ],
   "source": [
    "df_for_model.loc[:, 'overview'] = df_for_model['overview'].fillna('unknown')\n",
    "\n",
    "df_for_model['overview'].isnull().sum()"
   ]
  },
  {
   "cell_type": "code",
   "execution_count": 26,
   "metadata": {
    "execution": {
     "iopub.execute_input": "2025-03-16T12:15:52.464716Z",
     "iopub.status.busy": "2025-03-16T12:15:52.464364Z",
     "iopub.status.idle": "2025-03-16T12:15:52.488942Z",
     "shell.execute_reply": "2025-03-16T12:15:52.488150Z",
     "shell.execute_reply.started": "2025-03-16T12:15:52.464685Z"
    },
    "trusted": true
   },
   "outputs": [
    {
     "data": {
      "text/plain": [
       "0"
      ]
     },
     "execution_count": 26,
     "metadata": {},
     "output_type": "execute_result"
    }
   ],
   "source": [
    "df_for_model.loc[:, 'keywords'] = df_for_model['keywords'].fillna('unknown')\n",
    "\n",
    "df_for_model['keywords'].isnull().sum()"
   ]
  },
  {
   "cell_type": "code",
   "execution_count": 27,
   "metadata": {
    "execution": {
     "iopub.execute_input": "2025-03-16T12:15:59.612779Z",
     "iopub.status.busy": "2025-03-16T12:15:59.612468Z",
     "iopub.status.idle": "2025-03-16T12:15:59.617108Z",
     "shell.execute_reply": "2025-03-16T12:15:59.616276Z",
     "shell.execute_reply.started": "2025-03-16T12:15:59.612758Z"
    },
    "trusted": true
   },
   "outputs": [],
   "source": [
    "# extract year from release_date, and refactor it into different time periods based on empirical knowledge\n",
    "def define_era(row):\n",
    "    if row['release_date'].year < 1927:\n",
    "        return 'the silent era'\n",
    "    elif row['release_date'].year < 1960:\n",
    "        return 'golden age'\n",
    "    elif row['release_date'].year < 1980:\n",
    "        return 'post-war era'\n",
    "    elif row['release_date'].year < 1990:\n",
    "        return 'blockbuster era'\n",
    "    else:\n",
    "        return 'digital era'\n"
   ]
  },
  {
   "cell_type": "code",
   "execution_count": 28,
   "metadata": {
    "execution": {
     "iopub.execute_input": "2025-03-16T12:16:03.482702Z",
     "iopub.status.busy": "2025-03-16T12:16:03.482363Z",
     "iopub.status.idle": "2025-03-16T12:16:04.564126Z",
     "shell.execute_reply": "2025-03-16T12:16:04.563259Z",
     "shell.execute_reply.started": "2025-03-16T12:16:03.482676Z"
    },
    "trusted": true
   },
   "outputs": [
    {
     "name": "stderr",
     "output_type": "stream",
     "text": [
      "<ipython-input-28-7a629ab54fdb>:1: SettingWithCopyWarning: \n",
      "A value is trying to be set on a copy of a slice from a DataFrame.\n",
      "Try using .loc[row_indexer,col_indexer] = value instead\n",
      "\n",
      "See the caveats in the documentation: https://pandas.pydata.org/pandas-docs/stable/user_guide/indexing.html#returning-a-view-versus-a-copy\n",
      "  df_for_model.loc[:, 'era'] = df_for_model.apply(define_era, axis=1)\n"
     ]
    },
    {
     "data": {
      "text/html": [
       "<div>\n",
       "<style scoped>\n",
       "    .dataframe tbody tr th:only-of-type {\n",
       "        vertical-align: middle;\n",
       "    }\n",
       "\n",
       "    .dataframe tbody tr th {\n",
       "        vertical-align: top;\n",
       "    }\n",
       "\n",
       "    .dataframe thead th {\n",
       "        text-align: right;\n",
       "    }\n",
       "</style>\n",
       "<table border=\"1\" class=\"dataframe\">\n",
       "  <thead>\n",
       "    <tr style=\"text-align: right;\">\n",
       "      <th></th>\n",
       "      <th>title</th>\n",
       "      <th>release_date</th>\n",
       "      <th>runtime</th>\n",
       "      <th>adult</th>\n",
       "      <th>overview</th>\n",
       "      <th>original_language</th>\n",
       "      <th>genres</th>\n",
       "      <th>keywords</th>\n",
       "      <th>average_rating</th>\n",
       "      <th>vote_count</th>\n",
       "      <th>weighted_score</th>\n",
       "      <th>popularity_rank</th>\n",
       "      <th>hybrid_score</th>\n",
       "      <th>era</th>\n",
       "    </tr>\n",
       "  </thead>\n",
       "  <tbody>\n",
       "    <tr>\n",
       "      <th>0</th>\n",
       "      <td>inception</td>\n",
       "      <td>2010-07-15</td>\n",
       "      <td>148</td>\n",
       "      <td>False</td>\n",
       "      <td>Cobb, a skilled thief who commits corporate es...</td>\n",
       "      <td>en</td>\n",
       "      <td>Action, Science Fiction, Adventure</td>\n",
       "      <td>rescue, mission, dream, airplane, paris, franc...</td>\n",
       "      <td>2.159014</td>\n",
       "      <td>34495</td>\n",
       "      <td>2.155889</td>\n",
       "      <td>1.000000</td>\n",
       "      <td>1.809122</td>\n",
       "      <td>digital era</td>\n",
       "    </tr>\n",
       "    <tr>\n",
       "      <th>1</th>\n",
       "      <td>interstellar</td>\n",
       "      <td>2014-11-05</td>\n",
       "      <td>169</td>\n",
       "      <td>False</td>\n",
       "      <td>The adventures of a group of explorers who mak...</td>\n",
       "      <td>en</td>\n",
       "      <td>Adventure, Drama, Science Fiction</td>\n",
       "      <td>rescue, future, spacecraft, race against time,...</td>\n",
       "      <td>2.209429</td>\n",
       "      <td>32571</td>\n",
       "      <td>2.206043</td>\n",
       "      <td>0.999989</td>\n",
       "      <td>1.844226</td>\n",
       "      <td>digital era</td>\n",
       "    </tr>\n",
       "    <tr>\n",
       "      <th>2</th>\n",
       "      <td>the dark knight</td>\n",
       "      <td>2008-07-16</td>\n",
       "      <td>152</td>\n",
       "      <td>False</td>\n",
       "      <td>Batman raises the stakes in his war on crime. ...</td>\n",
       "      <td>en</td>\n",
       "      <td>Drama, Action, Crime, Thriller</td>\n",
       "      <td>joker, sadism, chaos, secret identity, crime f...</td>\n",
       "      <td>2.299796</td>\n",
       "      <td>30619</td>\n",
       "      <td>2.296047</td>\n",
       "      <td>0.999977</td>\n",
       "      <td>1.907226</td>\n",
       "      <td>digital era</td>\n",
       "    </tr>\n",
       "    <tr>\n",
       "      <th>3</th>\n",
       "      <td>avatar</td>\n",
       "      <td>2009-12-15</td>\n",
       "      <td>162</td>\n",
       "      <td>False</td>\n",
       "      <td>In the 22nd century, a paraplegic Marine is di...</td>\n",
       "      <td>en</td>\n",
       "      <td>Action, Adventure, Fantasy, Science Fiction</td>\n",
       "      <td>future, society, culture clash, space travel, ...</td>\n",
       "      <td>1.406588</td>\n",
       "      <td>29815</td>\n",
       "      <td>1.404233</td>\n",
       "      <td>0.999966</td>\n",
       "      <td>1.282953</td>\n",
       "      <td>digital era</td>\n",
       "    </tr>\n",
       "    <tr>\n",
       "      <th>4</th>\n",
       "      <td>the avengers</td>\n",
       "      <td>2012-04-25</td>\n",
       "      <td>143</td>\n",
       "      <td>False</td>\n",
       "      <td>When an unexpected enemy emerges and threatens...</td>\n",
       "      <td>en</td>\n",
       "      <td>Science Fiction, Action, Adventure</td>\n",
       "      <td>new york city, superhero, shield, based on com...</td>\n",
       "      <td>1.536907</td>\n",
       "      <td>29166</td>\n",
       "      <td>1.534277</td>\n",
       "      <td>0.999955</td>\n",
       "      <td>1.373980</td>\n",
       "      <td>digital era</td>\n",
       "    </tr>\n",
       "  </tbody>\n",
       "</table>\n",
       "</div>"
      ],
      "text/plain": [
       "             title release_date  runtime  adult  \\\n",
       "0        inception   2010-07-15      148  False   \n",
       "1     interstellar   2014-11-05      169  False   \n",
       "2  the dark knight   2008-07-16      152  False   \n",
       "3           avatar   2009-12-15      162  False   \n",
       "4     the avengers   2012-04-25      143  False   \n",
       "\n",
       "                                            overview original_language  \\\n",
       "0  Cobb, a skilled thief who commits corporate es...                en   \n",
       "1  The adventures of a group of explorers who mak...                en   \n",
       "2  Batman raises the stakes in his war on crime. ...                en   \n",
       "3  In the 22nd century, a paraplegic Marine is di...                en   \n",
       "4  When an unexpected enemy emerges and threatens...                en   \n",
       "\n",
       "                                        genres  \\\n",
       "0           Action, Science Fiction, Adventure   \n",
       "1            Adventure, Drama, Science Fiction   \n",
       "2               Drama, Action, Crime, Thriller   \n",
       "3  Action, Adventure, Fantasy, Science Fiction   \n",
       "4           Science Fiction, Action, Adventure   \n",
       "\n",
       "                                            keywords  average_rating  \\\n",
       "0  rescue, mission, dream, airplane, paris, franc...        2.159014   \n",
       "1  rescue, future, spacecraft, race against time,...        2.209429   \n",
       "2  joker, sadism, chaos, secret identity, crime f...        2.299796   \n",
       "3  future, society, culture clash, space travel, ...        1.406588   \n",
       "4  new york city, superhero, shield, based on com...        1.536907   \n",
       "\n",
       "   vote_count  weighted_score  popularity_rank  hybrid_score          era  \n",
       "0       34495        2.155889         1.000000      1.809122  digital era  \n",
       "1       32571        2.206043         0.999989      1.844226  digital era  \n",
       "2       30619        2.296047         0.999977      1.907226  digital era  \n",
       "3       29815        1.404233         0.999966      1.282953  digital era  \n",
       "4       29166        1.534277         0.999955      1.373980  digital era  "
      ]
     },
     "execution_count": 28,
     "metadata": {},
     "output_type": "execute_result"
    }
   ],
   "source": [
    "df_for_model.loc[:, 'era'] = df_for_model.apply(define_era, axis=1)\n",
    "df_for_model.head()\n"
   ]
  },
  {
   "cell_type": "code",
   "execution_count": null,
   "metadata": {
    "execution": {
     "iopub.execute_input": "2025-03-15T16:25:05.675902Z",
     "iopub.status.busy": "2025-03-15T16:25:05.675601Z",
     "iopub.status.idle": "2025-03-15T16:25:05.711042Z",
     "shell.execute_reply": "2025-03-15T16:25:05.710196Z",
     "shell.execute_reply.started": "2025-03-15T16:25:05.675881Z"
    },
    "trusted": true
   },
   "outputs": [],
   "source": [
    "df_for_model['era'].value_counts()"
   ]
  },
  {
   "cell_type": "code",
   "execution_count": 29,
   "metadata": {
    "execution": {
     "iopub.execute_input": "2025-03-16T12:16:10.059923Z",
     "iopub.status.busy": "2025-03-16T12:16:10.059486Z",
     "iopub.status.idle": "2025-03-16T12:16:10.065188Z",
     "shell.execute_reply": "2025-03-16T12:16:10.064324Z",
     "shell.execute_reply.started": "2025-03-16T12:16:10.059891Z"
    },
    "trusted": true
   },
   "outputs": [],
   "source": [
    "# refector runtime into different types of movies based on empirical knowledge\n",
    "def define_runtime(row):\n",
    "    if row['runtime'] < 40:\n",
    "        return 'short film'\n",
    "    elif row['runtime'] < 60:\n",
    "        return 'featurette'\n",
    "    elif row['runtime'] < 120:\n",
    "        return 'feature film'\n",
    "    elif row['runtime'] < 180:\n",
    "        return 'extended feature film'\n",
    "    else:\n",
    "        return 'epic length film'"
   ]
  },
  {
   "cell_type": "code",
   "execution_count": 30,
   "metadata": {
    "execution": {
     "iopub.execute_input": "2025-03-16T12:16:13.413645Z",
     "iopub.status.busy": "2025-03-16T12:16:13.413294Z",
     "iopub.status.idle": "2025-03-16T12:16:14.352380Z",
     "shell.execute_reply": "2025-03-16T12:16:14.351551Z",
     "shell.execute_reply.started": "2025-03-16T12:16:13.413617Z"
    },
    "trusted": true
   },
   "outputs": [
    {
     "name": "stderr",
     "output_type": "stream",
     "text": [
      "<ipython-input-30-b377359c4661>:1: SettingWithCopyWarning: \n",
      "A value is trying to be set on a copy of a slice from a DataFrame.\n",
      "Try using .loc[row_indexer,col_indexer] = value instead\n",
      "\n",
      "See the caveats in the documentation: https://pandas.pydata.org/pandas-docs/stable/user_guide/indexing.html#returning-a-view-versus-a-copy\n",
      "  df_for_model['runtime_type'] = df_for_model.apply(define_runtime, axis=1)\n"
     ]
    },
    {
     "data": {
      "text/html": [
       "<div>\n",
       "<style scoped>\n",
       "    .dataframe tbody tr th:only-of-type {\n",
       "        vertical-align: middle;\n",
       "    }\n",
       "\n",
       "    .dataframe tbody tr th {\n",
       "        vertical-align: top;\n",
       "    }\n",
       "\n",
       "    .dataframe thead th {\n",
       "        text-align: right;\n",
       "    }\n",
       "</style>\n",
       "<table border=\"1\" class=\"dataframe\">\n",
       "  <thead>\n",
       "    <tr style=\"text-align: right;\">\n",
       "      <th></th>\n",
       "      <th>title</th>\n",
       "      <th>release_date</th>\n",
       "      <th>runtime</th>\n",
       "      <th>adult</th>\n",
       "      <th>overview</th>\n",
       "      <th>original_language</th>\n",
       "      <th>genres</th>\n",
       "      <th>keywords</th>\n",
       "      <th>average_rating</th>\n",
       "      <th>vote_count</th>\n",
       "      <th>weighted_score</th>\n",
       "      <th>popularity_rank</th>\n",
       "      <th>hybrid_score</th>\n",
       "      <th>era</th>\n",
       "      <th>runtime_type</th>\n",
       "    </tr>\n",
       "  </thead>\n",
       "  <tbody>\n",
       "    <tr>\n",
       "      <th>0</th>\n",
       "      <td>inception</td>\n",
       "      <td>2010-07-15</td>\n",
       "      <td>148</td>\n",
       "      <td>False</td>\n",
       "      <td>Cobb, a skilled thief who commits corporate es...</td>\n",
       "      <td>en</td>\n",
       "      <td>Action, Science Fiction, Adventure</td>\n",
       "      <td>rescue, mission, dream, airplane, paris, franc...</td>\n",
       "      <td>2.159014</td>\n",
       "      <td>34495</td>\n",
       "      <td>2.155889</td>\n",
       "      <td>1.000000</td>\n",
       "      <td>1.809122</td>\n",
       "      <td>digital era</td>\n",
       "      <td>extended feature film</td>\n",
       "    </tr>\n",
       "    <tr>\n",
       "      <th>1</th>\n",
       "      <td>interstellar</td>\n",
       "      <td>2014-11-05</td>\n",
       "      <td>169</td>\n",
       "      <td>False</td>\n",
       "      <td>The adventures of a group of explorers who mak...</td>\n",
       "      <td>en</td>\n",
       "      <td>Adventure, Drama, Science Fiction</td>\n",
       "      <td>rescue, future, spacecraft, race against time,...</td>\n",
       "      <td>2.209429</td>\n",
       "      <td>32571</td>\n",
       "      <td>2.206043</td>\n",
       "      <td>0.999989</td>\n",
       "      <td>1.844226</td>\n",
       "      <td>digital era</td>\n",
       "      <td>extended feature film</td>\n",
       "    </tr>\n",
       "    <tr>\n",
       "      <th>2</th>\n",
       "      <td>the dark knight</td>\n",
       "      <td>2008-07-16</td>\n",
       "      <td>152</td>\n",
       "      <td>False</td>\n",
       "      <td>Batman raises the stakes in his war on crime. ...</td>\n",
       "      <td>en</td>\n",
       "      <td>Drama, Action, Crime, Thriller</td>\n",
       "      <td>joker, sadism, chaos, secret identity, crime f...</td>\n",
       "      <td>2.299796</td>\n",
       "      <td>30619</td>\n",
       "      <td>2.296047</td>\n",
       "      <td>0.999977</td>\n",
       "      <td>1.907226</td>\n",
       "      <td>digital era</td>\n",
       "      <td>extended feature film</td>\n",
       "    </tr>\n",
       "    <tr>\n",
       "      <th>3</th>\n",
       "      <td>avatar</td>\n",
       "      <td>2009-12-15</td>\n",
       "      <td>162</td>\n",
       "      <td>False</td>\n",
       "      <td>In the 22nd century, a paraplegic Marine is di...</td>\n",
       "      <td>en</td>\n",
       "      <td>Action, Adventure, Fantasy, Science Fiction</td>\n",
       "      <td>future, society, culture clash, space travel, ...</td>\n",
       "      <td>1.406588</td>\n",
       "      <td>29815</td>\n",
       "      <td>1.404233</td>\n",
       "      <td>0.999966</td>\n",
       "      <td>1.282953</td>\n",
       "      <td>digital era</td>\n",
       "      <td>extended feature film</td>\n",
       "    </tr>\n",
       "    <tr>\n",
       "      <th>4</th>\n",
       "      <td>the avengers</td>\n",
       "      <td>2012-04-25</td>\n",
       "      <td>143</td>\n",
       "      <td>False</td>\n",
       "      <td>When an unexpected enemy emerges and threatens...</td>\n",
       "      <td>en</td>\n",
       "      <td>Science Fiction, Action, Adventure</td>\n",
       "      <td>new york city, superhero, shield, based on com...</td>\n",
       "      <td>1.536907</td>\n",
       "      <td>29166</td>\n",
       "      <td>1.534277</td>\n",
       "      <td>0.999955</td>\n",
       "      <td>1.373980</td>\n",
       "      <td>digital era</td>\n",
       "      <td>extended feature film</td>\n",
       "    </tr>\n",
       "  </tbody>\n",
       "</table>\n",
       "</div>"
      ],
      "text/plain": [
       "             title release_date  runtime  adult  \\\n",
       "0        inception   2010-07-15      148  False   \n",
       "1     interstellar   2014-11-05      169  False   \n",
       "2  the dark knight   2008-07-16      152  False   \n",
       "3           avatar   2009-12-15      162  False   \n",
       "4     the avengers   2012-04-25      143  False   \n",
       "\n",
       "                                            overview original_language  \\\n",
       "0  Cobb, a skilled thief who commits corporate es...                en   \n",
       "1  The adventures of a group of explorers who mak...                en   \n",
       "2  Batman raises the stakes in his war on crime. ...                en   \n",
       "3  In the 22nd century, a paraplegic Marine is di...                en   \n",
       "4  When an unexpected enemy emerges and threatens...                en   \n",
       "\n",
       "                                        genres  \\\n",
       "0           Action, Science Fiction, Adventure   \n",
       "1            Adventure, Drama, Science Fiction   \n",
       "2               Drama, Action, Crime, Thriller   \n",
       "3  Action, Adventure, Fantasy, Science Fiction   \n",
       "4           Science Fiction, Action, Adventure   \n",
       "\n",
       "                                            keywords  average_rating  \\\n",
       "0  rescue, mission, dream, airplane, paris, franc...        2.159014   \n",
       "1  rescue, future, spacecraft, race against time,...        2.209429   \n",
       "2  joker, sadism, chaos, secret identity, crime f...        2.299796   \n",
       "3  future, society, culture clash, space travel, ...        1.406588   \n",
       "4  new york city, superhero, shield, based on com...        1.536907   \n",
       "\n",
       "   vote_count  weighted_score  popularity_rank  hybrid_score          era  \\\n",
       "0       34495        2.155889         1.000000      1.809122  digital era   \n",
       "1       32571        2.206043         0.999989      1.844226  digital era   \n",
       "2       30619        2.296047         0.999977      1.907226  digital era   \n",
       "3       29815        1.404233         0.999966      1.282953  digital era   \n",
       "4       29166        1.534277         0.999955      1.373980  digital era   \n",
       "\n",
       "            runtime_type  \n",
       "0  extended feature film  \n",
       "1  extended feature film  \n",
       "2  extended feature film  \n",
       "3  extended feature film  \n",
       "4  extended feature film  "
      ]
     },
     "execution_count": 30,
     "metadata": {},
     "output_type": "execute_result"
    }
   ],
   "source": [
    "df_for_model['runtime_type'] = df_for_model.apply(define_runtime, axis=1)\n",
    "df_for_model.head()"
   ]
  },
  {
   "cell_type": "code",
   "execution_count": null,
   "metadata": {
    "execution": {
     "iopub.execute_input": "2025-03-15T07:41:40.955749Z",
     "iopub.status.busy": "2025-03-15T07:41:40.955538Z",
     "iopub.status.idle": "2025-03-15T07:41:40.992817Z",
     "shell.execute_reply": "2025-03-15T07:41:40.991960Z",
     "shell.execute_reply.started": "2025-03-15T07:41:40.955731Z"
    },
    "trusted": true
   },
   "outputs": [],
   "source": [
    "df_for_model['runtime_type'].value_counts()"
   ]
  },
  {
   "cell_type": "code",
   "execution_count": 31,
   "metadata": {
    "execution": {
     "iopub.execute_input": "2025-03-16T12:16:18.375851Z",
     "iopub.status.busy": "2025-03-16T12:16:18.375560Z",
     "iopub.status.idle": "2025-03-16T12:16:18.380594Z",
     "shell.execute_reply": "2025-03-16T12:16:18.379587Z",
     "shell.execute_reply.started": "2025-03-16T12:16:18.375830Z"
    },
    "trusted": true
   },
   "outputs": [],
   "source": [
    "# refector languages into six major langueges and others\n",
    "def define_language(row):\n",
    "    if row['original_language']=='en':\n",
    "        return 'english'\n",
    "    elif row['original_language']=='ja':\n",
    "        return 'japanese'\n",
    "    elif row['original_language']=='fr':\n",
    "        return 'french'\n",
    "    elif row['original_language']=='es':\n",
    "        return 'spanish'\n",
    "    elif row['original_language']=='de':\n",
    "        return 'german'\n",
    "    elif row['original_language']=='ru':\n",
    "        return 'russian'\n",
    "    elif row['original_language']=='hi':\n",
    "        return 'hindi'\n",
    "    else:\n",
    "        return 'other'"
   ]
  },
  {
   "cell_type": "code",
   "execution_count": 32,
   "metadata": {
    "execution": {
     "iopub.execute_input": "2025-03-16T12:16:22.846790Z",
     "iopub.status.busy": "2025-03-16T12:16:22.846470Z",
     "iopub.status.idle": "2025-03-16T12:16:23.828840Z",
     "shell.execute_reply": "2025-03-16T12:16:23.827818Z",
     "shell.execute_reply.started": "2025-03-16T12:16:22.846767Z"
    },
    "trusted": true
   },
   "outputs": [
    {
     "name": "stderr",
     "output_type": "stream",
     "text": [
      "<ipython-input-32-bbef3e5613cf>:1: SettingWithCopyWarning: \n",
      "A value is trying to be set on a copy of a slice from a DataFrame.\n",
      "Try using .loc[row_indexer,col_indexer] = value instead\n",
      "\n",
      "See the caveats in the documentation: https://pandas.pydata.org/pandas-docs/stable/user_guide/indexing.html#returning-a-view-versus-a-copy\n",
      "  df_for_model['language'] = df_for_model.apply(define_language, axis=1)\n"
     ]
    },
    {
     "data": {
      "text/html": [
       "<div>\n",
       "<style scoped>\n",
       "    .dataframe tbody tr th:only-of-type {\n",
       "        vertical-align: middle;\n",
       "    }\n",
       "\n",
       "    .dataframe tbody tr th {\n",
       "        vertical-align: top;\n",
       "    }\n",
       "\n",
       "    .dataframe thead th {\n",
       "        text-align: right;\n",
       "    }\n",
       "</style>\n",
       "<table border=\"1\" class=\"dataframe\">\n",
       "  <thead>\n",
       "    <tr style=\"text-align: right;\">\n",
       "      <th></th>\n",
       "      <th>title</th>\n",
       "      <th>release_date</th>\n",
       "      <th>runtime</th>\n",
       "      <th>adult</th>\n",
       "      <th>overview</th>\n",
       "      <th>original_language</th>\n",
       "      <th>genres</th>\n",
       "      <th>keywords</th>\n",
       "      <th>average_rating</th>\n",
       "      <th>vote_count</th>\n",
       "      <th>weighted_score</th>\n",
       "      <th>popularity_rank</th>\n",
       "      <th>hybrid_score</th>\n",
       "      <th>era</th>\n",
       "      <th>runtime_type</th>\n",
       "      <th>language</th>\n",
       "    </tr>\n",
       "  </thead>\n",
       "  <tbody>\n",
       "    <tr>\n",
       "      <th>0</th>\n",
       "      <td>inception</td>\n",
       "      <td>2010-07-15</td>\n",
       "      <td>148</td>\n",
       "      <td>False</td>\n",
       "      <td>Cobb, a skilled thief who commits corporate es...</td>\n",
       "      <td>en</td>\n",
       "      <td>Action, Science Fiction, Adventure</td>\n",
       "      <td>rescue, mission, dream, airplane, paris, franc...</td>\n",
       "      <td>2.159014</td>\n",
       "      <td>34495</td>\n",
       "      <td>2.155889</td>\n",
       "      <td>1.000000</td>\n",
       "      <td>1.809122</td>\n",
       "      <td>digital era</td>\n",
       "      <td>extended feature film</td>\n",
       "      <td>english</td>\n",
       "    </tr>\n",
       "    <tr>\n",
       "      <th>1</th>\n",
       "      <td>interstellar</td>\n",
       "      <td>2014-11-05</td>\n",
       "      <td>169</td>\n",
       "      <td>False</td>\n",
       "      <td>The adventures of a group of explorers who mak...</td>\n",
       "      <td>en</td>\n",
       "      <td>Adventure, Drama, Science Fiction</td>\n",
       "      <td>rescue, future, spacecraft, race against time,...</td>\n",
       "      <td>2.209429</td>\n",
       "      <td>32571</td>\n",
       "      <td>2.206043</td>\n",
       "      <td>0.999989</td>\n",
       "      <td>1.844226</td>\n",
       "      <td>digital era</td>\n",
       "      <td>extended feature film</td>\n",
       "      <td>english</td>\n",
       "    </tr>\n",
       "    <tr>\n",
       "      <th>2</th>\n",
       "      <td>the dark knight</td>\n",
       "      <td>2008-07-16</td>\n",
       "      <td>152</td>\n",
       "      <td>False</td>\n",
       "      <td>Batman raises the stakes in his war on crime. ...</td>\n",
       "      <td>en</td>\n",
       "      <td>Drama, Action, Crime, Thriller</td>\n",
       "      <td>joker, sadism, chaos, secret identity, crime f...</td>\n",
       "      <td>2.299796</td>\n",
       "      <td>30619</td>\n",
       "      <td>2.296047</td>\n",
       "      <td>0.999977</td>\n",
       "      <td>1.907226</td>\n",
       "      <td>digital era</td>\n",
       "      <td>extended feature film</td>\n",
       "      <td>english</td>\n",
       "    </tr>\n",
       "    <tr>\n",
       "      <th>3</th>\n",
       "      <td>avatar</td>\n",
       "      <td>2009-12-15</td>\n",
       "      <td>162</td>\n",
       "      <td>False</td>\n",
       "      <td>In the 22nd century, a paraplegic Marine is di...</td>\n",
       "      <td>en</td>\n",
       "      <td>Action, Adventure, Fantasy, Science Fiction</td>\n",
       "      <td>future, society, culture clash, space travel, ...</td>\n",
       "      <td>1.406588</td>\n",
       "      <td>29815</td>\n",
       "      <td>1.404233</td>\n",
       "      <td>0.999966</td>\n",
       "      <td>1.282953</td>\n",
       "      <td>digital era</td>\n",
       "      <td>extended feature film</td>\n",
       "      <td>english</td>\n",
       "    </tr>\n",
       "    <tr>\n",
       "      <th>4</th>\n",
       "      <td>the avengers</td>\n",
       "      <td>2012-04-25</td>\n",
       "      <td>143</td>\n",
       "      <td>False</td>\n",
       "      <td>When an unexpected enemy emerges and threatens...</td>\n",
       "      <td>en</td>\n",
       "      <td>Science Fiction, Action, Adventure</td>\n",
       "      <td>new york city, superhero, shield, based on com...</td>\n",
       "      <td>1.536907</td>\n",
       "      <td>29166</td>\n",
       "      <td>1.534277</td>\n",
       "      <td>0.999955</td>\n",
       "      <td>1.373980</td>\n",
       "      <td>digital era</td>\n",
       "      <td>extended feature film</td>\n",
       "      <td>english</td>\n",
       "    </tr>\n",
       "  </tbody>\n",
       "</table>\n",
       "</div>"
      ],
      "text/plain": [
       "             title release_date  runtime  adult  \\\n",
       "0        inception   2010-07-15      148  False   \n",
       "1     interstellar   2014-11-05      169  False   \n",
       "2  the dark knight   2008-07-16      152  False   \n",
       "3           avatar   2009-12-15      162  False   \n",
       "4     the avengers   2012-04-25      143  False   \n",
       "\n",
       "                                            overview original_language  \\\n",
       "0  Cobb, a skilled thief who commits corporate es...                en   \n",
       "1  The adventures of a group of explorers who mak...                en   \n",
       "2  Batman raises the stakes in his war on crime. ...                en   \n",
       "3  In the 22nd century, a paraplegic Marine is di...                en   \n",
       "4  When an unexpected enemy emerges and threatens...                en   \n",
       "\n",
       "                                        genres  \\\n",
       "0           Action, Science Fiction, Adventure   \n",
       "1            Adventure, Drama, Science Fiction   \n",
       "2               Drama, Action, Crime, Thriller   \n",
       "3  Action, Adventure, Fantasy, Science Fiction   \n",
       "4           Science Fiction, Action, Adventure   \n",
       "\n",
       "                                            keywords  average_rating  \\\n",
       "0  rescue, mission, dream, airplane, paris, franc...        2.159014   \n",
       "1  rescue, future, spacecraft, race against time,...        2.209429   \n",
       "2  joker, sadism, chaos, secret identity, crime f...        2.299796   \n",
       "3  future, society, culture clash, space travel, ...        1.406588   \n",
       "4  new york city, superhero, shield, based on com...        1.536907   \n",
       "\n",
       "   vote_count  weighted_score  popularity_rank  hybrid_score          era  \\\n",
       "0       34495        2.155889         1.000000      1.809122  digital era   \n",
       "1       32571        2.206043         0.999989      1.844226  digital era   \n",
       "2       30619        2.296047         0.999977      1.907226  digital era   \n",
       "3       29815        1.404233         0.999966      1.282953  digital era   \n",
       "4       29166        1.534277         0.999955      1.373980  digital era   \n",
       "\n",
       "            runtime_type language  \n",
       "0  extended feature film  english  \n",
       "1  extended feature film  english  \n",
       "2  extended feature film  english  \n",
       "3  extended feature film  english  \n",
       "4  extended feature film  english  "
      ]
     },
     "execution_count": 32,
     "metadata": {},
     "output_type": "execute_result"
    }
   ],
   "source": [
    "df_for_model['language'] = df_for_model.apply(define_language, axis=1)\n",
    "df_for_model.head()"
   ]
  },
  {
   "cell_type": "code",
   "execution_count": null,
   "metadata": {
    "execution": {
     "iopub.execute_input": "2025-03-15T07:41:48.711558Z",
     "iopub.status.busy": "2025-03-15T07:41:48.711298Z",
     "iopub.status.idle": "2025-03-15T07:41:48.749673Z",
     "shell.execute_reply": "2025-03-15T07:41:48.748825Z",
     "shell.execute_reply.started": "2025-03-15T07:41:48.711535Z"
    },
    "trusted": true
   },
   "outputs": [],
   "source": [
    "df_for_model['language'].value_counts()"
   ]
  },
  {
   "cell_type": "code",
   "execution_count": null,
   "metadata": {
    "trusted": true
   },
   "outputs": [],
   "source": []
  },
  {
   "cell_type": "code",
   "execution_count": null,
   "metadata": {
    "execution": {
     "iopub.execute_input": "2025-03-15T15:41:24.231162Z",
     "iopub.status.busy": "2025-03-15T15:41:24.230868Z",
     "iopub.status.idle": "2025-03-15T15:41:24.542338Z",
     "shell.execute_reply": "2025-03-15T15:41:24.541627Z",
     "shell.execute_reply.started": "2025-03-15T15:41:24.231140Z"
    },
    "trusted": true
   },
   "outputs": [],
   "source": [
    "# make a list of genres in each row\n",
    "genre_l = df_for_model['genres'].apply(lambda x: x.split(', ')).reset_index(drop=True)\n",
    "print(genre_l)"
   ]
  },
  {
   "cell_type": "markdown",
   "metadata": {},
   "source": [
    "Noticed multiple genres are associated with the same movie-need to filter out unique genres by iterating each sub-list of genres of each movie."
   ]
  },
  {
   "cell_type": "code",
   "execution_count": null,
   "metadata": {
    "execution": {
     "iopub.execute_input": "2025-03-15T15:41:34.643548Z",
     "iopub.status.busy": "2025-03-15T15:41:34.643199Z",
     "iopub.status.idle": "2025-03-15T15:41:34.658246Z",
     "shell.execute_reply": "2025-03-15T15:41:34.657251Z",
     "shell.execute_reply.started": "2025-03-15T15:41:34.643520Z"
    },
    "trusted": true
   },
   "outputs": [],
   "source": [
    "df_for_model.head()"
   ]
  },
  {
   "cell_type": "code",
   "execution_count": 31,
   "metadata": {
    "execution": {
     "iopub.execute_input": "2025-03-16T10:02:09.006103Z",
     "iopub.status.busy": "2025-03-16T10:02:09.005767Z",
     "iopub.status.idle": "2025-03-16T10:02:09.052686Z",
     "shell.execute_reply": "2025-03-16T10:02:09.051904Z",
     "shell.execute_reply.started": "2025-03-16T10:02:09.006075Z"
    },
    "trusted": true
   },
   "outputs": [
    {
     "data": {
      "text/plain": [
       "title                0\n",
       "release_date         0\n",
       "runtime              0\n",
       "adult                0\n",
       "overview             0\n",
       "original_language    0\n",
       "genres               0\n",
       "keywords             0\n",
       "average_rating       0\n",
       "vote_count           0\n",
       "weighted_score       0\n",
       "popularity_rank      0\n",
       "hybrid_score         0\n",
       "era                  0\n",
       "runtime_type         0\n",
       "language             0\n",
       "dtype: int64"
      ]
     },
     "execution_count": 31,
     "metadata": {},
     "output_type": "execute_result"
    }
   ],
   "source": [
    "# df_for_model[\"overview\"] = df_for_model[\"overview\"].fillna(\"\")\n",
    "df_for_model.isnull().sum()\n",
    "# df_for_model.info()"
   ]
  },
  {
   "cell_type": "code",
   "execution_count": 33,
   "metadata": {
    "execution": {
     "iopub.execute_input": "2025-03-16T12:16:37.646798Z",
     "iopub.status.busy": "2025-03-16T12:16:37.646489Z",
     "iopub.status.idle": "2025-03-16T12:16:38.029561Z",
     "shell.execute_reply": "2025-03-16T12:16:38.028682Z",
     "shell.execute_reply.started": "2025-03-16T12:16:37.646776Z"
    },
    "trusted": true
   },
   "outputs": [
    {
     "name": "stderr",
     "output_type": "stream",
     "text": [
      "<ipython-input-33-77cf469a94f0>:1: SettingWithCopyWarning: \n",
      "A value is trying to be set on a copy of a slice from a DataFrame.\n",
      "Try using .loc[row_indexer,col_indexer] = value instead\n",
      "\n",
      "See the caveats in the documentation: https://pandas.pydata.org/pandas-docs/stable/user_guide/indexing.html#returning-a-view-versus-a-copy\n",
      "  df_for_model[\"release_year\"] = df_for_model[\"release_date\"].dt.year.astype(str)\n",
      "<ipython-input-33-77cf469a94f0>:2: SettingWithCopyWarning: \n",
      "A value is trying to be set on a copy of a slice from a DataFrame.\n",
      "Try using .loc[row_indexer,col_indexer] = value instead\n",
      "\n",
      "See the caveats in the documentation: https://pandas.pydata.org/pandas-docs/stable/user_guide/indexing.html#returning-a-view-versus-a-copy\n",
      "  df_for_model[\"release_month\"] = df_for_model[\"release_date\"].dt.strftime(\"%B\").str.lower()\n"
     ]
    },
    {
     "data": {
      "text/html": [
       "<div>\n",
       "<style scoped>\n",
       "    .dataframe tbody tr th:only-of-type {\n",
       "        vertical-align: middle;\n",
       "    }\n",
       "\n",
       "    .dataframe tbody tr th {\n",
       "        vertical-align: top;\n",
       "    }\n",
       "\n",
       "    .dataframe thead th {\n",
       "        text-align: right;\n",
       "    }\n",
       "</style>\n",
       "<table border=\"1\" class=\"dataframe\">\n",
       "  <thead>\n",
       "    <tr style=\"text-align: right;\">\n",
       "      <th></th>\n",
       "      <th>title</th>\n",
       "      <th>release_date</th>\n",
       "      <th>runtime</th>\n",
       "      <th>adult</th>\n",
       "      <th>overview</th>\n",
       "      <th>original_language</th>\n",
       "      <th>genres</th>\n",
       "      <th>keywords</th>\n",
       "      <th>average_rating</th>\n",
       "      <th>vote_count</th>\n",
       "      <th>weighted_score</th>\n",
       "      <th>popularity_rank</th>\n",
       "      <th>hybrid_score</th>\n",
       "      <th>era</th>\n",
       "      <th>runtime_type</th>\n",
       "      <th>language</th>\n",
       "      <th>release_year</th>\n",
       "      <th>release_month</th>\n",
       "    </tr>\n",
       "  </thead>\n",
       "  <tbody>\n",
       "    <tr>\n",
       "      <th>0</th>\n",
       "      <td>inception</td>\n",
       "      <td>2010-07-15</td>\n",
       "      <td>148</td>\n",
       "      <td>False</td>\n",
       "      <td>Cobb, a skilled thief who commits corporate es...</td>\n",
       "      <td>en</td>\n",
       "      <td>Action, Science Fiction, Adventure</td>\n",
       "      <td>rescue, mission, dream, airplane, paris, franc...</td>\n",
       "      <td>2.159014</td>\n",
       "      <td>34495</td>\n",
       "      <td>2.155889</td>\n",
       "      <td>1.000000</td>\n",
       "      <td>1.809122</td>\n",
       "      <td>digital era</td>\n",
       "      <td>extended feature film</td>\n",
       "      <td>english</td>\n",
       "      <td>2010</td>\n",
       "      <td>july</td>\n",
       "    </tr>\n",
       "    <tr>\n",
       "      <th>1</th>\n",
       "      <td>interstellar</td>\n",
       "      <td>2014-11-05</td>\n",
       "      <td>169</td>\n",
       "      <td>False</td>\n",
       "      <td>The adventures of a group of explorers who mak...</td>\n",
       "      <td>en</td>\n",
       "      <td>Adventure, Drama, Science Fiction</td>\n",
       "      <td>rescue, future, spacecraft, race against time,...</td>\n",
       "      <td>2.209429</td>\n",
       "      <td>32571</td>\n",
       "      <td>2.206043</td>\n",
       "      <td>0.999989</td>\n",
       "      <td>1.844226</td>\n",
       "      <td>digital era</td>\n",
       "      <td>extended feature film</td>\n",
       "      <td>english</td>\n",
       "      <td>2014</td>\n",
       "      <td>november</td>\n",
       "    </tr>\n",
       "    <tr>\n",
       "      <th>2</th>\n",
       "      <td>the dark knight</td>\n",
       "      <td>2008-07-16</td>\n",
       "      <td>152</td>\n",
       "      <td>False</td>\n",
       "      <td>Batman raises the stakes in his war on crime. ...</td>\n",
       "      <td>en</td>\n",
       "      <td>Drama, Action, Crime, Thriller</td>\n",
       "      <td>joker, sadism, chaos, secret identity, crime f...</td>\n",
       "      <td>2.299796</td>\n",
       "      <td>30619</td>\n",
       "      <td>2.296047</td>\n",
       "      <td>0.999977</td>\n",
       "      <td>1.907226</td>\n",
       "      <td>digital era</td>\n",
       "      <td>extended feature film</td>\n",
       "      <td>english</td>\n",
       "      <td>2008</td>\n",
       "      <td>july</td>\n",
       "    </tr>\n",
       "    <tr>\n",
       "      <th>3</th>\n",
       "      <td>avatar</td>\n",
       "      <td>2009-12-15</td>\n",
       "      <td>162</td>\n",
       "      <td>False</td>\n",
       "      <td>In the 22nd century, a paraplegic Marine is di...</td>\n",
       "      <td>en</td>\n",
       "      <td>Action, Adventure, Fantasy, Science Fiction</td>\n",
       "      <td>future, society, culture clash, space travel, ...</td>\n",
       "      <td>1.406588</td>\n",
       "      <td>29815</td>\n",
       "      <td>1.404233</td>\n",
       "      <td>0.999966</td>\n",
       "      <td>1.282953</td>\n",
       "      <td>digital era</td>\n",
       "      <td>extended feature film</td>\n",
       "      <td>english</td>\n",
       "      <td>2009</td>\n",
       "      <td>december</td>\n",
       "    </tr>\n",
       "    <tr>\n",
       "      <th>4</th>\n",
       "      <td>the avengers</td>\n",
       "      <td>2012-04-25</td>\n",
       "      <td>143</td>\n",
       "      <td>False</td>\n",
       "      <td>When an unexpected enemy emerges and threatens...</td>\n",
       "      <td>en</td>\n",
       "      <td>Science Fiction, Action, Adventure</td>\n",
       "      <td>new york city, superhero, shield, based on com...</td>\n",
       "      <td>1.536907</td>\n",
       "      <td>29166</td>\n",
       "      <td>1.534277</td>\n",
       "      <td>0.999955</td>\n",
       "      <td>1.373980</td>\n",
       "      <td>digital era</td>\n",
       "      <td>extended feature film</td>\n",
       "      <td>english</td>\n",
       "      <td>2012</td>\n",
       "      <td>april</td>\n",
       "    </tr>\n",
       "  </tbody>\n",
       "</table>\n",
       "</div>"
      ],
      "text/plain": [
       "             title release_date  runtime  adult  \\\n",
       "0        inception   2010-07-15      148  False   \n",
       "1     interstellar   2014-11-05      169  False   \n",
       "2  the dark knight   2008-07-16      152  False   \n",
       "3           avatar   2009-12-15      162  False   \n",
       "4     the avengers   2012-04-25      143  False   \n",
       "\n",
       "                                            overview original_language  \\\n",
       "0  Cobb, a skilled thief who commits corporate es...                en   \n",
       "1  The adventures of a group of explorers who mak...                en   \n",
       "2  Batman raises the stakes in his war on crime. ...                en   \n",
       "3  In the 22nd century, a paraplegic Marine is di...                en   \n",
       "4  When an unexpected enemy emerges and threatens...                en   \n",
       "\n",
       "                                        genres  \\\n",
       "0           Action, Science Fiction, Adventure   \n",
       "1            Adventure, Drama, Science Fiction   \n",
       "2               Drama, Action, Crime, Thriller   \n",
       "3  Action, Adventure, Fantasy, Science Fiction   \n",
       "4           Science Fiction, Action, Adventure   \n",
       "\n",
       "                                            keywords  average_rating  \\\n",
       "0  rescue, mission, dream, airplane, paris, franc...        2.159014   \n",
       "1  rescue, future, spacecraft, race against time,...        2.209429   \n",
       "2  joker, sadism, chaos, secret identity, crime f...        2.299796   \n",
       "3  future, society, culture clash, space travel, ...        1.406588   \n",
       "4  new york city, superhero, shield, based on com...        1.536907   \n",
       "\n",
       "   vote_count  weighted_score  popularity_rank  hybrid_score          era  \\\n",
       "0       34495        2.155889         1.000000      1.809122  digital era   \n",
       "1       32571        2.206043         0.999989      1.844226  digital era   \n",
       "2       30619        2.296047         0.999977      1.907226  digital era   \n",
       "3       29815        1.404233         0.999966      1.282953  digital era   \n",
       "4       29166        1.534277         0.999955      1.373980  digital era   \n",
       "\n",
       "            runtime_type language release_year release_month  \n",
       "0  extended feature film  english         2010          july  \n",
       "1  extended feature film  english         2014      november  \n",
       "2  extended feature film  english         2008          july  \n",
       "3  extended feature film  english         2009      december  \n",
       "4  extended feature film  english         2012         april  "
      ]
     },
     "execution_count": 33,
     "metadata": {},
     "output_type": "execute_result"
    }
   ],
   "source": [
    "df_for_model[\"release_year\"] = df_for_model[\"release_date\"].dt.year.astype(str)\n",
    "df_for_model[\"release_month\"] = df_for_model[\"release_date\"].dt.strftime(\"%B\").str.lower()\n",
    "df_for_model.head()"
   ]
  },
  {
   "cell_type": "code",
   "execution_count": 34,
   "metadata": {
    "execution": {
     "iopub.execute_input": "2025-03-16T12:16:42.428130Z",
     "iopub.status.busy": "2025-03-16T12:16:42.427855Z",
     "iopub.status.idle": "2025-03-16T12:16:42.434823Z",
     "shell.execute_reply": "2025-03-16T12:16:42.433855Z",
     "shell.execute_reply.started": "2025-03-16T12:16:42.428110Z"
    },
    "trusted": true
   },
   "outputs": [],
   "source": [
    "def define_month(row):\n",
    "    if row['release_month']=='january':\n",
    "        return 1\n",
    "    elif row['release_month']=='february':\n",
    "        return 2\n",
    "    elif row['release_month']=='march':\n",
    "        return 3\n",
    "    elif row['release_month']=='april':\n",
    "        return 4\n",
    "    elif row['release_month']=='may':\n",
    "        return 5\n",
    "    elif row['release_month']=='june':\n",
    "        return 6\n",
    "    elif row['release_month']=='july':\n",
    "        return 7\n",
    "    elif row['release_month']=='august':\n",
    "        return 8\n",
    "    elif row['release_month']=='september':\n",
    "        return 9\n",
    "    elif row['release_month']=='october':\n",
    "        return 10\n",
    "    elif row['release_month']=='november':\n",
    "        return 11\n",
    "    elif row['release_month']=='december':\n",
    "        return 12"
   ]
  },
  {
   "cell_type": "code",
   "execution_count": 36,
   "metadata": {
    "execution": {
     "iopub.execute_input": "2025-03-16T12:17:23.338755Z",
     "iopub.status.busy": "2025-03-16T12:17:23.338389Z",
     "iopub.status.idle": "2025-03-16T12:17:25.961004Z",
     "shell.execute_reply": "2025-03-16T12:17:25.960190Z",
     "shell.execute_reply.started": "2025-03-16T12:17:23.338727Z"
    },
    "trusted": true
   },
   "outputs": [
    {
     "name": "stderr",
     "output_type": "stream",
     "text": [
      "<ipython-input-36-438d85ebb7c8>:1: SettingWithCopyWarning: \n",
      "A value is trying to be set on a copy of a slice from a DataFrame.\n",
      "Try using .loc[row_indexer,col_indexer] = value instead\n",
      "\n",
      "See the caveats in the documentation: https://pandas.pydata.org/pandas-docs/stable/user_guide/indexing.html#returning-a-view-versus-a-copy\n",
      "  df_for_model['release_month'] = df_for_model.apply(define_month, axis=1)\n"
     ]
    },
    {
     "data": {
      "text/html": [
       "<div>\n",
       "<style scoped>\n",
       "    .dataframe tbody tr th:only-of-type {\n",
       "        vertical-align: middle;\n",
       "    }\n",
       "\n",
       "    .dataframe tbody tr th {\n",
       "        vertical-align: top;\n",
       "    }\n",
       "\n",
       "    .dataframe thead th {\n",
       "        text-align: right;\n",
       "    }\n",
       "</style>\n",
       "<table border=\"1\" class=\"dataframe\">\n",
       "  <thead>\n",
       "    <tr style=\"text-align: right;\">\n",
       "      <th></th>\n",
       "      <th>title</th>\n",
       "      <th>release_date</th>\n",
       "      <th>runtime</th>\n",
       "      <th>adult</th>\n",
       "      <th>overview</th>\n",
       "      <th>original_language</th>\n",
       "      <th>genres</th>\n",
       "      <th>keywords</th>\n",
       "      <th>average_rating</th>\n",
       "      <th>vote_count</th>\n",
       "      <th>weighted_score</th>\n",
       "      <th>popularity_rank</th>\n",
       "      <th>hybrid_score</th>\n",
       "      <th>era</th>\n",
       "      <th>runtime_type</th>\n",
       "      <th>language</th>\n",
       "      <th>release_year</th>\n",
       "      <th>release_month</th>\n",
       "    </tr>\n",
       "  </thead>\n",
       "  <tbody>\n",
       "    <tr>\n",
       "      <th>0</th>\n",
       "      <td>inception</td>\n",
       "      <td>2010-07-15</td>\n",
       "      <td>148</td>\n",
       "      <td>False</td>\n",
       "      <td>Cobb, a skilled thief who commits corporate es...</td>\n",
       "      <td>en</td>\n",
       "      <td>Action, Science Fiction, Adventure</td>\n",
       "      <td>rescue, mission, dream, airplane, paris, franc...</td>\n",
       "      <td>2.159014</td>\n",
       "      <td>34495</td>\n",
       "      <td>2.155889</td>\n",
       "      <td>1.000000</td>\n",
       "      <td>1.809122</td>\n",
       "      <td>digital era</td>\n",
       "      <td>extended feature film</td>\n",
       "      <td>english</td>\n",
       "      <td>2010</td>\n",
       "      <td>None</td>\n",
       "    </tr>\n",
       "    <tr>\n",
       "      <th>1</th>\n",
       "      <td>interstellar</td>\n",
       "      <td>2014-11-05</td>\n",
       "      <td>169</td>\n",
       "      <td>False</td>\n",
       "      <td>The adventures of a group of explorers who mak...</td>\n",
       "      <td>en</td>\n",
       "      <td>Adventure, Drama, Science Fiction</td>\n",
       "      <td>rescue, future, spacecraft, race against time,...</td>\n",
       "      <td>2.209429</td>\n",
       "      <td>32571</td>\n",
       "      <td>2.206043</td>\n",
       "      <td>0.999989</td>\n",
       "      <td>1.844226</td>\n",
       "      <td>digital era</td>\n",
       "      <td>extended feature film</td>\n",
       "      <td>english</td>\n",
       "      <td>2014</td>\n",
       "      <td>None</td>\n",
       "    </tr>\n",
       "    <tr>\n",
       "      <th>2</th>\n",
       "      <td>the dark knight</td>\n",
       "      <td>2008-07-16</td>\n",
       "      <td>152</td>\n",
       "      <td>False</td>\n",
       "      <td>Batman raises the stakes in his war on crime. ...</td>\n",
       "      <td>en</td>\n",
       "      <td>Drama, Action, Crime, Thriller</td>\n",
       "      <td>joker, sadism, chaos, secret identity, crime f...</td>\n",
       "      <td>2.299796</td>\n",
       "      <td>30619</td>\n",
       "      <td>2.296047</td>\n",
       "      <td>0.999977</td>\n",
       "      <td>1.907226</td>\n",
       "      <td>digital era</td>\n",
       "      <td>extended feature film</td>\n",
       "      <td>english</td>\n",
       "      <td>2008</td>\n",
       "      <td>None</td>\n",
       "    </tr>\n",
       "    <tr>\n",
       "      <th>3</th>\n",
       "      <td>avatar</td>\n",
       "      <td>2009-12-15</td>\n",
       "      <td>162</td>\n",
       "      <td>False</td>\n",
       "      <td>In the 22nd century, a paraplegic Marine is di...</td>\n",
       "      <td>en</td>\n",
       "      <td>Action, Adventure, Fantasy, Science Fiction</td>\n",
       "      <td>future, society, culture clash, space travel, ...</td>\n",
       "      <td>1.406588</td>\n",
       "      <td>29815</td>\n",
       "      <td>1.404233</td>\n",
       "      <td>0.999966</td>\n",
       "      <td>1.282953</td>\n",
       "      <td>digital era</td>\n",
       "      <td>extended feature film</td>\n",
       "      <td>english</td>\n",
       "      <td>2009</td>\n",
       "      <td>None</td>\n",
       "    </tr>\n",
       "    <tr>\n",
       "      <th>4</th>\n",
       "      <td>the avengers</td>\n",
       "      <td>2012-04-25</td>\n",
       "      <td>143</td>\n",
       "      <td>False</td>\n",
       "      <td>When an unexpected enemy emerges and threatens...</td>\n",
       "      <td>en</td>\n",
       "      <td>Science Fiction, Action, Adventure</td>\n",
       "      <td>new york city, superhero, shield, based on com...</td>\n",
       "      <td>1.536907</td>\n",
       "      <td>29166</td>\n",
       "      <td>1.534277</td>\n",
       "      <td>0.999955</td>\n",
       "      <td>1.373980</td>\n",
       "      <td>digital era</td>\n",
       "      <td>extended feature film</td>\n",
       "      <td>english</td>\n",
       "      <td>2012</td>\n",
       "      <td>None</td>\n",
       "    </tr>\n",
       "  </tbody>\n",
       "</table>\n",
       "</div>"
      ],
      "text/plain": [
       "             title release_date  runtime  adult  \\\n",
       "0        inception   2010-07-15      148  False   \n",
       "1     interstellar   2014-11-05      169  False   \n",
       "2  the dark knight   2008-07-16      152  False   \n",
       "3           avatar   2009-12-15      162  False   \n",
       "4     the avengers   2012-04-25      143  False   \n",
       "\n",
       "                                            overview original_language  \\\n",
       "0  Cobb, a skilled thief who commits corporate es...                en   \n",
       "1  The adventures of a group of explorers who mak...                en   \n",
       "2  Batman raises the stakes in his war on crime. ...                en   \n",
       "3  In the 22nd century, a paraplegic Marine is di...                en   \n",
       "4  When an unexpected enemy emerges and threatens...                en   \n",
       "\n",
       "                                        genres  \\\n",
       "0           Action, Science Fiction, Adventure   \n",
       "1            Adventure, Drama, Science Fiction   \n",
       "2               Drama, Action, Crime, Thriller   \n",
       "3  Action, Adventure, Fantasy, Science Fiction   \n",
       "4           Science Fiction, Action, Adventure   \n",
       "\n",
       "                                            keywords  average_rating  \\\n",
       "0  rescue, mission, dream, airplane, paris, franc...        2.159014   \n",
       "1  rescue, future, spacecraft, race against time,...        2.209429   \n",
       "2  joker, sadism, chaos, secret identity, crime f...        2.299796   \n",
       "3  future, society, culture clash, space travel, ...        1.406588   \n",
       "4  new york city, superhero, shield, based on com...        1.536907   \n",
       "\n",
       "   vote_count  weighted_score  popularity_rank  hybrid_score          era  \\\n",
       "0       34495        2.155889         1.000000      1.809122  digital era   \n",
       "1       32571        2.206043         0.999989      1.844226  digital era   \n",
       "2       30619        2.296047         0.999977      1.907226  digital era   \n",
       "3       29815        1.404233         0.999966      1.282953  digital era   \n",
       "4       29166        1.534277         0.999955      1.373980  digital era   \n",
       "\n",
       "            runtime_type language release_year release_month  \n",
       "0  extended feature film  english         2010          None  \n",
       "1  extended feature film  english         2014          None  \n",
       "2  extended feature film  english         2008          None  \n",
       "3  extended feature film  english         2009          None  \n",
       "4  extended feature film  english         2012          None  "
      ]
     },
     "execution_count": 36,
     "metadata": {},
     "output_type": "execute_result"
    }
   ],
   "source": [
    "df_for_model['release_month'] = df_for_model.apply(define_month, axis=1)\n",
    "df_for_model.head()"
   ]
  },
  {
   "cell_type": "code",
   "execution_count": 37,
   "metadata": {
    "execution": {
     "iopub.execute_input": "2025-03-16T12:17:28.890158Z",
     "iopub.status.busy": "2025-03-16T12:17:28.889883Z",
     "iopub.status.idle": "2025-03-16T12:17:29.453827Z",
     "shell.execute_reply": "2025-03-16T12:17:29.452907Z",
     "shell.execute_reply.started": "2025-03-16T12:17:28.890138Z"
    },
    "trusted": true
   },
   "outputs": [
    {
     "name": "stderr",
     "output_type": "stream",
     "text": [
      "<ipython-input-37-bbdb74bb8022>:19: SettingWithCopyWarning: \n",
      "A value is trying to be set on a copy of a slice from a DataFrame.\n",
      "Try using .loc[row_indexer,col_indexer] = value instead\n",
      "\n",
      "See the caveats in the documentation: https://pandas.pydata.org/pandas-docs/stable/user_guide/indexing.html#returning-a-view-versus-a-copy\n",
      "  df_for_model[\"combined_text\"] = (\n",
      "<ipython-input-37-bbdb74bb8022>:28: SettingWithCopyWarning: \n",
      "A value is trying to be set on a copy of a slice from a DataFrame.\n",
      "Try using .loc[row_indexer,col_indexer] = value instead\n",
      "\n",
      "See the caveats in the documentation: https://pandas.pydata.org/pandas-docs/stable/user_guide/indexing.html#returning-a-view-versus-a-copy\n",
      "  df_for_model[\"combined_text\"] = df_for_model[\"combined_text\"].str.lower()\n"
     ]
    }
   ],
   "source": [
    "# df_for_model[\"combined_text\"] = (\n",
    "#     df_for_model[\"title\"] + \" - \" + df_for_model[\"overview\"] +\n",
    "#     \" | Release Year: \" + df_for_model[\"release_year\"].astype(str) +\n",
    "#     \" | Release Month: \" + df_for_model[\"release_month\"].astype(str) +\n",
    "#     \" | Genres: \" + df_for_model[\"genres\"] +\n",
    "#     \" | Keywords: \" + df_for_model[\"keywords\"] +\n",
    "#     \" | Era: \" + df_for_model[\"era\"] +\n",
    "#     \" | Runtime Type: \" + df_for_model[\"runtime_type\"] +\n",
    "#     \" | Language: \" + df_for_model[\"language\"] +\n",
    "#     \" | Rating: \" + df_for_model[\"average_rating\"].astype(str) +\n",
    "#     \" | Vote Count: \" + df_for_model[\"vote_count\"].astype(str) +\n",
    "#     \" | Runtime: \" + df_for_model[\"runtime\"].astype(str) + \" minutes\"\n",
    "# )\n",
    "\n",
    "# df_for_model[\"combined_text\"] = df_for_model[\"combined_text\"].str.lower()\n",
    "\n",
    "# df_for_model.head()\n",
    "\n",
    "df_for_model[\"combined_text\"] = (\n",
    "    df_for_model[\"title\"] + \" - \" + df_for_model[\"overview\"] +\n",
    "    \"; Genres: \" + df_for_model[\"genres\"] +\n",
    "    \"; Keywords: \" + df_for_model[\"keywords\"] +\n",
    "    \"; Era: \" + df_for_model[\"era\"] +\n",
    "    \"; Popularity Rank: \" + df_for_model[\"popularity_rank\"].astype(str) +\n",
    "    \"; Average Rating: \" + df_for_model[\"average_rating\"].astype(str) \n",
    ")\n",
    "\n",
    "df_for_model[\"combined_text\"] = df_for_model[\"combined_text\"].str.lower()\n"
   ]
  },
  {
   "cell_type": "code",
   "execution_count": null,
   "metadata": {
    "execution": {
     "iopub.execute_input": "2025-03-15T16:26:40.925602Z",
     "iopub.status.busy": "2025-03-15T16:26:40.925226Z",
     "iopub.status.idle": "2025-03-15T16:26:55.582743Z",
     "shell.execute_reply": "2025-03-15T16:26:55.581682Z",
     "shell.execute_reply.started": "2025-03-15T16:26:40.925570Z"
    },
    "trusted": true
   },
   "outputs": [],
   "source": [
    "# from transformers import AutoTokenizer, AutoModel\n",
    "# import torch\n",
    "\n",
    "# # Load model & tokenizer\n",
    "# model_name = \"/kaggle/input/all-minilm-l6-v2\"  # Make sure this path is correct\n",
    "# device = \"cuda\" if torch.cuda.is_available() else \"cpu\"\n",
    "\n",
    "# tokenizer = AutoTokenizer.from_pretrained(model_name)\n",
    "# model = AutoModel.from_pretrained(model_name).to(device)  # Move model to GPU\n",
    "\n",
    "# # Function to generate text embeddings\n",
    "# def get_text_embedding(text):\n",
    "#     inputs = tokenizer(text, return_tensors=\"pt\", padding=True, truncation=True, max_length=512).to(device) \n",
    "#     with torch.no_grad():\n",
    "#         outputs = model(**inputs)\n",
    "#     return outputs.last_hidden_state.mean(dim=1).squeeze().cpu().numpy()  # Move back to CPU for storage\n",
    "\n",
    "# print(\"Model loaded on:\", device)\n"
   ]
  },
  {
   "cell_type": "code",
   "execution_count": 38,
   "metadata": {
    "execution": {
     "iopub.execute_input": "2025-03-16T12:17:37.973016Z",
     "iopub.status.busy": "2025-03-16T12:17:37.972739Z",
     "iopub.status.idle": "2025-03-16T12:17:41.176742Z",
     "shell.execute_reply": "2025-03-16T12:17:41.175876Z",
     "shell.execute_reply.started": "2025-03-16T12:17:37.972997Z"
    },
    "trusted": true
   },
   "outputs": [
    {
     "name": "stdout",
     "output_type": "stream",
     "text": [
      "Is CUDA available?: True\n",
      "CUDA device count: 1\n",
      "Current device: 0\n",
      "Device name: Tesla P100-PCIE-16GB\n"
     ]
    }
   ],
   "source": [
    "import torch\n",
    "\n",
    "print(\"Is CUDA available?:\", torch.cuda.is_available())\n",
    "print(\"CUDA device count:\", torch.cuda.device_count())\n",
    "print(\"Current device:\", torch.cuda.current_device() if torch.cuda.is_available() else \"No CUDA\")\n",
    "print(\"Device name:\", torch.cuda.get_device_name(0) if torch.cuda.is_available() else \"No CUDA\")\n"
   ]
  },
  {
   "cell_type": "code",
   "execution_count": 37,
   "metadata": {
    "execution": {
     "iopub.execute_input": "2025-03-16T10:02:40.208436Z",
     "iopub.status.busy": "2025-03-16T10:02:40.207977Z",
     "iopub.status.idle": "2025-03-16T10:02:40.213358Z",
     "shell.execute_reply": "2025-03-16T10:02:40.212467Z",
     "shell.execute_reply.started": "2025-03-16T10:02:40.208406Z"
    },
    "trusted": true
   },
   "outputs": [
    {
     "name": "stdout",
     "output_type": "stream",
     "text": [
      "0.0 GB used\n"
     ]
    }
   ],
   "source": [
    "import torch\n",
    "print(torch.cuda.memory_allocated() / 1e9, \"GB used\")\n"
   ]
  },
  {
   "cell_type": "code",
   "execution_count": 41,
   "metadata": {
    "execution": {
     "iopub.execute_input": "2025-03-16T12:21:12.519783Z",
     "iopub.status.busy": "2025-03-16T12:21:12.519432Z",
     "iopub.status.idle": "2025-03-16T13:05:40.381034Z",
     "shell.execute_reply": "2025-03-16T13:05:40.380063Z",
     "shell.execute_reply.started": "2025-03-16T12:21:12.519754Z"
    },
    "trusted": true
   },
   "outputs": [
    {
     "data": {
      "application/vnd.jupyter.widget-view+json": {
       "model_id": "27afbc685a62456ea4e43f504e78f7fe",
       "version_major": 2,
       "version_minor": 0
      },
      "text/plain": [
       "modules.json:   0%|          | 0.00/349 [00:00<?, ?B/s]"
      ]
     },
     "metadata": {},
     "output_type": "display_data"
    },
    {
     "data": {
      "application/vnd.jupyter.widget-view+json": {
       "model_id": "1ce7f253492e43b48a4fe6b91cdb6dd6",
       "version_major": 2,
       "version_minor": 0
      },
      "text/plain": [
       "config_sentence_transformers.json:   0%|          | 0.00/123 [00:00<?, ?B/s]"
      ]
     },
     "metadata": {},
     "output_type": "display_data"
    },
    {
     "data": {
      "application/vnd.jupyter.widget-view+json": {
       "model_id": "8c44e6b03fc44f16b5ec535a17874430",
       "version_major": 2,
       "version_minor": 0
      },
      "text/plain": [
       "README.md:   0%|          | 0.00/15.8k [00:00<?, ?B/s]"
      ]
     },
     "metadata": {},
     "output_type": "display_data"
    },
    {
     "data": {
      "application/vnd.jupyter.widget-view+json": {
       "model_id": "3c0aa5319f544ae0895ca922c3139b3a",
       "version_major": 2,
       "version_minor": 0
      },
      "text/plain": [
       "sentence_bert_config.json:   0%|          | 0.00/54.0 [00:00<?, ?B/s]"
      ]
     },
     "metadata": {},
     "output_type": "display_data"
    },
    {
     "data": {
      "application/vnd.jupyter.widget-view+json": {
       "model_id": "3d5e8e1cb7b748728ecb188cf8c366d1",
       "version_major": 2,
       "version_minor": 0
      },
      "text/plain": [
       "config.json:   0%|          | 0.00/687 [00:00<?, ?B/s]"
      ]
     },
     "metadata": {},
     "output_type": "display_data"
    },
    {
     "data": {
      "application/vnd.jupyter.widget-view+json": {
       "model_id": "1569133681e7400aaae78ff90021eb0a",
       "version_major": 2,
       "version_minor": 0
      },
      "text/plain": [
       "pytorch_model.bin:   0%|          | 0.00/2.27G [00:00<?, ?B/s]"
      ]
     },
     "metadata": {},
     "output_type": "display_data"
    },
    {
     "data": {
      "application/vnd.jupyter.widget-view+json": {
       "model_id": "d71952ee9447404cbe08a6e6806375c0",
       "version_major": 2,
       "version_minor": 0
      },
      "text/plain": [
       "tokenizer_config.json:   0%|          | 0.00/444 [00:00<?, ?B/s]"
      ]
     },
     "metadata": {},
     "output_type": "display_data"
    },
    {
     "data": {
      "application/vnd.jupyter.widget-view+json": {
       "model_id": "9968feae8aff46b894dcb21ccb92e6e8",
       "version_major": 2,
       "version_minor": 0
      },
      "text/plain": [
       "sentencepiece.bpe.model:   0%|          | 0.00/5.07M [00:00<?, ?B/s]"
      ]
     },
     "metadata": {},
     "output_type": "display_data"
    },
    {
     "data": {
      "application/vnd.jupyter.widget-view+json": {
       "model_id": "1561b31b34e640dc92e360bd021c348d",
       "version_major": 2,
       "version_minor": 0
      },
      "text/plain": [
       "tokenizer.json:   0%|          | 0.00/17.1M [00:00<?, ?B/s]"
      ]
     },
     "metadata": {},
     "output_type": "display_data"
    },
    {
     "data": {
      "application/vnd.jupyter.widget-view+json": {
       "model_id": "6be9a4afa77b4b8080b5e85e66c1f32c",
       "version_major": 2,
       "version_minor": 0
      },
      "text/plain": [
       "special_tokens_map.json:   0%|          | 0.00/964 [00:00<?, ?B/s]"
      ]
     },
     "metadata": {},
     "output_type": "display_data"
    },
    {
     "data": {
      "application/vnd.jupyter.widget-view+json": {
       "model_id": "3f13b65c720f4a2ea48f4692ba9bac54",
       "version_major": 2,
       "version_minor": 0
      },
      "text/plain": [
       "config.json:   0%|          | 0.00/191 [00:00<?, ?B/s]"
      ]
     },
     "metadata": {},
     "output_type": "display_data"
    },
    {
     "name": "stderr",
     "output_type": "stream",
     "text": [
      "<ipython-input-41-be7cfb4c6813>:8: SettingWithCopyWarning: \n",
      "A value is trying to be set on a copy of a slice from a DataFrame.\n",
      "Try using .loc[row_indexer,col_indexer] = value instead\n",
      "\n",
      "See the caveats in the documentation: https://pandas.pydata.org/pandas-docs/stable/user_guide/indexing.html#returning-a-view-versus-a-copy\n",
      "  df_for_model[\"embedding\"] = df_for_model[\"combined_text\"].apply(get_embedding)\n"
     ]
    }
   ],
   "source": [
    "from sentence_transformers import SentenceTransformer\n",
    "\n",
    "model = SentenceTransformer(\"BAAI/bge-m3\", device=\"cuda\")  # Auto-detects GPU\n",
    "\n",
    "def get_embedding(text):\n",
    "    return model.encode(text, convert_to_numpy=True, show_progress_bar=False)  # Auto-handles tokenization & batching\n",
    "\n",
    "df_for_model[\"embedding\"] = df_for_model[\"combined_text\"].apply(get_embedding)\n"
   ]
  },
  {
   "cell_type": "code",
   "execution_count": null,
   "metadata": {
    "execution": {
     "iopub.execute_input": "2025-03-15T16:27:08.938828Z",
     "iopub.status.busy": "2025-03-15T16:27:08.938483Z",
     "iopub.status.idle": "2025-03-15T16:47:14.650022Z",
     "shell.execute_reply": "2025-03-15T16:47:14.649189Z",
     "shell.execute_reply.started": "2025-03-15T16:27:08.938798Z"
    },
    "trusted": true
   },
   "outputs": [],
   "source": [
    "# import torch\n",
    "# from tqdm import tqdm  # For progress bar\n",
    "\n",
    "# # Ensure model is on GPU\n",
    "# device = \"cuda\" if torch.cuda.is_available() else \"cpu\"\n",
    "# model.to(device)\n",
    "\n",
    "# batch_size = 512\n",
    "# embeddings = []\n",
    "\n",
    "# for i in tqdm(range(0, len(df_for_model), batch_size)):  \n",
    "#     batch_texts = df_for_model[\"combined_text\"].iloc[i : i + batch_size].tolist()  \n",
    "\n",
    "#     inputs = tokenizer(batch_texts, return_tensors=\"pt\", padding=True, truncation=True, max_length=512)\n",
    "#     inputs = {key: value.to(device) for key, value in inputs.items()}\n",
    "\n",
    "#     with torch.no_grad():\n",
    "#         outputs = model(**inputs)  # Forward pass on GPU\n",
    "        \n",
    "#         batch_embeddings = outputs.last_hidden_state[:, 0, :].cpu().numpy()  # Use first token (CLS)\n",
    "        \n",
    "#     batch_ratings = df_for_model[\"weighted_rating\"].iloc[i : i + batch_size].values.reshape(-1, 1)\n",
    "#     batch_votes = df_for_model[\"vote_count\"].iloc[i : i + batch_size].values.reshape(-1, 1)\n",
    "\n",
    "#     final_embeddings = np.hstack([batch_embeddings, batch_ratings, batch_votes])\n",
    "\n",
    "#     embeddings.append(final_embeddings)\n",
    "\n",
    "\n",
    "\n"
   ]
  },
  {
   "cell_type": "code",
   "execution_count": 42,
   "metadata": {
    "execution": {
     "iopub.execute_input": "2025-03-16T13:07:39.520432Z",
     "iopub.status.busy": "2025-03-16T13:07:39.519670Z",
     "iopub.status.idle": "2025-03-16T13:07:39.541278Z",
     "shell.execute_reply": "2025-03-16T13:07:39.540546Z",
     "shell.execute_reply.started": "2025-03-16T13:07:39.520405Z"
    },
    "trusted": true
   },
   "outputs": [
    {
     "data": {
      "text/html": [
       "<div>\n",
       "<style scoped>\n",
       "    .dataframe tbody tr th:only-of-type {\n",
       "        vertical-align: middle;\n",
       "    }\n",
       "\n",
       "    .dataframe tbody tr th {\n",
       "        vertical-align: top;\n",
       "    }\n",
       "\n",
       "    .dataframe thead th {\n",
       "        text-align: right;\n",
       "    }\n",
       "</style>\n",
       "<table border=\"1\" class=\"dataframe\">\n",
       "  <thead>\n",
       "    <tr style=\"text-align: right;\">\n",
       "      <th></th>\n",
       "      <th>title</th>\n",
       "      <th>release_date</th>\n",
       "      <th>runtime</th>\n",
       "      <th>adult</th>\n",
       "      <th>overview</th>\n",
       "      <th>original_language</th>\n",
       "      <th>genres</th>\n",
       "      <th>keywords</th>\n",
       "      <th>average_rating</th>\n",
       "      <th>vote_count</th>\n",
       "      <th>weighted_score</th>\n",
       "      <th>popularity_rank</th>\n",
       "      <th>hybrid_score</th>\n",
       "      <th>era</th>\n",
       "      <th>runtime_type</th>\n",
       "      <th>language</th>\n",
       "      <th>release_year</th>\n",
       "      <th>release_month</th>\n",
       "      <th>combined_text</th>\n",
       "      <th>embedding</th>\n",
       "    </tr>\n",
       "  </thead>\n",
       "  <tbody>\n",
       "    <tr>\n",
       "      <th>0</th>\n",
       "      <td>inception</td>\n",
       "      <td>2010-07-15</td>\n",
       "      <td>148</td>\n",
       "      <td>False</td>\n",
       "      <td>Cobb, a skilled thief who commits corporate es...</td>\n",
       "      <td>en</td>\n",
       "      <td>Action, Science Fiction, Adventure</td>\n",
       "      <td>rescue, mission, dream, airplane, paris, franc...</td>\n",
       "      <td>2.159014</td>\n",
       "      <td>34495</td>\n",
       "      <td>2.155889</td>\n",
       "      <td>1.000000</td>\n",
       "      <td>1.809122</td>\n",
       "      <td>digital era</td>\n",
       "      <td>extended feature film</td>\n",
       "      <td>english</td>\n",
       "      <td>2010</td>\n",
       "      <td>None</td>\n",
       "      <td>inception - cobb, a skilled thief who commits ...</td>\n",
       "      <td>[-0.02167785, -0.010563373, -0.020019745, -0.0...</td>\n",
       "    </tr>\n",
       "    <tr>\n",
       "      <th>1</th>\n",
       "      <td>interstellar</td>\n",
       "      <td>2014-11-05</td>\n",
       "      <td>169</td>\n",
       "      <td>False</td>\n",
       "      <td>The adventures of a group of explorers who mak...</td>\n",
       "      <td>en</td>\n",
       "      <td>Adventure, Drama, Science Fiction</td>\n",
       "      <td>rescue, future, spacecraft, race against time,...</td>\n",
       "      <td>2.209429</td>\n",
       "      <td>32571</td>\n",
       "      <td>2.206043</td>\n",
       "      <td>0.999989</td>\n",
       "      <td>1.844226</td>\n",
       "      <td>digital era</td>\n",
       "      <td>extended feature film</td>\n",
       "      <td>english</td>\n",
       "      <td>2014</td>\n",
       "      <td>None</td>\n",
       "      <td>interstellar - the adventures of a group of ex...</td>\n",
       "      <td>[-0.03320888, -0.021832213, 0.01224136, -0.004...</td>\n",
       "    </tr>\n",
       "    <tr>\n",
       "      <th>2</th>\n",
       "      <td>the dark knight</td>\n",
       "      <td>2008-07-16</td>\n",
       "      <td>152</td>\n",
       "      <td>False</td>\n",
       "      <td>Batman raises the stakes in his war on crime. ...</td>\n",
       "      <td>en</td>\n",
       "      <td>Drama, Action, Crime, Thriller</td>\n",
       "      <td>joker, sadism, chaos, secret identity, crime f...</td>\n",
       "      <td>2.299796</td>\n",
       "      <td>30619</td>\n",
       "      <td>2.296047</td>\n",
       "      <td>0.999977</td>\n",
       "      <td>1.907226</td>\n",
       "      <td>digital era</td>\n",
       "      <td>extended feature film</td>\n",
       "      <td>english</td>\n",
       "      <td>2008</td>\n",
       "      <td>None</td>\n",
       "      <td>the dark knight - batman raises the stakes in ...</td>\n",
       "      <td>[0.03250959, -0.013972926, -0.034696996, -0.02...</td>\n",
       "    </tr>\n",
       "    <tr>\n",
       "      <th>3</th>\n",
       "      <td>avatar</td>\n",
       "      <td>2009-12-15</td>\n",
       "      <td>162</td>\n",
       "      <td>False</td>\n",
       "      <td>In the 22nd century, a paraplegic Marine is di...</td>\n",
       "      <td>en</td>\n",
       "      <td>Action, Adventure, Fantasy, Science Fiction</td>\n",
       "      <td>future, society, culture clash, space travel, ...</td>\n",
       "      <td>1.406588</td>\n",
       "      <td>29815</td>\n",
       "      <td>1.404233</td>\n",
       "      <td>0.999966</td>\n",
       "      <td>1.282953</td>\n",
       "      <td>digital era</td>\n",
       "      <td>extended feature film</td>\n",
       "      <td>english</td>\n",
       "      <td>2009</td>\n",
       "      <td>None</td>\n",
       "      <td>avatar - in the 22nd century, a paraplegic mar...</td>\n",
       "      <td>[0.004729328, -0.0051356, -0.028671885, 0.0035...</td>\n",
       "    </tr>\n",
       "    <tr>\n",
       "      <th>4</th>\n",
       "      <td>the avengers</td>\n",
       "      <td>2012-04-25</td>\n",
       "      <td>143</td>\n",
       "      <td>False</td>\n",
       "      <td>When an unexpected enemy emerges and threatens...</td>\n",
       "      <td>en</td>\n",
       "      <td>Science Fiction, Action, Adventure</td>\n",
       "      <td>new york city, superhero, shield, based on com...</td>\n",
       "      <td>1.536907</td>\n",
       "      <td>29166</td>\n",
       "      <td>1.534277</td>\n",
       "      <td>0.999955</td>\n",
       "      <td>1.373980</td>\n",
       "      <td>digital era</td>\n",
       "      <td>extended feature film</td>\n",
       "      <td>english</td>\n",
       "      <td>2012</td>\n",
       "      <td>None</td>\n",
       "      <td>the avengers - when an unexpected enemy emerge...</td>\n",
       "      <td>[-0.02557879, 0.011758432, -0.04127669, 0.0002...</td>\n",
       "    </tr>\n",
       "  </tbody>\n",
       "</table>\n",
       "</div>"
      ],
      "text/plain": [
       "             title release_date  runtime  adult  \\\n",
       "0        inception   2010-07-15      148  False   \n",
       "1     interstellar   2014-11-05      169  False   \n",
       "2  the dark knight   2008-07-16      152  False   \n",
       "3           avatar   2009-12-15      162  False   \n",
       "4     the avengers   2012-04-25      143  False   \n",
       "\n",
       "                                            overview original_language  \\\n",
       "0  Cobb, a skilled thief who commits corporate es...                en   \n",
       "1  The adventures of a group of explorers who mak...                en   \n",
       "2  Batman raises the stakes in his war on crime. ...                en   \n",
       "3  In the 22nd century, a paraplegic Marine is di...                en   \n",
       "4  When an unexpected enemy emerges and threatens...                en   \n",
       "\n",
       "                                        genres  \\\n",
       "0           Action, Science Fiction, Adventure   \n",
       "1            Adventure, Drama, Science Fiction   \n",
       "2               Drama, Action, Crime, Thriller   \n",
       "3  Action, Adventure, Fantasy, Science Fiction   \n",
       "4           Science Fiction, Action, Adventure   \n",
       "\n",
       "                                            keywords  average_rating  \\\n",
       "0  rescue, mission, dream, airplane, paris, franc...        2.159014   \n",
       "1  rescue, future, spacecraft, race against time,...        2.209429   \n",
       "2  joker, sadism, chaos, secret identity, crime f...        2.299796   \n",
       "3  future, society, culture clash, space travel, ...        1.406588   \n",
       "4  new york city, superhero, shield, based on com...        1.536907   \n",
       "\n",
       "   vote_count  weighted_score  popularity_rank  hybrid_score          era  \\\n",
       "0       34495        2.155889         1.000000      1.809122  digital era   \n",
       "1       32571        2.206043         0.999989      1.844226  digital era   \n",
       "2       30619        2.296047         0.999977      1.907226  digital era   \n",
       "3       29815        1.404233         0.999966      1.282953  digital era   \n",
       "4       29166        1.534277         0.999955      1.373980  digital era   \n",
       "\n",
       "            runtime_type language release_year release_month  \\\n",
       "0  extended feature film  english         2010          None   \n",
       "1  extended feature film  english         2014          None   \n",
       "2  extended feature film  english         2008          None   \n",
       "3  extended feature film  english         2009          None   \n",
       "4  extended feature film  english         2012          None   \n",
       "\n",
       "                                       combined_text  \\\n",
       "0  inception - cobb, a skilled thief who commits ...   \n",
       "1  interstellar - the adventures of a group of ex...   \n",
       "2  the dark knight - batman raises the stakes in ...   \n",
       "3  avatar - in the 22nd century, a paraplegic mar...   \n",
       "4  the avengers - when an unexpected enemy emerge...   \n",
       "\n",
       "                                           embedding  \n",
       "0  [-0.02167785, -0.010563373, -0.020019745, -0.0...  \n",
       "1  [-0.03320888, -0.021832213, 0.01224136, -0.004...  \n",
       "2  [0.03250959, -0.013972926, -0.034696996, -0.02...  \n",
       "3  [0.004729328, -0.0051356, -0.028671885, 0.0035...  \n",
       "4  [-0.02557879, 0.011758432, -0.04127669, 0.0002...  "
      ]
     },
     "execution_count": 42,
     "metadata": {},
     "output_type": "execute_result"
    }
   ],
   "source": [
    "df_for_model.head()"
   ]
  },
  {
   "cell_type": "code",
   "execution_count": null,
   "metadata": {
    "execution": {
     "iopub.execute_input": "2025-03-15T16:47:14.651458Z",
     "iopub.status.busy": "2025-03-15T16:47:14.651169Z",
     "iopub.status.idle": "2025-03-15T16:47:33.098526Z",
     "shell.execute_reply": "2025-03-15T16:47:33.097512Z",
     "shell.execute_reply.started": "2025-03-15T16:47:14.651426Z"
    },
    "trusted": true
   },
   "outputs": [],
   "source": []
  },
  {
   "cell_type": "code",
   "execution_count": 43,
   "metadata": {
    "execution": {
     "iopub.execute_input": "2025-03-16T13:07:51.447871Z",
     "iopub.status.busy": "2025-03-16T13:07:51.447418Z",
     "iopub.status.idle": "2025-03-16T13:07:52.487299Z",
     "shell.execute_reply": "2025-03-16T13:07:52.486608Z",
     "shell.execute_reply.started": "2025-03-16T13:07:51.447833Z"
    },
    "trusted": true
   },
   "outputs": [],
   "source": [
    "df_for_model.to_pickle(\"movie_embeddings.pkl\")\n"
   ]
  },
  {
   "cell_type": "code",
   "execution_count": 44,
   "metadata": {
    "execution": {
     "iopub.execute_input": "2025-03-16T13:08:09.818345Z",
     "iopub.status.busy": "2025-03-16T13:08:09.818059Z",
     "iopub.status.idle": "2025-03-16T13:08:10.976610Z",
     "shell.execute_reply": "2025-03-16T13:08:10.975718Z",
     "shell.execute_reply.started": "2025-03-16T13:08:09.818324Z"
    },
    "trusted": true
   },
   "outputs": [
    {
     "name": "stdout",
     "output_type": "stream",
     "text": [
      "<class 'pandas.core.frame.DataFrame'>\n",
      "Index: 87988 entries, 0 to 91265\n",
      "Data columns (total 20 columns):\n",
      " #   Column             Non-Null Count  Dtype         \n",
      "---  ------             --------------  -----         \n",
      " 0   title              87988 non-null  object        \n",
      " 1   release_date       87988 non-null  datetime64[ns]\n",
      " 2   runtime            87988 non-null  int64         \n",
      " 3   adult              87988 non-null  bool          \n",
      " 4   overview           87988 non-null  object        \n",
      " 5   original_language  87988 non-null  object        \n",
      " 6   genres             87988 non-null  object        \n",
      " 7   keywords           87988 non-null  object        \n",
      " 8   average_rating     87988 non-null  float64       \n",
      " 9   vote_count         87988 non-null  int64         \n",
      " 10  weighted_score     87988 non-null  float64       \n",
      " 11  popularity_rank    87988 non-null  float64       \n",
      " 12  hybrid_score       87988 non-null  float64       \n",
      " 13  era                87988 non-null  object        \n",
      " 14  runtime_type       87988 non-null  object        \n",
      " 15  language           87988 non-null  object        \n",
      " 16  release_year       87988 non-null  object        \n",
      " 17  release_month      0 non-null      object        \n",
      " 18  combined_text      87988 non-null  object        \n",
      " 19  embedding          87988 non-null  object        \n",
      "dtypes: bool(1), datetime64[ns](1), float64(4), int64(2), object(12)\n",
      "memory usage: 13.5+ MB\n"
     ]
    }
   ],
   "source": [
    "import pickle\n",
    "with open(\"/kaggle/working/movie_embeddings.pkl\", \"rb\") as f:\n",
    "    df_for_model2 =  pickle.load(f)\n",
    "\n",
    "df_for_model2.info()\n"
   ]
  },
  {
   "cell_type": "code",
   "execution_count": 49,
   "metadata": {
    "execution": {
     "iopub.execute_input": "2025-03-16T13:12:17.050318Z",
     "iopub.status.busy": "2025-03-16T13:12:17.049981Z",
     "iopub.status.idle": "2025-03-16T13:12:22.034549Z",
     "shell.execute_reply": "2025-03-16T13:12:22.033872Z",
     "shell.execute_reply.started": "2025-03-16T13:12:17.050289Z"
    },
    "trusted": true
   },
   "outputs": [],
   "source": [
    "df_for_model2[\"embedding\"] = df_for_model2[\"embedding\"].apply(lambda x: x.tolist())  # Ensure it's a list\n"
   ]
  },
  {
   "cell_type": "code",
   "execution_count": 50,
   "metadata": {
    "execution": {
     "iopub.execute_input": "2025-03-16T13:12:30.273205Z",
     "iopub.status.busy": "2025-03-16T13:12:30.272873Z",
     "iopub.status.idle": "2025-03-16T13:12:30.293444Z",
     "shell.execute_reply": "2025-03-16T13:12:30.292711Z",
     "shell.execute_reply.started": "2025-03-16T13:12:30.273165Z"
    },
    "trusted": true
   },
   "outputs": [
    {
     "data": {
      "text/html": [
       "<div>\n",
       "<style scoped>\n",
       "    .dataframe tbody tr th:only-of-type {\n",
       "        vertical-align: middle;\n",
       "    }\n",
       "\n",
       "    .dataframe tbody tr th {\n",
       "        vertical-align: top;\n",
       "    }\n",
       "\n",
       "    .dataframe thead th {\n",
       "        text-align: right;\n",
       "    }\n",
       "</style>\n",
       "<table border=\"1\" class=\"dataframe\">\n",
       "  <thead>\n",
       "    <tr style=\"text-align: right;\">\n",
       "      <th></th>\n",
       "      <th>title</th>\n",
       "      <th>release_date</th>\n",
       "      <th>runtime</th>\n",
       "      <th>adult</th>\n",
       "      <th>overview</th>\n",
       "      <th>original_language</th>\n",
       "      <th>genres</th>\n",
       "      <th>keywords</th>\n",
       "      <th>average_rating</th>\n",
       "      <th>vote_count</th>\n",
       "      <th>weighted_score</th>\n",
       "      <th>popularity_rank</th>\n",
       "      <th>hybrid_score</th>\n",
       "      <th>era</th>\n",
       "      <th>runtime_type</th>\n",
       "      <th>language</th>\n",
       "      <th>release_year</th>\n",
       "      <th>release_month</th>\n",
       "      <th>combined_text</th>\n",
       "      <th>embedding</th>\n",
       "    </tr>\n",
       "  </thead>\n",
       "  <tbody>\n",
       "    <tr>\n",
       "      <th>0</th>\n",
       "      <td>inception</td>\n",
       "      <td>2010-07-15</td>\n",
       "      <td>148</td>\n",
       "      <td>False</td>\n",
       "      <td>Cobb, a skilled thief who commits corporate es...</td>\n",
       "      <td>en</td>\n",
       "      <td>Action, Science Fiction, Adventure</td>\n",
       "      <td>rescue, mission, dream, airplane, paris, franc...</td>\n",
       "      <td>2.159014</td>\n",
       "      <td>34495</td>\n",
       "      <td>2.155889</td>\n",
       "      <td>1.000000</td>\n",
       "      <td>1.809122</td>\n",
       "      <td>digital era</td>\n",
       "      <td>extended feature film</td>\n",
       "      <td>english</td>\n",
       "      <td>2010</td>\n",
       "      <td>None</td>\n",
       "      <td>inception - cobb, a skilled thief who commits ...</td>\n",
       "      <td>[-0.02167784981429577, -0.010563372634351254, ...</td>\n",
       "    </tr>\n",
       "    <tr>\n",
       "      <th>1</th>\n",
       "      <td>interstellar</td>\n",
       "      <td>2014-11-05</td>\n",
       "      <td>169</td>\n",
       "      <td>False</td>\n",
       "      <td>The adventures of a group of explorers who mak...</td>\n",
       "      <td>en</td>\n",
       "      <td>Adventure, Drama, Science Fiction</td>\n",
       "      <td>rescue, future, spacecraft, race against time,...</td>\n",
       "      <td>2.209429</td>\n",
       "      <td>32571</td>\n",
       "      <td>2.206043</td>\n",
       "      <td>0.999989</td>\n",
       "      <td>1.844226</td>\n",
       "      <td>digital era</td>\n",
       "      <td>extended feature film</td>\n",
       "      <td>english</td>\n",
       "      <td>2014</td>\n",
       "      <td>None</td>\n",
       "      <td>interstellar - the adventures of a group of ex...</td>\n",
       "      <td>[-0.033208880573511124, -0.021832212805747986,...</td>\n",
       "    </tr>\n",
       "    <tr>\n",
       "      <th>2</th>\n",
       "      <td>the dark knight</td>\n",
       "      <td>2008-07-16</td>\n",
       "      <td>152</td>\n",
       "      <td>False</td>\n",
       "      <td>Batman raises the stakes in his war on crime. ...</td>\n",
       "      <td>en</td>\n",
       "      <td>Drama, Action, Crime, Thriller</td>\n",
       "      <td>joker, sadism, chaos, secret identity, crime f...</td>\n",
       "      <td>2.299796</td>\n",
       "      <td>30619</td>\n",
       "      <td>2.296047</td>\n",
       "      <td>0.999977</td>\n",
       "      <td>1.907226</td>\n",
       "      <td>digital era</td>\n",
       "      <td>extended feature film</td>\n",
       "      <td>english</td>\n",
       "      <td>2008</td>\n",
       "      <td>None</td>\n",
       "      <td>the dark knight - batman raises the stakes in ...</td>\n",
       "      <td>[0.032509591430425644, -0.013972925953567028, ...</td>\n",
       "    </tr>\n",
       "    <tr>\n",
       "      <th>3</th>\n",
       "      <td>avatar</td>\n",
       "      <td>2009-12-15</td>\n",
       "      <td>162</td>\n",
       "      <td>False</td>\n",
       "      <td>In the 22nd century, a paraplegic Marine is di...</td>\n",
       "      <td>en</td>\n",
       "      <td>Action, Adventure, Fantasy, Science Fiction</td>\n",
       "      <td>future, society, culture clash, space travel, ...</td>\n",
       "      <td>1.406588</td>\n",
       "      <td>29815</td>\n",
       "      <td>1.404233</td>\n",
       "      <td>0.999966</td>\n",
       "      <td>1.282953</td>\n",
       "      <td>digital era</td>\n",
       "      <td>extended feature film</td>\n",
       "      <td>english</td>\n",
       "      <td>2009</td>\n",
       "      <td>None</td>\n",
       "      <td>avatar - in the 22nd century, a paraplegic mar...</td>\n",
       "      <td>[0.004729328211396933, -0.005135599989444017, ...</td>\n",
       "    </tr>\n",
       "    <tr>\n",
       "      <th>4</th>\n",
       "      <td>the avengers</td>\n",
       "      <td>2012-04-25</td>\n",
       "      <td>143</td>\n",
       "      <td>False</td>\n",
       "      <td>When an unexpected enemy emerges and threatens...</td>\n",
       "      <td>en</td>\n",
       "      <td>Science Fiction, Action, Adventure</td>\n",
       "      <td>new york city, superhero, shield, based on com...</td>\n",
       "      <td>1.536907</td>\n",
       "      <td>29166</td>\n",
       "      <td>1.534277</td>\n",
       "      <td>0.999955</td>\n",
       "      <td>1.373980</td>\n",
       "      <td>digital era</td>\n",
       "      <td>extended feature film</td>\n",
       "      <td>english</td>\n",
       "      <td>2012</td>\n",
       "      <td>None</td>\n",
       "      <td>the avengers - when an unexpected enemy emerge...</td>\n",
       "      <td>[-0.02557878941297531, 0.011758431792259216, -...</td>\n",
       "    </tr>\n",
       "  </tbody>\n",
       "</table>\n",
       "</div>"
      ],
      "text/plain": [
       "             title release_date  runtime  adult  \\\n",
       "0        inception   2010-07-15      148  False   \n",
       "1     interstellar   2014-11-05      169  False   \n",
       "2  the dark knight   2008-07-16      152  False   \n",
       "3           avatar   2009-12-15      162  False   \n",
       "4     the avengers   2012-04-25      143  False   \n",
       "\n",
       "                                            overview original_language  \\\n",
       "0  Cobb, a skilled thief who commits corporate es...                en   \n",
       "1  The adventures of a group of explorers who mak...                en   \n",
       "2  Batman raises the stakes in his war on crime. ...                en   \n",
       "3  In the 22nd century, a paraplegic Marine is di...                en   \n",
       "4  When an unexpected enemy emerges and threatens...                en   \n",
       "\n",
       "                                        genres  \\\n",
       "0           Action, Science Fiction, Adventure   \n",
       "1            Adventure, Drama, Science Fiction   \n",
       "2               Drama, Action, Crime, Thriller   \n",
       "3  Action, Adventure, Fantasy, Science Fiction   \n",
       "4           Science Fiction, Action, Adventure   \n",
       "\n",
       "                                            keywords  average_rating  \\\n",
       "0  rescue, mission, dream, airplane, paris, franc...        2.159014   \n",
       "1  rescue, future, spacecraft, race against time,...        2.209429   \n",
       "2  joker, sadism, chaos, secret identity, crime f...        2.299796   \n",
       "3  future, society, culture clash, space travel, ...        1.406588   \n",
       "4  new york city, superhero, shield, based on com...        1.536907   \n",
       "\n",
       "   vote_count  weighted_score  popularity_rank  hybrid_score          era  \\\n",
       "0       34495        2.155889         1.000000      1.809122  digital era   \n",
       "1       32571        2.206043         0.999989      1.844226  digital era   \n",
       "2       30619        2.296047         0.999977      1.907226  digital era   \n",
       "3       29815        1.404233         0.999966      1.282953  digital era   \n",
       "4       29166        1.534277         0.999955      1.373980  digital era   \n",
       "\n",
       "            runtime_type language release_year release_month  \\\n",
       "0  extended feature film  english         2010          None   \n",
       "1  extended feature film  english         2014          None   \n",
       "2  extended feature film  english         2008          None   \n",
       "3  extended feature film  english         2009          None   \n",
       "4  extended feature film  english         2012          None   \n",
       "\n",
       "                                       combined_text  \\\n",
       "0  inception - cobb, a skilled thief who commits ...   \n",
       "1  interstellar - the adventures of a group of ex...   \n",
       "2  the dark knight - batman raises the stakes in ...   \n",
       "3  avatar - in the 22nd century, a paraplegic mar...   \n",
       "4  the avengers - when an unexpected enemy emerge...   \n",
       "\n",
       "                                           embedding  \n",
       "0  [-0.02167784981429577, -0.010563372634351254, ...  \n",
       "1  [-0.033208880573511124, -0.021832212805747986,...  \n",
       "2  [0.032509591430425644, -0.013972925953567028, ...  \n",
       "3  [0.004729328211396933, -0.005135599989444017, ...  \n",
       "4  [-0.02557878941297531, 0.011758431792259216, -...  "
      ]
     },
     "execution_count": 50,
     "metadata": {},
     "output_type": "execute_result"
    }
   ],
   "source": [
    "df_for_model2.head()"
   ]
  },
  {
   "cell_type": "code",
   "execution_count": null,
   "metadata": {
    "execution": {
     "iopub.execute_input": "2025-03-15T09:13:26.239396Z",
     "iopub.status.busy": "2025-03-15T09:13:26.238963Z",
     "iopub.status.idle": "2025-03-15T09:13:26.264604Z",
     "shell.execute_reply": "2025-03-15T09:13:26.263717Z",
     "shell.execute_reply.started": "2025-03-15T09:13:26.239362Z"
    },
    "trusted": true
   },
   "outputs": [],
   "source": [
    "import pandas as pd\n",
    "\n",
    "# df_for_model3 = pd.read_json(\"/kaggle/working/movie_embeddings.json\", orient=\"records\")\n",
    "# df_for_model3.head()"
   ]
  },
  {
   "cell_type": "code",
   "execution_count": null,
   "metadata": {
    "trusted": true
   },
   "outputs": [],
   "source": []
  },
  {
   "cell_type": "code",
   "execution_count": null,
   "metadata": {
    "execution": {
     "iopub.execute_input": "2025-03-15T16:48:52.644937Z",
     "iopub.status.busy": "2025-03-15T16:48:52.644632Z",
     "iopub.status.idle": "2025-03-15T16:48:52.652092Z",
     "shell.execute_reply": "2025-03-15T16:48:52.651288Z",
     "shell.execute_reply.started": "2025-03-15T16:48:52.644912Z"
    },
    "trusted": true
   },
   "outputs": [],
   "source": [
    "metadata_df['imdb_id'] "
   ]
  },
  {
   "cell_type": "code",
   "execution_count": null,
   "metadata": {
    "execution": {
     "iopub.execute_input": "2025-03-15T13:21:41.861174Z",
     "iopub.status.busy": "2025-03-15T13:21:41.860871Z",
     "iopub.status.idle": "2025-03-15T13:21:41.871144Z",
     "shell.execute_reply": "2025-03-15T13:21:41.870057Z",
     "shell.execute_reply.started": "2025-03-15T13:21:41.861152Z"
    },
    "trusted": true
   },
   "outputs": [],
   "source": [
    "df_for_model3.head()"
   ]
  },
  {
   "cell_type": "code",
   "execution_count": 51,
   "metadata": {
    "execution": {
     "iopub.execute_input": "2025-03-16T13:12:40.103263Z",
     "iopub.status.busy": "2025-03-16T13:12:40.102964Z",
     "iopub.status.idle": "2025-03-16T13:12:40.147633Z",
     "shell.execute_reply": "2025-03-16T13:12:40.146731Z",
     "shell.execute_reply.started": "2025-03-16T13:12:40.103241Z"
    },
    "trusted": true
   },
   "outputs": [
    {
     "name": "stdout",
     "output_type": "stream",
     "text": [
      "<class 'pandas.core.frame.DataFrame'>\n",
      "Index: 87988 entries, 0 to 91265\n",
      "Data columns (total 5 columns):\n",
      " #   Column         Non-Null Count  Dtype         \n",
      "---  ------         --------------  -----         \n",
      " 0   title          87988 non-null  object        \n",
      " 1   id             87988 non-null  int64         \n",
      " 2   release_date   87988 non-null  datetime64[ns]\n",
      " 3   backdrop_path  87988 non-null  object        \n",
      " 4   imdb_id        87988 non-null  object        \n",
      "dtypes: datetime64[ns](1), int64(1), object(3)\n",
      "memory usage: 4.0+ MB\n"
     ]
    }
   ],
   "source": [
    "metadata_df.loc[:, 'imdb_id'] = metadata_df['imdb_id'].fillna('unknown')\n",
    "metadata_df.loc[:, 'backdrop_path'] = metadata_df['backdrop_path'].fillna('unknown')\n",
    "metadata_df.info()"
   ]
  },
  {
   "cell_type": "code",
   "execution_count": 52,
   "metadata": {
    "execution": {
     "iopub.execute_input": "2025-03-16T13:12:47.371920Z",
     "iopub.status.busy": "2025-03-16T13:12:47.371624Z",
     "iopub.status.idle": "2025-03-16T13:12:47.645833Z",
     "shell.execute_reply": "2025-03-16T13:12:47.644974Z",
     "shell.execute_reply.started": "2025-03-16T13:12:47.371899Z"
    },
    "trusted": true
   },
   "outputs": [
    {
     "name": "stdout",
     "output_type": "stream",
     "text": [
      "<class 'pandas.core.frame.DataFrame'>\n",
      "RangeIndex: 87996 entries, 0 to 87995\n",
      "Data columns (total 23 columns):\n",
      " #   Column             Non-Null Count  Dtype         \n",
      "---  ------             --------------  -----         \n",
      " 0   title              87996 non-null  object        \n",
      " 1   release_date       87996 non-null  datetime64[ns]\n",
      " 2   runtime            87996 non-null  int64         \n",
      " 3   adult              87996 non-null  bool          \n",
      " 4   overview           87996 non-null  object        \n",
      " 5   original_language  87996 non-null  object        \n",
      " 6   genres             87996 non-null  object        \n",
      " 7   keywords           87996 non-null  object        \n",
      " 8   average_rating     87996 non-null  float64       \n",
      " 9   vote_count         87996 non-null  int64         \n",
      " 10  weighted_score     87996 non-null  float64       \n",
      " 11  popularity_rank    87996 non-null  float64       \n",
      " 12  hybrid_score       87996 non-null  float64       \n",
      " 13  era                87996 non-null  object        \n",
      " 14  runtime_type       87996 non-null  object        \n",
      " 15  language           87996 non-null  object        \n",
      " 16  release_year       87996 non-null  object        \n",
      " 17  release_month      0 non-null      object        \n",
      " 18  combined_text      87996 non-null  object        \n",
      " 19  embedding          87996 non-null  object        \n",
      " 20  id                 87996 non-null  int64         \n",
      " 21  backdrop_path      87996 non-null  object        \n",
      " 22  imdb_id            87996 non-null  object        \n",
      "dtypes: bool(1), datetime64[ns](1), float64(4), int64(3), object(14)\n",
      "memory usage: 14.9+ MB\n"
     ]
    },
    {
     "name": "stderr",
     "output_type": "stream",
     "text": [
      "<ipython-input-52-369a4a1856f8>:2: SettingWithCopyWarning: \n",
      "A value is trying to be set on a copy of a slice from a DataFrame.\n",
      "Try using .loc[row_indexer,col_indexer] = value instead\n",
      "\n",
      "See the caveats in the documentation: https://pandas.pydata.org/pandas-docs/stable/user_guide/indexing.html#returning-a-view-versus-a-copy\n",
      "  metadata_df[\"release_date\"] = pd.to_datetime(metadata_df[\"release_date\"])\n"
     ]
    }
   ],
   "source": [
    "df_for_model2[\"release_date\"] = pd.to_datetime(df_for_model2[\"release_date\"])\n",
    "metadata_df[\"release_date\"] = pd.to_datetime(metadata_df[\"release_date\"])\n",
    "df_full = df_for_model2.merge(metadata_df, on=[\"title\", \"release_date\"], how=\"left\")\n",
    "\n",
    "df_full.info()"
   ]
  },
  {
   "cell_type": "code",
   "execution_count": 57,
   "metadata": {
    "execution": {
     "iopub.execute_input": "2025-03-16T13:14:54.006864Z",
     "iopub.status.busy": "2025-03-16T13:14:54.006573Z",
     "iopub.status.idle": "2025-03-16T13:14:54.028986Z",
     "shell.execute_reply": "2025-03-16T13:14:54.027788Z",
     "shell.execute_reply.started": "2025-03-16T13:14:54.006842Z"
    },
    "trusted": true
   },
   "outputs": [
    {
     "data": {
      "text/html": [
       "<div>\n",
       "<style scoped>\n",
       "    .dataframe tbody tr th:only-of-type {\n",
       "        vertical-align: middle;\n",
       "    }\n",
       "\n",
       "    .dataframe tbody tr th {\n",
       "        vertical-align: top;\n",
       "    }\n",
       "\n",
       "    .dataframe thead th {\n",
       "        text-align: right;\n",
       "    }\n",
       "</style>\n",
       "<table border=\"1\" class=\"dataframe\">\n",
       "  <thead>\n",
       "    <tr style=\"text-align: right;\">\n",
       "      <th></th>\n",
       "      <th>title</th>\n",
       "      <th>release_date</th>\n",
       "      <th>runtime</th>\n",
       "      <th>adult</th>\n",
       "      <th>overview</th>\n",
       "      <th>original_language</th>\n",
       "      <th>genres</th>\n",
       "      <th>keywords</th>\n",
       "      <th>average_rating</th>\n",
       "      <th>vote_count</th>\n",
       "      <th>weighted_score</th>\n",
       "      <th>popularity_rank</th>\n",
       "      <th>hybrid_score</th>\n",
       "      <th>era</th>\n",
       "      <th>runtime_type</th>\n",
       "      <th>language</th>\n",
       "      <th>release_year</th>\n",
       "      <th>combined_text</th>\n",
       "      <th>embedding</th>\n",
       "      <th>id</th>\n",
       "      <th>backdrop_path</th>\n",
       "      <th>imdb_id</th>\n",
       "    </tr>\n",
       "  </thead>\n",
       "  <tbody>\n",
       "    <tr>\n",
       "      <th>0</th>\n",
       "      <td>inception</td>\n",
       "      <td>2010-07-15</td>\n",
       "      <td>148</td>\n",
       "      <td>False</td>\n",
       "      <td>Cobb, a skilled thief who commits corporate es...</td>\n",
       "      <td>en</td>\n",
       "      <td>Action, Science Fiction, Adventure</td>\n",
       "      <td>rescue, mission, dream, airplane, paris, franc...</td>\n",
       "      <td>2.159014</td>\n",
       "      <td>34495</td>\n",
       "      <td>2.155889</td>\n",
       "      <td>1.000000</td>\n",
       "      <td>1.809122</td>\n",
       "      <td>digital era</td>\n",
       "      <td>extended feature film</td>\n",
       "      <td>english</td>\n",
       "      <td>2010</td>\n",
       "      <td>inception - cobb, a skilled thief who commits ...</td>\n",
       "      <td>[-0.02167784981429577, -0.010563372634351254, ...</td>\n",
       "      <td>27205</td>\n",
       "      <td>/8ZTVqvKDQ8emSGUEMjsS4yHAwrp.jpg</td>\n",
       "      <td>tt1375666</td>\n",
       "    </tr>\n",
       "    <tr>\n",
       "      <th>1</th>\n",
       "      <td>interstellar</td>\n",
       "      <td>2014-11-05</td>\n",
       "      <td>169</td>\n",
       "      <td>False</td>\n",
       "      <td>The adventures of a group of explorers who mak...</td>\n",
       "      <td>en</td>\n",
       "      <td>Adventure, Drama, Science Fiction</td>\n",
       "      <td>rescue, future, spacecraft, race against time,...</td>\n",
       "      <td>2.209429</td>\n",
       "      <td>32571</td>\n",
       "      <td>2.206043</td>\n",
       "      <td>0.999989</td>\n",
       "      <td>1.844226</td>\n",
       "      <td>digital era</td>\n",
       "      <td>extended feature film</td>\n",
       "      <td>english</td>\n",
       "      <td>2014</td>\n",
       "      <td>interstellar - the adventures of a group of ex...</td>\n",
       "      <td>[-0.033208880573511124, -0.021832212805747986,...</td>\n",
       "      <td>157336</td>\n",
       "      <td>/pbrkL804c8yAv3zBZR4QPEafpAR.jpg</td>\n",
       "      <td>tt0816692</td>\n",
       "    </tr>\n",
       "    <tr>\n",
       "      <th>2</th>\n",
       "      <td>the dark knight</td>\n",
       "      <td>2008-07-16</td>\n",
       "      <td>152</td>\n",
       "      <td>False</td>\n",
       "      <td>Batman raises the stakes in his war on crime. ...</td>\n",
       "      <td>en</td>\n",
       "      <td>Drama, Action, Crime, Thriller</td>\n",
       "      <td>joker, sadism, chaos, secret identity, crime f...</td>\n",
       "      <td>2.299796</td>\n",
       "      <td>30619</td>\n",
       "      <td>2.296047</td>\n",
       "      <td>0.999977</td>\n",
       "      <td>1.907226</td>\n",
       "      <td>digital era</td>\n",
       "      <td>extended feature film</td>\n",
       "      <td>english</td>\n",
       "      <td>2008</td>\n",
       "      <td>the dark knight - batman raises the stakes in ...</td>\n",
       "      <td>[0.032509591430425644, -0.013972925953567028, ...</td>\n",
       "      <td>155</td>\n",
       "      <td>/nMKdUUepR0i5zn0y1T4CsSB5chy.jpg</td>\n",
       "      <td>tt0468569</td>\n",
       "    </tr>\n",
       "    <tr>\n",
       "      <th>3</th>\n",
       "      <td>avatar</td>\n",
       "      <td>2009-12-15</td>\n",
       "      <td>162</td>\n",
       "      <td>False</td>\n",
       "      <td>In the 22nd century, a paraplegic Marine is di...</td>\n",
       "      <td>en</td>\n",
       "      <td>Action, Adventure, Fantasy, Science Fiction</td>\n",
       "      <td>future, society, culture clash, space travel, ...</td>\n",
       "      <td>1.406588</td>\n",
       "      <td>29815</td>\n",
       "      <td>1.404233</td>\n",
       "      <td>0.999966</td>\n",
       "      <td>1.282953</td>\n",
       "      <td>digital era</td>\n",
       "      <td>extended feature film</td>\n",
       "      <td>english</td>\n",
       "      <td>2009</td>\n",
       "      <td>avatar - in the 22nd century, a paraplegic mar...</td>\n",
       "      <td>[0.004729328211396933, -0.005135599989444017, ...</td>\n",
       "      <td>19995</td>\n",
       "      <td>/vL5LR6WdxWPjLPFRLe133jXWsh5.jpg</td>\n",
       "      <td>tt0499549</td>\n",
       "    </tr>\n",
       "    <tr>\n",
       "      <th>4</th>\n",
       "      <td>the avengers</td>\n",
       "      <td>2012-04-25</td>\n",
       "      <td>143</td>\n",
       "      <td>False</td>\n",
       "      <td>When an unexpected enemy emerges and threatens...</td>\n",
       "      <td>en</td>\n",
       "      <td>Science Fiction, Action, Adventure</td>\n",
       "      <td>new york city, superhero, shield, based on com...</td>\n",
       "      <td>1.536907</td>\n",
       "      <td>29166</td>\n",
       "      <td>1.534277</td>\n",
       "      <td>0.999955</td>\n",
       "      <td>1.373980</td>\n",
       "      <td>digital era</td>\n",
       "      <td>extended feature film</td>\n",
       "      <td>english</td>\n",
       "      <td>2012</td>\n",
       "      <td>the avengers - when an unexpected enemy emerge...</td>\n",
       "      <td>[-0.02557878941297531, 0.011758431792259216, -...</td>\n",
       "      <td>24428</td>\n",
       "      <td>/9BBTo63ANSmhC4e6r62OJFuK2GL.jpg</td>\n",
       "      <td>tt0848228</td>\n",
       "    </tr>\n",
       "  </tbody>\n",
       "</table>\n",
       "</div>"
      ],
      "text/plain": [
       "             title release_date  runtime  adult  \\\n",
       "0        inception   2010-07-15      148  False   \n",
       "1     interstellar   2014-11-05      169  False   \n",
       "2  the dark knight   2008-07-16      152  False   \n",
       "3           avatar   2009-12-15      162  False   \n",
       "4     the avengers   2012-04-25      143  False   \n",
       "\n",
       "                                            overview original_language  \\\n",
       "0  Cobb, a skilled thief who commits corporate es...                en   \n",
       "1  The adventures of a group of explorers who mak...                en   \n",
       "2  Batman raises the stakes in his war on crime. ...                en   \n",
       "3  In the 22nd century, a paraplegic Marine is di...                en   \n",
       "4  When an unexpected enemy emerges and threatens...                en   \n",
       "\n",
       "                                        genres  \\\n",
       "0           Action, Science Fiction, Adventure   \n",
       "1            Adventure, Drama, Science Fiction   \n",
       "2               Drama, Action, Crime, Thriller   \n",
       "3  Action, Adventure, Fantasy, Science Fiction   \n",
       "4           Science Fiction, Action, Adventure   \n",
       "\n",
       "                                            keywords  average_rating  \\\n",
       "0  rescue, mission, dream, airplane, paris, franc...        2.159014   \n",
       "1  rescue, future, spacecraft, race against time,...        2.209429   \n",
       "2  joker, sadism, chaos, secret identity, crime f...        2.299796   \n",
       "3  future, society, culture clash, space travel, ...        1.406588   \n",
       "4  new york city, superhero, shield, based on com...        1.536907   \n",
       "\n",
       "   vote_count  weighted_score  popularity_rank  hybrid_score          era  \\\n",
       "0       34495        2.155889         1.000000      1.809122  digital era   \n",
       "1       32571        2.206043         0.999989      1.844226  digital era   \n",
       "2       30619        2.296047         0.999977      1.907226  digital era   \n",
       "3       29815        1.404233         0.999966      1.282953  digital era   \n",
       "4       29166        1.534277         0.999955      1.373980  digital era   \n",
       "\n",
       "            runtime_type language release_year  \\\n",
       "0  extended feature film  english         2010   \n",
       "1  extended feature film  english         2014   \n",
       "2  extended feature film  english         2008   \n",
       "3  extended feature film  english         2009   \n",
       "4  extended feature film  english         2012   \n",
       "\n",
       "                                       combined_text  \\\n",
       "0  inception - cobb, a skilled thief who commits ...   \n",
       "1  interstellar - the adventures of a group of ex...   \n",
       "2  the dark knight - batman raises the stakes in ...   \n",
       "3  avatar - in the 22nd century, a paraplegic mar...   \n",
       "4  the avengers - when an unexpected enemy emerge...   \n",
       "\n",
       "                                           embedding      id  \\\n",
       "0  [-0.02167784981429577, -0.010563372634351254, ...   27205   \n",
       "1  [-0.033208880573511124, -0.021832212805747986,...  157336   \n",
       "2  [0.032509591430425644, -0.013972925953567028, ...     155   \n",
       "3  [0.004729328211396933, -0.005135599989444017, ...   19995   \n",
       "4  [-0.02557878941297531, 0.011758431792259216, -...   24428   \n",
       "\n",
       "                      backdrop_path    imdb_id  \n",
       "0  /8ZTVqvKDQ8emSGUEMjsS4yHAwrp.jpg  tt1375666  \n",
       "1  /pbrkL804c8yAv3zBZR4QPEafpAR.jpg  tt0816692  \n",
       "2  /nMKdUUepR0i5zn0y1T4CsSB5chy.jpg  tt0468569  \n",
       "3  /vL5LR6WdxWPjLPFRLe133jXWsh5.jpg  tt0499549  \n",
       "4  /9BBTo63ANSmhC4e6r62OJFuK2GL.jpg  tt0848228  "
      ]
     },
     "execution_count": 57,
     "metadata": {},
     "output_type": "execute_result"
    }
   ],
   "source": [
    "# df_full = df_full.drop(columns=['release_month'])\n",
    "\n",
    "df_full.head()"
   ]
  },
  {
   "cell_type": "code",
   "execution_count": 58,
   "metadata": {
    "execution": {
     "iopub.execute_input": "2025-03-16T13:15:11.810798Z",
     "iopub.status.busy": "2025-03-16T13:15:11.810448Z",
     "iopub.status.idle": "2025-03-16T13:15:14.744285Z",
     "shell.execute_reply": "2025-03-16T13:15:14.743596Z",
     "shell.execute_reply.started": "2025-03-16T13:15:11.810772Z"
    },
    "trusted": true
   },
   "outputs": [],
   "source": [
    "df_full.to_pickle(\"movie_embeddings_full.pkl\")"
   ]
  },
  {
   "cell_type": "code",
   "execution_count": 60,
   "metadata": {
    "execution": {
     "iopub.execute_input": "2025-03-16T13:15:25.134835Z",
     "iopub.status.busy": "2025-03-16T13:15:25.134484Z",
     "iopub.status.idle": "2025-03-16T13:15:25.140055Z",
     "shell.execute_reply": "2025-03-16T13:15:25.139134Z",
     "shell.execute_reply.started": "2025-03-16T13:15:25.134811Z"
    },
    "trusted": true
   },
   "outputs": [
    {
     "name": "stdout",
     "output_type": "stream",
     "text": [
      "(1024,)\n"
     ]
    }
   ],
   "source": [
    "import numpy as np\n",
    "\n",
    "# Check the shape of the first embedding\n",
    "print(np.array(df_full[\"embedding\"].iloc[0]).shape)\n"
   ]
  },
  {
   "cell_type": "code",
   "execution_count": 62,
   "metadata": {
    "execution": {
     "iopub.execute_input": "2025-03-16T13:18:46.262342Z",
     "iopub.status.busy": "2025-03-16T13:18:46.261994Z",
     "iopub.status.idle": "2025-03-16T13:18:46.323310Z",
     "shell.execute_reply": "2025-03-16T13:18:46.322489Z",
     "shell.execute_reply.started": "2025-03-16T13:18:46.262317Z"
    },
    "trusted": true
   },
   "outputs": [
    {
     "data": {
      "application/vnd.jupyter.widget-view+json": {
       "model_id": "04c163fe0ba3482bb48ae72c8d445f3b",
       "version_major": 2,
       "version_minor": 0
      },
      "text/plain": [
       "Batches:   0%|          | 0/1 [00:00<?, ?it/s]"
      ]
     },
     "metadata": {},
     "output_type": "display_data"
    },
    {
     "name": "stdout",
     "output_type": "stream",
     "text": [
      "(1, 1024)\n"
     ]
    }
   ],
   "source": [
    "test_embedding = model.encode([\"Test text\"], convert_to_numpy=True)\n",
    "print(test_embedding.shape)  "
   ]
  },
  {
   "cell_type": "code",
   "execution_count": 2,
   "metadata": {
    "execution": {
     "iopub.execute_input": "2025-03-16T04:03:35.999580Z",
     "iopub.status.busy": "2025-03-16T04:03:35.999236Z",
     "iopub.status.idle": "2025-03-16T04:04:06.572446Z",
     "shell.execute_reply": "2025-03-16T04:04:06.571374Z",
     "shell.execute_reply.started": "2025-03-16T04:03:35.999553Z"
    },
    "trusted": true
   },
   "outputs": [
    {
     "data": {
      "text/html": [
       "<div>\n",
       "<style scoped>\n",
       "    .dataframe tbody tr th:only-of-type {\n",
       "        vertical-align: middle;\n",
       "    }\n",
       "\n",
       "    .dataframe tbody tr th {\n",
       "        vertical-align: top;\n",
       "    }\n",
       "\n",
       "    .dataframe thead th {\n",
       "        text-align: right;\n",
       "    }\n",
       "</style>\n",
       "<table border=\"1\" class=\"dataframe\">\n",
       "  <thead>\n",
       "    <tr style=\"text-align: right;\">\n",
       "      <th></th>\n",
       "      <th>title</th>\n",
       "      <th>release_date</th>\n",
       "      <th>runtime</th>\n",
       "      <th>adult</th>\n",
       "      <th>overview</th>\n",
       "      <th>original_language</th>\n",
       "      <th>genres</th>\n",
       "      <th>keywords</th>\n",
       "      <th>average_rating</th>\n",
       "      <th>vote_count</th>\n",
       "      <th>...</th>\n",
       "      <th>era</th>\n",
       "      <th>runtime_type</th>\n",
       "      <th>language</th>\n",
       "      <th>release_year</th>\n",
       "      <th>release_month</th>\n",
       "      <th>combined_text</th>\n",
       "      <th>text_embedding</th>\n",
       "      <th>id</th>\n",
       "      <th>backdrop_path</th>\n",
       "      <th>imdb_id</th>\n",
       "    </tr>\n",
       "  </thead>\n",
       "  <tbody>\n",
       "    <tr>\n",
       "      <th>0</th>\n",
       "      <td>inception</td>\n",
       "      <td>2010-07-15</td>\n",
       "      <td>148</td>\n",
       "      <td>False</td>\n",
       "      <td>Cobb, a skilled thief who commits corporate es...</td>\n",
       "      <td>en</td>\n",
       "      <td>Action, Science Fiction, Adventure</td>\n",
       "      <td>rescue, mission, dream, airplane, paris, franc...</td>\n",
       "      <td>0.8364</td>\n",
       "      <td>1.000000</td>\n",
       "      <td>...</td>\n",
       "      <td>digital era</td>\n",
       "      <td>extended feature film</td>\n",
       "      <td>english</td>\n",
       "      <td>2010</td>\n",
       "      <td>7</td>\n",
       "      <td>inception - cobb, a skilled thief who commits ...</td>\n",
       "      <td>[-0.036390502005815506, -0.058036431670188904,...</td>\n",
       "      <td>27205</td>\n",
       "      <td>/8ZTVqvKDQ8emSGUEMjsS4yHAwrp.jpg</td>\n",
       "      <td>tt1375666</td>\n",
       "    </tr>\n",
       "    <tr>\n",
       "      <th>1</th>\n",
       "      <td>interstellar</td>\n",
       "      <td>2014-11-05</td>\n",
       "      <td>169</td>\n",
       "      <td>False</td>\n",
       "      <td>The adventures of a group of explorers who mak...</td>\n",
       "      <td>en</td>\n",
       "      <td>Adventure, Drama, Science Fiction</td>\n",
       "      <td>rescue, future, spacecraft, race against time,...</td>\n",
       "      <td>0.8417</td>\n",
       "      <td>0.994507</td>\n",
       "      <td>...</td>\n",
       "      <td>digital era</td>\n",
       "      <td>extended feature film</td>\n",
       "      <td>english</td>\n",
       "      <td>2014</td>\n",
       "      <td>11</td>\n",
       "      <td>interstellar - the adventures of a group of ex...</td>\n",
       "      <td>[0.055588796734809875, -0.33705055713653564, 0...</td>\n",
       "      <td>157336</td>\n",
       "      <td>/pbrkL804c8yAv3zBZR4QPEafpAR.jpg</td>\n",
       "      <td>tt0816692</td>\n",
       "    </tr>\n",
       "    <tr>\n",
       "      <th>2</th>\n",
       "      <td>the dark knight</td>\n",
       "      <td>2008-07-16</td>\n",
       "      <td>152</td>\n",
       "      <td>False</td>\n",
       "      <td>Batman raises the stakes in his war on crime. ...</td>\n",
       "      <td>en</td>\n",
       "      <td>Drama, Action, Crime, Thriller</td>\n",
       "      <td>joker, sadism, chaos, secret identity, crime f...</td>\n",
       "      <td>0.8512</td>\n",
       "      <td>0.988593</td>\n",
       "      <td>...</td>\n",
       "      <td>digital era</td>\n",
       "      <td>extended feature film</td>\n",
       "      <td>english</td>\n",
       "      <td>2008</td>\n",
       "      <td>7</td>\n",
       "      <td>the dark knight - batman raises the stakes in ...</td>\n",
       "      <td>[0.24244023859500885, -0.11307348310947418, -0...</td>\n",
       "      <td>155</td>\n",
       "      <td>/nMKdUUepR0i5zn0y1T4CsSB5chy.jpg</td>\n",
       "      <td>tt0468569</td>\n",
       "    </tr>\n",
       "    <tr>\n",
       "      <th>3</th>\n",
       "      <td>avatar</td>\n",
       "      <td>2009-12-15</td>\n",
       "      <td>162</td>\n",
       "      <td>False</td>\n",
       "      <td>In the 22nd century, a paraplegic Marine is di...</td>\n",
       "      <td>en</td>\n",
       "      <td>Action, Adventure, Fantasy, Science Fiction</td>\n",
       "      <td>future, society, culture clash, space travel, ...</td>\n",
       "      <td>0.7573</td>\n",
       "      <td>0.986046</td>\n",
       "      <td>...</td>\n",
       "      <td>digital era</td>\n",
       "      <td>extended feature film</td>\n",
       "      <td>english</td>\n",
       "      <td>2009</td>\n",
       "      <td>12</td>\n",
       "      <td>avatar - in the 22nd century, a paraplegic mar...</td>\n",
       "      <td>[0.1970619559288025, 0.09487834572792053, 0.14...</td>\n",
       "      <td>19995</td>\n",
       "      <td>/vL5LR6WdxWPjLPFRLe133jXWsh5.jpg</td>\n",
       "      <td>tt0499549</td>\n",
       "    </tr>\n",
       "    <tr>\n",
       "      <th>4</th>\n",
       "      <td>the avengers</td>\n",
       "      <td>2012-04-25</td>\n",
       "      <td>143</td>\n",
       "      <td>False</td>\n",
       "      <td>When an unexpected enemy emerges and threatens...</td>\n",
       "      <td>en</td>\n",
       "      <td>Science Fiction, Action, Adventure</td>\n",
       "      <td>new york city, superhero, shield, based on com...</td>\n",
       "      <td>0.7710</td>\n",
       "      <td>0.983940</td>\n",
       "      <td>...</td>\n",
       "      <td>digital era</td>\n",
       "      <td>extended feature film</td>\n",
       "      <td>english</td>\n",
       "      <td>2012</td>\n",
       "      <td>4</td>\n",
       "      <td>the avengers - when an unexpected enemy emerge...</td>\n",
       "      <td>[0.21494898200035095, -0.11433813720941544, -0...</td>\n",
       "      <td>24428</td>\n",
       "      <td>/9BBTo63ANSmhC4e6r62OJFuK2GL.jpg</td>\n",
       "      <td>tt0848228</td>\n",
       "    </tr>\n",
       "  </tbody>\n",
       "</table>\n",
       "<p>5 rows × 21 columns</p>\n",
       "</div>"
      ],
      "text/plain": [
       "             title release_date  runtime  adult  \\\n",
       "0        inception   2010-07-15      148  False   \n",
       "1     interstellar   2014-11-05      169  False   \n",
       "2  the dark knight   2008-07-16      152  False   \n",
       "3           avatar   2009-12-15      162  False   \n",
       "4     the avengers   2012-04-25      143  False   \n",
       "\n",
       "                                            overview original_language  \\\n",
       "0  Cobb, a skilled thief who commits corporate es...                en   \n",
       "1  The adventures of a group of explorers who mak...                en   \n",
       "2  Batman raises the stakes in his war on crime. ...                en   \n",
       "3  In the 22nd century, a paraplegic Marine is di...                en   \n",
       "4  When an unexpected enemy emerges and threatens...                en   \n",
       "\n",
       "                                        genres  \\\n",
       "0           Action, Science Fiction, Adventure   \n",
       "1            Adventure, Drama, Science Fiction   \n",
       "2               Drama, Action, Crime, Thriller   \n",
       "3  Action, Adventure, Fantasy, Science Fiction   \n",
       "4           Science Fiction, Action, Adventure   \n",
       "\n",
       "                                            keywords  average_rating  \\\n",
       "0  rescue, mission, dream, airplane, paris, franc...          0.8364   \n",
       "1  rescue, future, spacecraft, race against time,...          0.8417   \n",
       "2  joker, sadism, chaos, secret identity, crime f...          0.8512   \n",
       "3  future, society, culture clash, space travel, ...          0.7573   \n",
       "4  new york city, superhero, shield, based on com...          0.7710   \n",
       "\n",
       "   vote_count  ...          era           runtime_type language release_year  \\\n",
       "0    1.000000  ...  digital era  extended feature film  english         2010   \n",
       "1    0.994507  ...  digital era  extended feature film  english         2014   \n",
       "2    0.988593  ...  digital era  extended feature film  english         2008   \n",
       "3    0.986046  ...  digital era  extended feature film  english         2009   \n",
       "4    0.983940  ...  digital era  extended feature film  english         2012   \n",
       "\n",
       "  release_month                                      combined_text  \\\n",
       "0             7  inception - cobb, a skilled thief who commits ...   \n",
       "1            11  interstellar - the adventures of a group of ex...   \n",
       "2             7  the dark knight - batman raises the stakes in ...   \n",
       "3            12  avatar - in the 22nd century, a paraplegic mar...   \n",
       "4             4  the avengers - when an unexpected enemy emerge...   \n",
       "\n",
       "                                      text_embedding      id  \\\n",
       "0  [-0.036390502005815506, -0.058036431670188904,...   27205   \n",
       "1  [0.055588796734809875, -0.33705055713653564, 0...  157336   \n",
       "2  [0.24244023859500885, -0.11307348310947418, -0...     155   \n",
       "3  [0.1970619559288025, 0.09487834572792053, 0.14...   19995   \n",
       "4  [0.21494898200035095, -0.11433813720941544, -0...   24428   \n",
       "\n",
       "                      backdrop_path    imdb_id  \n",
       "0  /8ZTVqvKDQ8emSGUEMjsS4yHAwrp.jpg  tt1375666  \n",
       "1  /pbrkL804c8yAv3zBZR4QPEafpAR.jpg  tt0816692  \n",
       "2  /nMKdUUepR0i5zn0y1T4CsSB5chy.jpg  tt0468569  \n",
       "3  /vL5LR6WdxWPjLPFRLe133jXWsh5.jpg  tt0499549  \n",
       "4  /9BBTo63ANSmhC4e6r62OJFuK2GL.jpg  tt0848228  \n",
       "\n",
       "[5 rows x 21 columns]"
      ]
     },
     "execution_count": 2,
     "metadata": {},
     "output_type": "execute_result"
    }
   ],
   "source": [
    "import pickle\n",
    "with open(\"/kaggle/working/movie_embeddings_full.pkl\", \"rb\") as f:\n",
    "    df_full =  pickle.load(f)\n",
    "\n",
    "df_full.head()"
   ]
  },
  {
   "cell_type": "code",
   "execution_count": null,
   "metadata": {
    "execution": {
     "iopub.execute_input": "2025-03-15T16:49:44.877016Z",
     "iopub.status.busy": "2025-03-15T16:49:44.876671Z",
     "iopub.status.idle": "2025-03-15T16:49:44.898211Z",
     "shell.execute_reply": "2025-03-15T16:49:44.897561Z",
     "shell.execute_reply.started": "2025-03-15T16:49:44.876986Z"
    },
    "trusted": true
   },
   "outputs": [],
   "source": [
    "df_full.head()"
   ]
  },
  {
   "cell_type": "markdown",
   "metadata": {},
   "source": [
    "**PINECONE**"
   ]
  },
  {
   "cell_type": "code",
   "execution_count": 61,
   "metadata": {
    "execution": {
     "iopub.execute_input": "2025-03-16T13:15:42.579130Z",
     "iopub.status.busy": "2025-03-16T13:15:42.578770Z",
     "iopub.status.idle": "2025-03-16T13:15:48.567772Z",
     "shell.execute_reply": "2025-03-16T13:15:48.566754Z",
     "shell.execute_reply.started": "2025-03-16T13:15:42.579091Z"
    },
    "trusted": true
   },
   "outputs": [
    {
     "name": "stdout",
     "output_type": "stream",
     "text": [
      "\u001b[33mWARNING: Skipping pinecone-client as it is not installed.\u001b[0m\u001b[33m\n",
      "\u001b[0mCollecting pinecone\n",
      "  Downloading pinecone-6.0.2-py3-none-any.whl.metadata (9.0 kB)\n",
      "Requirement already satisfied: certifi>=2019.11.17 in /usr/local/lib/python3.10/dist-packages (from pinecone) (2025.1.31)\n",
      "Collecting pinecone-plugin-interface<0.0.8,>=0.0.7 (from pinecone)\n",
      "  Downloading pinecone_plugin_interface-0.0.7-py3-none-any.whl.metadata (1.2 kB)\n",
      "Requirement already satisfied: python-dateutil>=2.5.3 in /usr/local/lib/python3.10/dist-packages (from pinecone) (2.9.0.post0)\n",
      "Requirement already satisfied: typing-extensions>=3.7.4 in /usr/local/lib/python3.10/dist-packages (from pinecone) (4.12.2)\n",
      "Requirement already satisfied: urllib3>=1.26.0 in /usr/local/lib/python3.10/dist-packages (from pinecone) (2.3.0)\n",
      "Requirement already satisfied: six>=1.5 in /usr/local/lib/python3.10/dist-packages (from python-dateutil>=2.5.3->pinecone) (1.17.0)\n",
      "Downloading pinecone-6.0.2-py3-none-any.whl (421 kB)\n",
      "\u001b[2K   \u001b[90m━━━━━━━━━━━━━━━━━━━━━━━━━━━━━━━━━━━━━━━━\u001b[0m \u001b[32m421.9/421.9 kB\u001b[0m \u001b[31m11.2 MB/s\u001b[0m eta \u001b[36m0:00:00\u001b[0m00:01\u001b[0m\n",
      "\u001b[?25hDownloading pinecone_plugin_interface-0.0.7-py3-none-any.whl (6.2 kB)\n",
      "Installing collected packages: pinecone-plugin-interface, pinecone\n",
      "Successfully installed pinecone-6.0.2 pinecone-plugin-interface-0.0.7\n"
     ]
    }
   ],
   "source": [
    "!pip uninstall -y pinecone-client\n",
    "!pip install pinecone\n"
   ]
  },
  {
   "cell_type": "code",
   "execution_count": null,
   "metadata": {
    "execution": {
     "iopub.execute_input": "2025-03-16T13:19:16.225086Z",
     "iopub.status.busy": "2025-03-16T13:19:16.224802Z",
     "iopub.status.idle": "2025-03-16T13:19:25.497337Z",
     "shell.execute_reply": "2025-03-16T13:19:25.496517Z",
     "shell.execute_reply.started": "2025-03-16T13:19:16.225066Z"
    },
    "trusted": true
   },
   "outputs": [
    {
     "data": {
      "text/plain": [
       "{\n",
       "    \"name\": \"to-all-the-films\",\n",
       "    \"metric\": \"cosine\",\n",
       "    \"host\": \"to-all-the-films-igj6s0b.svc.aped-4627-b74a.pinecone.io\",\n",
       "    \"spec\": {\n",
       "        \"serverless\": {\n",
       "            \"cloud\": \"aws\",\n",
       "            \"region\": \"us-east-1\"\n",
       "        }\n",
       "    },\n",
       "    \"status\": {\n",
       "        \"ready\": true,\n",
       "        \"state\": \"Ready\"\n",
       "    },\n",
       "    \"vector_type\": \"dense\",\n",
       "    \"dimension\": 1024,\n",
       "    \"deletion_protection\": \"disabled\",\n",
       "    \"tags\": null\n",
       "}"
      ]
     },
     "execution_count": 63,
     "metadata": {},
     "output_type": "execute_result"
    }
   ],
   "source": [
    "from pinecone import Pinecone, ServerlessSpec\n",
    "\n",
    "pc = Pinecone(api_key=\"api-key\")\n",
    "index_name = \"to-all-the-films\"\n",
    "\n",
    "pc.create_index(\n",
    "    name=index_name,\n",
    "    dimension=1024, \n",
    "    metric=\"cosine\",\n",
    "    spec=ServerlessSpec(\n",
    "        cloud=\"aws\",\n",
    "        region=\"us-east-1\"\n",
    "    )\n",
    ")\n"
   ]
  },
  {
   "cell_type": "code",
   "execution_count": null,
   "metadata": {
    "execution": {
     "iopub.execute_input": "2025-03-16T13:19:31.980922Z",
     "iopub.status.busy": "2025-03-16T13:19:31.980615Z",
     "iopub.status.idle": "2025-03-16T13:19:32.354325Z",
     "shell.execute_reply": "2025-03-16T13:19:32.353609Z",
     "shell.execute_reply.started": "2025-03-16T13:19:31.980899Z"
    },
    "trusted": true
   },
   "outputs": [
    {
     "name": "stdout",
     "output_type": "stream",
     "text": [
      "{'dimension': 1024,\n",
      " 'index_fullness': 0.0,\n",
      " 'metric': 'cosine',\n",
      " 'namespaces': {},\n",
      " 'total_vector_count': 0,\n",
      " 'vector_type': 'dense'}\n"
     ]
    }
   ],
   "source": [
    "from pinecone import Pinecone\n",
    "pc = Pinecone(api_key=\"api_key\")\n",
    "index = pc.Index(\"to-all-the-films\")\n",
    "print(index.describe_index_stats())\n"
   ]
  },
  {
   "cell_type": "code",
   "execution_count": 65,
   "metadata": {
    "execution": {
     "iopub.execute_input": "2025-03-16T13:23:09.679444Z",
     "iopub.status.busy": "2025-03-16T13:23:09.679112Z",
     "iopub.status.idle": "2025-03-16T13:23:09.684995Z",
     "shell.execute_reply": "2025-03-16T13:23:09.684261Z",
     "shell.execute_reply.started": "2025-03-16T13:23:09.679417Z"
    },
    "trusted": true
   },
   "outputs": [
    {
     "data": {
      "text/plain": [
       "Index(['title', 'release_date', 'runtime', 'adult', 'overview',\n",
       "       'original_language', 'genres', 'keywords', 'average_rating',\n",
       "       'vote_count', 'weighted_score', 'popularity_rank', 'hybrid_score',\n",
       "       'era', 'runtime_type', 'language', 'release_year', 'combined_text',\n",
       "       'embedding', 'id', 'backdrop_path', 'imdb_id'],\n",
       "      dtype='object')"
      ]
     },
     "execution_count": 65,
     "metadata": {},
     "output_type": "execute_result"
    }
   ],
   "source": [
    "df_full.columns"
   ]
  },
  {
   "cell_type": "code",
   "execution_count": null,
   "metadata": {
    "execution": {
     "iopub.execute_input": "2025-03-16T13:38:47.573304Z",
     "iopub.status.busy": "2025-03-16T13:38:47.573010Z",
     "iopub.status.idle": "2025-03-16T13:47:52.833668Z",
     "shell.execute_reply": "2025-03-16T13:47:52.832824Z",
     "shell.execute_reply.started": "2025-03-16T13:38:47.573282Z"
    },
    "trusted": true
   },
   "outputs": [
    {
     "name": "stdout",
     "output_type": "stream",
     "text": [
      "⏳ Preparing vectors and metadata...\n",
      "✅ Vector preparation completed in 20.30 seconds.\n",
      "\n",
      "🚀 Starting batch upserts...\n",
      "✅ Data upload completed in 524.88 seconds.\n",
      "\n",
      "{'dimension': 1024,\n",
      " 'index_fullness': 0.0,\n",
      " 'metric': 'cosine',\n",
      " 'namespaces': {'': {'vector_count': 88188}},\n",
      " 'total_vector_count': 88188,\n",
      " 'vector_type': 'dense'}\n"
     ]
    }
   ],
   "source": [
    "import itertools\n",
    "from pinecone import Pinecone\n",
    "import numpy as np\n",
    "import pandas as pd\n",
    "import time\n",
    "\n",
    "pc = Pinecone(api_key=\"api_key\")\n",
    "index_name = \"to-all-the-films\"\n",
    "index = pc.Index(index_name)\n",
    "\n",
    "print(\"⏳ Preparing vectors and metadata...\")\n",
    "start_time = time.time()\n",
    "\n",
    "# Prepare vectors\n",
    "vectors = []\n",
    "for _, row in df_full.iterrows():\n",
    "    vector = np.array(row[\"embedding\"]).tolist()  \n",
    "    metadata = {\n",
    "        \"title\": row[\"title\"],\n",
    "        \"release_date\": str(row[\"release_date\"]),\n",
    "        \"runtime\": row[\"runtime\"],\n",
    "        \"adult\": row[\"adult\"],\n",
    "        \"genres\": row[\"genres\"],\n",
    "        \"average_rating\": row[\"average_rating\"],\n",
    "        \"vote_count\": row[\"vote_count\"],\n",
    "        \"hybrid_score\": row[\"hybrid_score\"],\n",
    "        \"popularity_rank\": row[\"popularity_rank\"],\n",
    "        \"imdb_id\": row[\"imdb_id\"],\n",
    "        \"backdrop_path\": row[\"backdrop_path\"],\n",
    "    }\n",
    "    vectors.append((str(row[\"id\"]), vector, metadata))\n",
    "\n",
    "prep_time = time.time() - start_time\n",
    "print(f\"✅ Vector preparation completed in {prep_time:.2f} seconds.\\n\")\n",
    "\n",
    "# Upload to Pinecone\n",
    "upload_start_time = time.time()\n",
    "batch_size = 200\n",
    "\n",
    "def chunks(iterable, size):\n",
    "    \"\"\"Helper function to chunk list into batches\"\"\"\n",
    "    for i in range(0, len(iterable), size):\n",
    "        yield iterable[i : i + size]\n",
    "\n",
    "print(\"🚀 Starting batch upserts...\")\n",
    "for batch in chunks(vectors, batch_size):\n",
    "    index.upsert(vectors=batch)\n",
    "\n",
    "upload_time = time.time() - upload_start_time\n",
    "print(f\"✅ Data upload completed in {upload_time:.2f} seconds.\\n\")\n",
    "\n",
    "\n",
    "\n",
    "print(index.describe_index_stats())\n",
    "\n",
    "\n",
    "# print(\"🔍 Running a sample query...\")\n",
    "# query_start = time.time()\n",
    "\n",
    "# query_vector = np.random.rand(386).tolist()\n",
    "# results = index.query(vector=query_vector, top_k=5, include_metadata=True)\n",
    "\n",
    "# query_time = time.time() - query_start\n",
    "# print(f\"✅ Query executed in {query_time:.4f} seconds.\\n\")\n",
    "\n",
    "\n",
    "# print(\"\\n🎬 Recommended Movies:\")\n",
    "# for match in results[\"matches\"]:\n",
    "#     print(f\"🎥 {match['metadata']['title']} (Score: {match['score']})\")\n",
    "#     print(f\"📅 Release Date: {match['metadata']['release_date']}\")\n",
    "#     print(f\"🔗 IMDb: https://www.imdb.com/title/{match['metadata']['imdb_id']}\")\n",
    "#     print(f\"🖼️ Backdrop: https://image.tmdb.org/t/p/original{match['metadata']['backdrop_path']}\\n\")\n",
    "\n",
    "# pc = Pinecone(api_key=\"api_key\", pool_threads=30)\n",
    "\n",
    "# # Your index name\n",
    "# index_name = \"to-all-the-films\"\n",
    "# index = pc.Index(index_name)\n",
    "\n",
    "# # Helper function to break data into chunks\n",
    "# def chunks(iterable, batch_size=1000):\n",
    "#     \"\"\"A helper function to break an iterable into chunks of size batch_size.\"\"\"\n",
    "#     it = iter(iterable)\n",
    "#     chunk = tuple(itertools.islice(it, batch_size))\n",
    "#     while chunk:\n",
    "#         yield chunk\n",
    "#         chunk = tuple(itertools.islice(it, batch_size))\n",
    "\n",
    "# # Prepare your vectors and metadata\n",
    "# start_time = time.time()\n",
    "# print(\"🔄 Preparing vectors and metadata...\")\n",
    "\n",
    "# vectors = []\n",
    "# for _, row in df_full.iterrows():\n",
    "#     vector = np.array(row[\"embedding\"]).tolist()  \n",
    "    # metadata = {\n",
    "    #     \"title\": row[\"title\"],\n",
    "    #     \"release_date\": str(row[\"release_date\"]),\n",
    "    #     \"runtime\": row[\"runtime\"],  \n",
    "    #     \"adult\": row[\"adult\"],  \n",
    "    #     \"genres\": row[\"genres\"], \n",
    "    #     \"average_rating\": row[\"average_rating\"],  \n",
    "    #     \"vote_count\": row[\"vote_count\"], \n",
    "    #     \"hybrid_score\": row[\"hybrid_score\"],  \n",
    "    #     \"popularity_rank\": row[\"popularity_rank\"],  \n",
    "    #     \"imdb_id\": row[\"imdb_id\"],  \n",
    "    #     \"backdrop_path\": row[\"backdrop_path\"], \n",
    "    # }\n",
    "#     vectors.append((str(row[\"id\"]), vector, metadata))\n",
    "\n",
    "# prep_time = time.time() - start_time\n",
    "# print(f\"✅ Vector preparation completed in {prep_time:.2f} seconds.\")\n",
    "\n",
    "# # Start upsert process timing\n",
    "# start_upsert = time.time()\n",
    "# print(\"🚀 Starting batch upserts...\")\n",
    "\n",
    "# try:\n",
    "#     with pc.Index(index_name, pool_threads=30) as index:\n",
    "#         async_results = []\n",
    "        \n",
    "#         for ids_vectors_chunk in chunks(vectors, batch_size=1000):\n",
    "#             async_results.append(\n",
    "#                 index.upsert(vectors=ids_vectors_chunk, async_req=True)  \n",
    "#             )\n",
    "        \n",
    "#         # Wait for and retrieve responses (handling errors)\n",
    "#         for async_result in async_results:\n",
    "#             try:\n",
    "#                 async_result.get()\n",
    "#             except Exception as e:\n",
    "#                 print(f\"⚠️ Error during upsert: {e}\")\n",
    "\n",
    "#     upsert_time = time.time() - start_upsert\n",
    "#     print(f\"✅ Upserts completed in {upsert_time:.2f} seconds.\")\n",
    "\n",
    "# except Exception as e:\n",
    "#     print(f\"❌ Error during Pinecone connection: {e}\")\n",
    "\n",
    "# # Query the index for recommendations (example)\n",
    "# query_vector = np.random.rand(386).tolist()\n",
    "# results = index.query(vector=query_vector, top_k=5, include_metadata=True)\n",
    "\n",
    "# query_time = time.time() - start_query\n",
    "# print(f\"✅ Query executed in {query_time:.2f} seconds.\\n\")\n",
    "\n",
    "\n",
    "# print(\"\\n🎬 Recommended Movies:\")\n",
    "# for match in results[\"matches\"]:\n",
    "#     print(f\"🎥 {match['metadata']['title']} (Score: {match['score']})\")\n",
    "#     print(f\"📅 Release Date: {match['metadata']['release_date']}\")\n",
    "#     print(f\"🔗 IMDb: https://www.imdb.com/title/{match['metadata']['imdb_id']}\")\n",
    "#     print(f\"🖼️ Backdrop: https://image.tmdb.org/t/p/original{match['metadata']['backdrop_path']}\\n\")\n"
   ]
  },
  {
   "cell_type": "code",
   "execution_count": null,
   "metadata": {},
   "outputs": [],
   "source": [
    "import time\n",
    "import numpy as np\n",
    "from pinecone import Pinecone\n",
    "\n",
    "# Initialize Pinecone\n",
    "pc = Pinecone(api_key=\"api_key\")\n",
    "index_name = \"to-all-the-films\"\n",
    "index = pc.Index(index_name)\n",
    "\n",
    "query_start = time.time()\n",
    "\n",
    "# Fetch movie row for the given movie ID\n",
    "movie_row = df_full[df_full[\"id\"] == 46738]\n",
    "\n",
    "if not movie_row.empty:\n",
    "    query_vector = np.array(movie_row.iloc[0][\"text_embedding\"]).tolist()\n",
    "\n",
    "    # Execute the query\n",
    "    results = index.query(vector=query_vector, top_k=5, include_metadata=True)\n",
    "\n",
    "    query_time = time.time() - query_start\n",
    "    print(f\"✅ Query executed in {query_time:.4f} seconds.\\n\")\n",
    "\n",
    "    print(\"\\n🎬 Recommended Movies:\")\n",
    "    for match in results[\"matches\"]:\n",
    "        print(f\"🎥 {match['metadata']['title']} (Score: {match['score']})\")\n",
    "        print(f\"📅 Release Date: {match['metadata']['release_date']}\")\n",
    "        print(f\"🔗 IMDb: https://www.imdb.com/title/{match['metadata']['imdb_id']}\")\n",
    "        print(f\"🖼️ Backdrop: https://image.tmdb.org/t/p/original{match['metadata']['backdrop_path']}\\n\")\n",
    "else:\n",
    "    print(\"⚠️ Movie ID 46738 not found in dataset.\")\n"
   ]
  },
  {
   "cell_type": "code",
   "execution_count": 32,
   "metadata": {
    "execution": {
     "iopub.execute_input": "2025-03-16T04:56:46.069325Z",
     "iopub.status.busy": "2025-03-16T04:56:46.068863Z",
     "iopub.status.idle": "2025-03-16T04:56:46.101434Z",
     "shell.execute_reply": "2025-03-16T04:56:46.100480Z",
     "shell.execute_reply.started": "2025-03-16T04:56:46.069286Z"
    },
    "trusted": true
   },
   "outputs": [
    {
     "name": "stdout",
     "output_type": "stream",
     "text": [
      "{'dimension': 384,\n",
      " 'index_fullness': 0.0,\n",
      " 'metric': 'cosine',\n",
      " 'namespaces': {'': {'vector_count': 510079}},\n",
      " 'total_vector_count': 510079,\n",
      " 'vector_type': 'dense'}\n"
     ]
    }
   ],
   "source": [
    "stats = index.describe_index_stats()\n",
    "print(stats)"
   ]
  },
  {
   "cell_type": "code",
   "execution_count": 47,
   "metadata": {
    "execution": {
     "iopub.execute_input": "2025-03-16T13:08:56.233031Z",
     "iopub.status.busy": "2025-03-16T13:08:56.232738Z",
     "iopub.status.idle": "2025-03-16T13:08:56.257954Z",
     "shell.execute_reply": "2025-03-16T13:08:56.257024Z",
     "shell.execute_reply.started": "2025-03-16T13:08:56.233010Z"
    },
    "trusted": true
   },
   "outputs": [
    {
     "name": "stdout",
     "output_type": "stream",
     "text": [
      "title                                the phantom lover  my first wedding  \\\n",
      "title                                                                      \n",
      "the phantom lover                             1.000000          0.530796   \n",
      "my first wedding                              0.530796          1.000000   \n",
      "masquerade                                    0.499298          0.539560   \n",
      "wasteland                                     0.544909          0.589311   \n",
      "design for living                             0.497631          0.643177   \n",
      "bhagyadevatha                                 0.496808          0.522895   \n",
      "our family                                    0.530939          0.646953   \n",
      "beyond the visible - hilma af klint           0.444108          0.470031   \n",
      "the scandalous lady w                         0.520047          0.587709   \n",
      "goodbye pork pie                              0.461065          0.545415   \n",
      "\n",
      "title                                masquerade  wasteland  design for living  \\\n",
      "title                                                                           \n",
      "the phantom lover                      0.499298   0.544909           0.497631   \n",
      "my first wedding                       0.539560   0.589311           0.643177   \n",
      "masquerade                             1.000000   0.574289           0.544490   \n",
      "wasteland                              0.574289   1.000000           0.582393   \n",
      "design for living                      0.544490   0.582393           1.000000   \n",
      "bhagyadevatha                          0.496301   0.550578           0.501683   \n",
      "our family                             0.488031   0.636736           0.604214   \n",
      "beyond the visible - hilma af klint    0.498069   0.442683           0.478175   \n",
      "the scandalous lady w                  0.560425   0.560270           0.570628   \n",
      "goodbye pork pie                       0.495058   0.578964           0.513440   \n",
      "\n",
      "title                                bhagyadevatha  our family  \\\n",
      "title                                                            \n",
      "the phantom lover                         0.496808    0.530939   \n",
      "my first wedding                          0.522895    0.646953   \n",
      "masquerade                                0.496301    0.488031   \n",
      "wasteland                                 0.550578    0.636736   \n",
      "design for living                         0.501683    0.604214   \n",
      "bhagyadevatha                             1.000000    0.514328   \n",
      "our family                                0.514328    1.000000   \n",
      "beyond the visible - hilma af klint       0.404618    0.448627   \n",
      "the scandalous lady w                     0.470819    0.563800   \n",
      "goodbye pork pie                          0.460168    0.538097   \n",
      "\n",
      "title                                beyond the visible - hilma af klint  \\\n",
      "title                                                                      \n",
      "the phantom lover                                               0.444108   \n",
      "my first wedding                                                0.470031   \n",
      "masquerade                                                      0.498069   \n",
      "wasteland                                                       0.442683   \n",
      "design for living                                               0.478175   \n",
      "bhagyadevatha                                                   0.404618   \n",
      "our family                                                      0.448627   \n",
      "beyond the visible - hilma af klint                             1.000000   \n",
      "the scandalous lady w                                           0.471710   \n",
      "goodbye pork pie                                                0.344306   \n",
      "\n",
      "title                                the scandalous lady w  goodbye pork pie  \n",
      "title                                                                         \n",
      "the phantom lover                                 0.520047          0.461065  \n",
      "my first wedding                                  0.587709          0.545415  \n",
      "masquerade                                        0.560425          0.495058  \n",
      "wasteland                                         0.560270          0.578964  \n",
      "design for living                                 0.570628          0.513440  \n",
      "bhagyadevatha                                     0.470819          0.460168  \n",
      "our family                                        0.563800          0.538097  \n",
      "beyond the visible - hilma af klint               0.471710          0.344306  \n",
      "the scandalous lady w                             1.000000          0.507533  \n",
      "goodbye pork pie                                  0.507533          1.000000  \n"
     ]
    }
   ],
   "source": [
    "import numpy as np\n",
    "import pandas as pd\n",
    "from sklearn.metrics.pairwise import cosine_similarity\n",
    "\n",
    "# Sample 10 random movies from your dataset\n",
    "sampled_movies = df_for_model2.sample(10, random_state=42)\n",
    "\n",
    "# Extract their embeddings\n",
    "sampled_embeddings = np.stack(sampled_movies[\"embedding\"].values)  # Ensure it's a 2D NumPy array\n",
    "\n",
    "# Compute cosine similarity between all sampled embeddings\n",
    "similarity_matrix = cosine_similarity(sampled_embeddings)\n",
    "\n",
    "# Convert to DataFrame for readability\n",
    "similarity_df = pd.DataFrame(similarity_matrix, index=sampled_movies[\"title\"], columns=sampled_movies[\"title\"])\n",
    "\n",
    "print(similarity_df)\n"
   ]
  },
  {
   "cell_type": "code",
   "execution_count": 48,
   "metadata": {
    "execution": {
     "iopub.execute_input": "2025-03-16T13:11:03.547471Z",
     "iopub.status.busy": "2025-03-16T13:11:03.547152Z",
     "iopub.status.idle": "2025-03-16T13:11:03.552448Z",
     "shell.execute_reply": "2025-03-16T13:11:03.551601Z",
     "shell.execute_reply.started": "2025-03-16T13:11:03.547447Z"
    },
    "trusted": true
   },
   "outputs": [
    {
     "name": "stdout",
     "output_type": "stream",
     "text": [
      "0.9999999\n"
     ]
    }
   ],
   "source": [
    "print(np.linalg.norm(df_for_model[\"embedding\"].iloc[0]))  \n"
   ]
  },
  {
   "cell_type": "code",
   "execution_count": 23,
   "metadata": {
    "execution": {
     "iopub.execute_input": "2025-03-16T07:34:35.300056Z",
     "iopub.status.busy": "2025-03-16T07:34:35.299588Z",
     "iopub.status.idle": "2025-03-16T07:34:35.317781Z",
     "shell.execute_reply": "2025-03-16T07:34:35.316446Z",
     "shell.execute_reply.started": "2025-03-16T07:34:35.300006Z"
    },
    "trusted": true
   },
   "outputs": [
    {
     "data": {
      "text/plain": [
       "count    167043.000000\n",
       "mean        126.679220\n",
       "std         822.598009\n",
       "min           3.000000\n",
       "25%           4.000000\n",
       "50%           8.000000\n",
       "75%          26.000000\n",
       "max       34495.000000\n",
       "Name: vote_count, dtype: float64"
      ]
     },
     "execution_count": 23,
     "metadata": {},
     "output_type": "execute_result"
    }
   ],
   "source": [
    "df['vote_count'].describe()"
   ]
  }
 ],
 "metadata": {
  "kaggle": {
   "accelerator": "gpu",
   "dataSources": [
    {
     "databundleVersionId": 4901573,
     "datasetId": 2803510,
     "sourceId": 4837737,
     "sourceType": "datasetVersion"
    },
    {
     "databundleVersionId": 11433903,
     "datasetId": 3816617,
     "sourceId": 11048750,
     "sourceType": "datasetVersion"
    },
    {
     "databundleVersionId": 11220006,
     "datasetId": 6743024,
     "sourceId": 10855981,
     "sourceType": "datasetVersion"
    },
    {
     "sourceId": 227877216,
     "sourceType": "kernelVersion"
    }
   ],
   "dockerImageVersionId": 30919,
   "isGpuEnabled": true,
   "isInternetEnabled": true,
   "language": "python",
   "sourceType": "notebook"
  },
  "kernelspec": {
   "display_name": "Python 3",
   "language": "python",
   "name": "python3"
  },
  "language_info": {
   "codemirror_mode": {
    "name": "ipython",
    "version": 3
   },
   "file_extension": ".py",
   "mimetype": "text/x-python",
   "name": "python",
   "nbconvert_exporter": "python",
   "pygments_lexer": "ipython3",
   "version": "3.10.12"
  }
 },
 "nbformat": 4,
 "nbformat_minor": 4
}
